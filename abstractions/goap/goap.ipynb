{
 "cells": [
  {
   "cell_type": "code",
   "execution_count": 1,
   "metadata": {},
   "outputs": [],
   "source": [
    "from pydantic import BaseModel, Field, ValidationError, validator, field_validator\n",
    "from typing import Annotated, Any, Dict, List, Optional, Set, Union\n",
    "from pydantic.functional_validators import AfterValidator\n",
    "import uuid\n",
    "from abstractions.goap.entity import Entity, Attribute,RegistryHolder\n",
    "from pydantic import BaseModel, Field, ValidationError, ValidationInfo\n",
    "from pydantic.functional_validators import field_validator"
   ]
  },
  {
   "cell_type": "code",
   "execution_count": 2,
   "metadata": {},
   "outputs": [
    {
     "name": "stdout",
     "output_type": "stream",
     "text": [
      "Example usage with nested entities:\n",
      "Validation error: 1 validation error for LockableDoor\n",
      "gang\n",
      "  Value error, Attributes must be instances of Attribute or Entity, got str for field gang [type=value_error, input_value='gang', input_type=str]\n",
      "    For further information visit https://errors.pydantic.dev/2.1.2/v/value_error\n",
      "\n",
      "Example usage with multiple inheritance:\n",
      "name='Exit' id='f0335182-a342-427f-867c-55f24847d74d' boh='boh' locked=Locked(name='Locked', id='3ec3922f-0cc9-45c4-b4f2-3dd8d79c45bd', value=True) open=Open(name='Open', id='07434bdf-8910-4ca4-ac17-8c15a49e20cd', value=True) color=Color(name='Color', id='d70c7a49-f1db-4999-b3bc-79a2857328c1', value='white') material=Material(name='Material', id='097fcc2e-e2c1-43f9-b072-2a5b5f27082d', value='wood')\n"
     ]
    }
   ],
   "source": [
    "# Specific attribute classes inheriting from Attribute\n",
    "class Open(Attribute):\n",
    "    value: bool = Field(default=True, description=\"Indicates if the entity is open or closed\")\n",
    "\n",
    "class Locked(Attribute):\n",
    "    value: bool = Field(default=False, description=\"Indicates if the entity is locked or unlocked\")\n",
    "\n",
    "class Color(Attribute):\n",
    "    value: str = Field(default=\"white\", description=\"The color of the entity\")\n",
    "\n",
    "class Material(Attribute):\n",
    "    value: str = Field(default=\"wood\", description=\"The material of the entity\")\n",
    "\n",
    "\n",
    "# Door entity inheriting from Entity\n",
    "class Door(Entity):\n",
    "    open: Open = Field(default_factory=Open, description=\"Attribute to indicate door's open state\")\n",
    "    color: Color = Field(default_factory=Color, description=\"Attribute for the door's color\")\n",
    "    material: Material = Field(default_factory=Material, description=\"Attribute representing the door's material\")\n",
    "\n",
    "# Lock entity inheriting from Entity\n",
    "class Lock(Entity):\n",
    "    locked: Locked = Field(default_factory=Locked, description=\"Lock state, unlocked or locked\")\n",
    "\n",
    "# LockableDoor entity inheriting from Door and including a Lock entity\n",
    "class LockableDoor(Door):\n",
    "    lock: Lock = Field(default_factory=Lock, description=\"Lock entity for the door\")\n",
    "    gang: str = Field(default=\"gang\", description=\"gang\")\n",
    "        \n",
    "\n",
    "#alternatively, you can use the following to inherit from both Door and Lock instead of storing a lock Entity\n",
    "class DoorLockable(Door,Lock):\n",
    "    pass\n",
    "\n",
    "# Example usage\n",
    "print(\"Example usage with nested entities:\")\n",
    "try:\n",
    "    lockable_door = LockableDoor(\n",
    "        name=\"Main Entrance\",\n",
    "        open=Open(value=True),\n",
    "        color=Color(value='white'),\n",
    "        material=Material(value='wood'),\n",
    "        lock=Lock(locked=Locked(value=True)),\n",
    "    )\n",
    "    print(lockable_door)\n",
    "except ValidationError as e:\n",
    "    print(f\"Validation error: {e}\")\n",
    "print(\"\\nExample usage with multiple inheritance:\")\n",
    "try:\n",
    "    door_lockable = DoorLockable(\n",
    "        name=\"Exit\",\n",
    "        open=Open(value=True),\n",
    "        color=Color(value='white'),\n",
    "        material=Material(value='wood'),\n",
    "        locked=Locked(value=True),\n",
    "        \n",
    "    )\n",
    "    print(door_lockable)\n",
    "except ValidationError as e:\n",
    "    print(f\"Validation error: {e}\")"
   ]
  },
  {
   "cell_type": "code",
   "execution_count": 6,
   "metadata": {},
   "outputs": [],
   "source": [
    "a = Entity()"
   ]
  },
  {
   "cell_type": "code",
   "execution_count": 7,
   "metadata": {},
   "outputs": [
    {
     "data": {
      "text/plain": [
       "Entity(name='Entity', id='f4ebe0a8-32bf-4c43-ad16-1d76d3d226c4', boh='boh')"
      ]
     },
     "execution_count": 7,
     "metadata": {},
     "output_type": "execute_result"
    }
   ],
   "source": [
    "a"
   ]
  },
  {
   "cell_type": "code",
   "execution_count": 5,
   "metadata": {},
   "outputs": [
    {
     "ename": "NameError",
     "evalue": "name 'lockable_door' is not defined",
     "output_type": "error",
     "traceback": [
      "\u001b[1;31m---------------------------------------------------------------------------\u001b[0m",
      "\u001b[1;31mNameError\u001b[0m                                 Traceback (most recent call last)",
      "Cell \u001b[1;32mIn[5], line 1\u001b[0m\n\u001b[1;32m----> 1\u001b[0m \u001b[43mlockable_door\u001b[49m\u001b[38;5;241m.\u001b[39mboh\n",
      "\u001b[1;31mNameError\u001b[0m: name 'lockable_door' is not defined"
     ]
    }
   ],
   "source": [
    "lockable_door.boh"
   ]
  },
  {
   "cell_type": "code",
   "execution_count": null,
   "metadata": {},
   "outputs": [
    {
     "data": {
      "text/plain": [
       "{'open': Open(name='Open', id='af729b9f-e33b-40f1-b67e-14a226078df3', value=True),\n",
       " 'color': Color(name='Color', id='d8987489-dbe1-46aa-b4e6-826cc2d7a565', value='white'),\n",
       " 'material': Material(name='Material', id='89f7198f-5c17-420c-828f-0e0998d7effb', value='wood'),\n",
       " 'locked': Locked(name='Locked', id='3f2b1d1f-0205-4bf7-ad7b-469c2bb1d373', value=True)}"
      ]
     },
     "execution_count": 3,
     "metadata": {},
     "output_type": "execute_result"
    }
   ],
   "source": [
    "lockable_door.all_attributes()"
   ]
  },
  {
   "cell_type": "code",
   "execution_count": null,
   "metadata": {},
   "outputs": [
    {
     "data": {
      "text/plain": [
       "[Open(name='Open', id='af729b9f-e33b-40f1-b67e-14a226078df3', value=True),\n",
       " Color(name='Color', id='d8987489-dbe1-46aa-b4e6-826cc2d7a565', value='white'),\n",
       " Material(name='Material', id='89f7198f-5c17-420c-828f-0e0998d7effb', value='wood'),\n",
       " Locked(name='Locked', id='3f2b1d1f-0205-4bf7-ad7b-469c2bb1d373', value=True),\n",
       " Open(name='Open', id='431ec6fd-27f9-447f-a3a3-0ac6d18e60b6', value=True),\n",
       " Color(name='Color', id='fc391112-2404-4461-a170-8cf7b19122a6', value='white'),\n",
       " Material(name='Material', id='6a9ad5c5-44fa-47c6-9e32-c796d20d6fa4', value='wood'),\n",
       " Locked(name='Locked', id='73282734-295b-4a06-86e7-a49b7159beb9', value=True)]"
      ]
     },
     "execution_count": 4,
     "metadata": {},
     "output_type": "execute_result"
    }
   ],
   "source": [
    "Attribute.all_instances()"
   ]
  },
  {
   "cell_type": "code",
   "execution_count": null,
   "metadata": {},
   "outputs": [
    {
     "data": {
      "text/plain": [
       "[Lock(name='Lock', id='2a15b9d6-c783-4c52-8c8f-abf913a66e68', locked=Locked(name='Locked', id='3f2b1d1f-0205-4bf7-ad7b-469c2bb1d373', value=True)),\n",
       " LockableDoor(name='Main Entrance', id='e6af401c-0bfa-485b-a22a-7b2aa7cfb347', open=Open(name='Open', id='af729b9f-e33b-40f1-b67e-14a226078df3', value=True), color=Color(name='Color', id='d8987489-dbe1-46aa-b4e6-826cc2d7a565', value='white'), material=Material(name='Material', id='89f7198f-5c17-420c-828f-0e0998d7effb', value='wood'), lock=Lock(name='Lock', id='2a15b9d6-c783-4c52-8c8f-abf913a66e68', locked=Locked(name='Locked', id='3f2b1d1f-0205-4bf7-ad7b-469c2bb1d373', value=True)), gang='gang'),\n",
       " DoorLockable(name='Exit', id='535e4f31-86b8-42bc-bb30-9f185c539ec0', locked=Locked(name='Locked', id='73282734-295b-4a06-86e7-a49b7159beb9', value=True), open=Open(name='Open', id='431ec6fd-27f9-447f-a3a3-0ac6d18e60b6', value=True), color=Color(name='Color', id='fc391112-2404-4461-a170-8cf7b19122a6', value='white'), material=Material(name='Material', id='6a9ad5c5-44fa-47c6-9e32-c796d20d6fa4', value='wood'))]"
      ]
     },
     "execution_count": 5,
     "metadata": {},
     "output_type": "execute_result"
    }
   ],
   "source": [
    "RegistryHolder.all_instances_by_type(Entity)"
   ]
  },
  {
   "cell_type": "code",
   "execution_count": null,
   "metadata": {},
   "outputs": [
    {
     "data": {
      "text/plain": [
       "['Lock', 'Color', 'Open', 'Locked', 'LockableDoor', 'DoorLockable', 'Material']"
      ]
     },
     "execution_count": 6,
     "metadata": {},
     "output_type": "execute_result"
    }
   ],
   "source": [
    "RegistryHolder.all_types()"
   ]
  },
  {
   "cell_type": "code",
   "execution_count": null,
   "metadata": {},
   "outputs": [
    {
     "name": "stdout",
     "output_type": "stream",
     "text": [
      "True\n",
      "True\n"
     ]
    }
   ],
   "source": [
    "def is_open(entity: Door) -> bool:\n",
    "    if hasattr(entity, 'open') and isinstance(entity.open, Open):\n",
    "        return entity.open.value\n",
    "    elif not hasattr(entity, 'open'):\n",
    "        raise ValueError(\"The provided entity does not have an 'open' attribute.\")\n",
    "    elif not isinstance(entity.open, Open):\n",
    "        raise TypeError(\"The provided entity does not have an 'open' attribute of type Open.\")\n",
    "\n",
    "def is_locked(entity: LockableDoor) -> bool:\n",
    "    if hasattr(entity, \"lock\") and hasattr(entity.lock, 'locked') and isinstance(entity.lock.locked, Locked):\n",
    "        return entity.lock.locked.value\n",
    "    elif not hasattr(entity, \"lock\"):\n",
    "        raise ValueError(\"The provided entity does not have a 'lock' attribute.\")\n",
    "    elif not hasattr(entity.lock, 'locked'):\n",
    "        raise ValueError(\"The provided entity.lock does not have a 'locked' attribute.\")\n",
    "    elif not isinstance(entity.lock.locked, Locked):\n",
    "        raise TypeError(\"The provided entity.lock does not have a 'locked' attribute of type Locked.\")\n",
    "    \n",
    "print(is_open(lockable_door))\n",
    "print(is_locked(lockable_door))\n"
   ]
  },
  {
   "cell_type": "code",
   "execution_count": null,
   "metadata": {},
   "outputs": [],
   "source": []
  }
 ],
 "metadata": {
  "kernelspec": {
   "display_name": "Python 3",
   "language": "python",
   "name": "python3"
  },
  "language_info": {
   "codemirror_mode": {
    "name": "ipython",
    "version": 3
   },
   "file_extension": ".py",
   "mimetype": "text/x-python",
   "name": "python",
   "nbconvert_exporter": "python",
   "pygments_lexer": "ipython3",
   "version": "3.10.6"
  }
 },
 "nbformat": 4,
 "nbformat_minor": 2
}
