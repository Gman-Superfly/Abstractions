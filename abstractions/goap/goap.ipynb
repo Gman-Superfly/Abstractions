{
 "cells": [
  {
   "cell_type": "code",
   "execution_count": 91,
   "metadata": {},
   "outputs": [
    {
     "name": "stdout",
     "output_type": "stream",
     "text": [
      "name='Main Entrance' id='3ac4ae68-4172-4d93-bf5d-16483769a13a' open=Open(name='Open', id='87d1cf1b-b099-4700-b446-e7e0d6282a68', value=True) color=Color(name='Color', id='fbbfc195-006e-41d3-836d-7f17ecd7af19', value='white') material=Material(name='Material', id='3ae3c743-91ed-4f62-aab9-a979fb0ea5cb', value='wood') lock=Lock(name='Lock', id='0d27400a-a4c4-4faa-8576-c89b2951bf81', locked=Locked(name='Locked', id='061e91b1-9db2-4f33-abef-546ba7af604a', value=True))\n"
     ]
    }
   ],
   "source": [
    "from pydantic import BaseModel, Field, ValidationError, validator, field_validator\n",
    "from typing import Annotated, Any, Dict, List, Optional, Set, Union\n",
    "from pydantic.functional_validators import AfterValidator\n",
    "import uuid\n",
    "from abstractions.goap.entity import Entity, Attribute,RegistryHolder"
   ]
  },
  {
   "cell_type": "code",
   "execution_count": 94,
   "metadata": {},
   "outputs": [
    {
     "name": "stdout",
     "output_type": "stream",
     "text": [
      "Example usage with nested entities:\n",
      "name='Main Entrance' id='bafe85ec-9de4-4a66-a0e4-1e71ed04e863' open=Open(name='Open', id='1d75e8ed-6ee4-4519-8d1f-53313301fc79', value=True) color=Color(name='Color', id='32312a5a-e4e3-42e1-8889-9785431d02de', value='white') material=Material(name='Material', id='f87cbc52-5fc0-4e93-b75f-75a257a5b4d3', value='wood') lock=Lock(name='Lock', id='e74038ba-f3f7-4ea3-a69e-94014f322845', locked=Locked(name='Locked', id='52d0dc97-31d5-4cea-9893-a56e3707e371', value=True))\n",
      "\n",
      "Example usage with multiple inheritance:\n",
      "name='Main Entrance' id='f080d353-bd7e-4875-a54e-a7b8b73b80ca' locked=Locked(name='Locked', id='00b67e7c-fff7-4581-89b9-714c2407afec', value=True) open=Open(name='Open', id='91b848da-13be-4441-8fd3-1908f3c9bea4', value=True) color=Color(name='Color', id='e9b20cd9-362b-4c6b-b1ee-0a24a8f0396d', value='white') material=Material(name='Material', id='e420e7c7-9382-495e-a443-65d0f4181d5b', value='wood')\n"
     ]
    }
   ],
   "source": [
    "# Specific attribute classes inheriting from Attribute\n",
    "class Open(Attribute):\n",
    "    value: bool = Field(default=True, description=\"Indicates if the entity is open or closed\")\n",
    "\n",
    "class Locked(Attribute):\n",
    "    value: bool = Field(default=False, description=\"Indicates if the entity is locked or unlocked\")\n",
    "\n",
    "class Color(Attribute):\n",
    "    value: str = Field(default=\"white\", description=\"The color of the entity\")\n",
    "\n",
    "class Material(Attribute):\n",
    "    value: str = Field(default=\"wood\", description=\"The material of the entity\")\n",
    "\n",
    "\n",
    "# Door entity inheriting from Entity\n",
    "class Door(Entity):\n",
    "    open: Open = Field(default_factory=Open, description=\"Attribute to indicate door's open state\")\n",
    "    color: Color = Field(default_factory=Color, description=\"Attribute for the door's color\")\n",
    "    material: Material = Field(default_factory=Material, description=\"Attribute representing the door's material\")\n",
    "\n",
    "# Lock entity inheriting from Entity\n",
    "class Lock(Entity):\n",
    "    locked: Locked = Field(default_factory=Locked, description=\"Lock state, unlocked or locked\")\n",
    "\n",
    "# LockableDoor entity inheriting from Door and including a Lock entity\n",
    "class LockableDoor(Door):\n",
    "    lock: Lock = Field(default_factory=Lock, description=\"Lock entity for the door\")\n",
    "\n",
    "#alternatively, you can use the following to inherit from both Door and Lock instead of storing a lock Entity\n",
    "class DoorLockable(Door,Lock):\n",
    "    pass\n",
    "\n",
    "# Example usage\n",
    "print(\"Example usage with nested entities:\")\n",
    "try:\n",
    "    lockable_door = LockableDoor(\n",
    "        name=\"Main Entrance\",\n",
    "        open=Open(value=True),\n",
    "        color=Color(value='white'),\n",
    "        material=Material(value='wood'),\n",
    "        lock=Lock(locked=Locked(value=True))\n",
    "    )\n",
    "    print(lockable_door)\n",
    "except ValidationError as e:\n",
    "    print(f\"Validation error: {e}\")\n",
    "print(\"\\nExample usage with multiple inheritance:\")\n",
    "try:\n",
    "    door_lockable = DoorLockable(\n",
    "        name=\"Main Entrance\",\n",
    "        open=Open(value=True),\n",
    "        color=Color(value='white'),\n",
    "        material=Material(value='wood'),\n",
    "        locked=Locked(value=True)\n",
    "    )\n",
    "    print(door_lockable)\n",
    "except ValidationError as e:\n",
    "    print(f\"Validation error: {e}\")"
   ]
  },
  {
   "cell_type": "code",
   "execution_count": 89,
   "metadata": {},
   "outputs": [
    {
     "data": {
      "text/plain": [
       "{'open': Open(name='Open', id='30231c83-2a80-4a93-95dc-8554a63db02d', value=True),\n",
       " 'color': Color(name='Color', id='cd6af90f-c26a-40ee-9e11-b7f6e05604a3', value='white'),\n",
       " 'material': Material(name='Material', id='2ce99ded-f72e-44ad-9ccb-83c962f111d9', value='wood'),\n",
       " 'locked': Locked(name='Locked', id='faf9a0ae-3780-41d4-afcf-6de6fda0576a', value=True)}"
      ]
     },
     "execution_count": 89,
     "metadata": {},
     "output_type": "execute_result"
    }
   ],
   "source": [
    "lockable_door.all_attributes()"
   ]
  },
  {
   "cell_type": "code",
   "execution_count": 76,
   "metadata": {},
   "outputs": [
    {
     "data": {
      "text/plain": [
       "[Open(name='Open', id='c7c26627-f8e7-4d54-9212-51786c3992a6', value=True),\n",
       " Color(name='Color', id='9e6e483e-b1ee-41c6-8f7f-41c2ec9dfb90', value='white'),\n",
       " Material(name='Material', id='56d7d9db-8d9f-4ff0-a3e9-99cdef1ec534', value='wood'),\n",
       " Locked(name='Locked', id='8c6dd8ed-651d-461c-b893-b1ff831487ac', value=True)]"
      ]
     },
     "execution_count": 76,
     "metadata": {},
     "output_type": "execute_result"
    }
   ],
   "source": [
    "Attribute.all_instances()"
   ]
  },
  {
   "cell_type": "code",
   "execution_count": 68,
   "metadata": {},
   "outputs": [
    {
     "data": {
      "text/plain": [
       "2"
      ]
     },
     "execution_count": 68,
     "metadata": {},
     "output_type": "execute_result"
    }
   ],
   "source": [
    "RegistryHolder.all_instances_by_type(Entity)"
   ]
  },
  {
   "cell_type": "code",
   "execution_count": 85,
   "metadata": {},
   "outputs": [
    {
     "data": {
      "text/plain": [
       "['Locked', 'Material', 'Open', 'LockableDoor', 'Color', 'Lock']"
      ]
     },
     "execution_count": 85,
     "metadata": {},
     "output_type": "execute_result"
    }
   ],
   "source": [
    "RegistryHolder.all_types()"
   ]
  },
  {
   "cell_type": "code",
   "execution_count": 95,
   "metadata": {},
   "outputs": [
    {
     "name": "stdout",
     "output_type": "stream",
     "text": [
      "True\n",
      "True\n"
     ]
    }
   ],
   "source": [
    "def is_open(entity: Door) -> bool:\n",
    "    if hasattr(entity, 'open') and isinstance(entity.open, Open):\n",
    "        return entity.open.value\n",
    "    elif not hasattr(entity, 'open'):\n",
    "        raise ValueError(\"The provided entity does not have an 'open' attribute.\")\n",
    "    elif not isinstance(entity.open, Open):\n",
    "        raise TypeError(\"The provided entity does not have an 'open' attribute of type Open.\")\n",
    "\n",
    "def is_locked(entity: LockableDoor) -> bool:\n",
    "    if hasattr(entity, \"lock\") and hasattr(entity.lock, 'locked') and isinstance(entity.lock.locked, Locked):\n",
    "        return entity.lock.locked.value\n",
    "    elif not hasattr(entity, \"lock\"):\n",
    "        raise ValueError(\"The provided entity does not have a 'lock' attribute.\")\n",
    "    elif not hasattr(entity.lock, 'locked'):\n",
    "        raise ValueError(\"The provided entity.lock does not have a 'locked' attribute.\")\n",
    "    elif not isinstance(entity.lock.locked, Locked):\n",
    "        raise TypeError(\"The provided entity.lock does not have a 'locked' attribute of type Locked.\")\n",
    "    \n",
    "print(is_open(lockable_door))\n",
    "print(is_locked(lockable_door))\n"
   ]
  },
  {
   "cell_type": "code",
   "execution_count": null,
   "metadata": {},
   "outputs": [],
   "source": []
  }
 ],
 "metadata": {
  "kernelspec": {
   "display_name": "Python 3",
   "language": "python",
   "name": "python3"
  },
  "language_info": {
   "codemirror_mode": {
    "name": "ipython",
    "version": 3
   },
   "file_extension": ".py",
   "mimetype": "text/x-python",
   "name": "python",
   "nbconvert_exporter": "python",
   "pygments_lexer": "ipython3",
   "version": "3.10.6"
  }
 },
 "nbformat": 4,
 "nbformat_minor": 2
}
