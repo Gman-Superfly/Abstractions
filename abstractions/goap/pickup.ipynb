{
 "cells": [
  {
   "cell_type": "code",
   "execution_count": 1,
   "metadata": {},
   "outputs": [],
   "source": [
    "from abstractions.goap.actions import Action,Prerequisites,Consequences\n",
    "from abstractions.goap.entity import Statement\n",
    "from abstractions.goap.movement import source_node_comparison\n",
    "from abstractions.goap.spatial import GameEntity, Attribute, ActionInstance, GridMap,ActionsPayload, Node\n",
    "from abstractions.goap.interactions import *\n",
    "from typing import Optional, Callable, List, Tuple, Dict\n"
   ]
  },
  {
   "cell_type": "code",
   "execution_count": 2,
   "metadata": {},
   "outputs": [],
   "source": [
    "\n",
    "\n",
    "# Create a grid map\n",
    "grid_map = GridMap(width=5, height=5)\n",
    "\n",
    "# Create floor entities and add them to the grid map\n",
    "for x in range(grid_map.width):\n",
    "    for y in range(grid_map.height):\n",
    "        floor = Floor(name=f\"Floor_{x}_{y}\")\n",
    "        floor.set_node(grid_map.get_node((x, y)))\n",
    "\n",
    "# Create a character entity\n",
    "character = Character(name=\"Character\")\n",
    "character_id = character.id\n",
    "character.set_node(grid_map.get_node((2, 2)))\n",
    "\n",
    "# Create a test item entity\n",
    "test_item = TestItem(name=\"Test Item\")\n",
    "test_item_id = test_item.id\n",
    "test_item.set_node(grid_map.get_node((2, 2)))\n",
    "\n"
   ]
  },
  {
   "cell_type": "code",
   "execution_count": 3,
   "metadata": {},
   "outputs": [],
   "source": [
    "# Retrieve the updated entities from the registry\n",
    "updated_character = Character.get_instance(character_id)\n",
    "updated_test_item = TestItem.get_instance(test_item_id)\n"
   ]
  },
  {
   "cell_type": "code",
   "execution_count": 4,
   "metadata": {},
   "outputs": [
    {
     "name": "stdout",
     "output_type": "stream",
     "text": [
      "Character position: name='Position' id='73ef77a0-8904-4760-9895-aaa22f89932d' value=(2, 2)\n",
      "Test item position: name='Position' id='73ef77a0-8904-4760-9895-aaa22f89932d' value=(2, 2)\n",
      "Test item stored in: None\n",
      "Character inventory: []\n"
     ]
    }
   ],
   "source": [
    "print(f\"Character position: {updated_character.position}\")\n",
    "print(f\"Test item position: {updated_test_item.position}\")\n",
    "print(f\"Test item stored in: {updated_test_item.stored_in}\")\n",
    "print(f\"Character inventory: {updated_character.inventory}\")"
   ]
  },
  {
   "cell_type": "code",
   "execution_count": 5,
   "metadata": {},
   "outputs": [
    {
     "data": {
      "text/plain": [
       "Position(name='Position', id='73ef77a0-8904-4760-9895-aaa22f89932d', value=(2, 2))"
      ]
     },
     "execution_count": 5,
     "metadata": {},
     "output_type": "execute_result"
    }
   ],
   "source": [
    "updated_test_item.position"
   ]
  },
  {
   "cell_type": "code",
   "execution_count": 6,
   "metadata": {},
   "outputs": [
    {
     "name": "stdout",
     "output_type": "stream",
     "text": [
      "Applying 1 actions\n",
      "Pickup result: results=[ActionResult(action_instance=ActionInstance(source_id='ead96b51-1339-4d4a-a214-8d7ea8aa641a', target_id='e7634d75-e66f-4705-80a0-6952ecb19dfc', action=PickupAction(name='Pickup', prerequisites=Prerequisites(source_statements=[Statement(name='Statement', id='b48362fd-1224-4398-84c7-7c9e9161345d', conditions={'can_act': True}, comparisons={})], target_statements=[Statement(name='Statement', id='d6586e84-a6f6-46c4-8bcd-13cc0ca5dc3e', conditions={'is_pickupable': True}, comparisons={})], source_target_statements=[]), consequences=Consequences(source_transformations={'inventory': <function add_to_inventory at 0x000001E9A9EC0DC0>}, target_transformations={'stored_in': <function set_stored_in at 0x000001E9A9EC1D80>, 'node': None}))), success=False, error=\"Cannot remove an entity stored inside another entity's inventory directly from a node\")]\n",
      "Applying 3 actions\n",
      "Move result: results=[ActionResult(action_instance=ActionInstance(source_id='ead96b51-1339-4d4a-a214-8d7ea8aa641a', target_id='96723106-4f90-49f2-8b4d-21035fe1cf74', action=MoveStep(name='Move Step', prerequisites=Prerequisites(source_statements=[Statement(name='Statement', id='b08626e2-1873-4df6-8226-2280216aa342', conditions={'can_act': True}, comparisons={})], target_statements=[Statement(name='Statement', id='1adcf603-c763-4ac5-b89e-d6cf1d82e165', conditions={'blocks_movement': False}, comparisons={})], source_target_statements=[Statement(name='Statement', id='940ac7e9-6e05-44ff-b163-9d8df59b4b18', conditions={}, comparisons={'source_position': ('node', 'node', <function source_node_comparison at 0x000001E9A9EC2F80>)})]), consequences=Consequences(source_transformations={'node': <function move_to_target_node at 0x000001E9A9EC1CF0>}, target_transformations={}))), success=True, error=None), ActionResult(action_instance=ActionInstance(source_id='ead96b51-1339-4d4a-a214-8d7ea8aa641a', target_id='3a7fd251-87a0-45e8-8e92-1776d3f55487', action=MoveStep(name='Move Step', prerequisites=Prerequisites(source_statements=[Statement(name='Statement', id='b08626e2-1873-4df6-8226-2280216aa342', conditions={'can_act': True}, comparisons={})], target_statements=[Statement(name='Statement', id='1adcf603-c763-4ac5-b89e-d6cf1d82e165', conditions={'blocks_movement': False}, comparisons={})], source_target_statements=[Statement(name='Statement', id='940ac7e9-6e05-44ff-b163-9d8df59b4b18', conditions={}, comparisons={'source_position': ('node', 'node', <function source_node_comparison at 0x000001E9A9EC2F80>)})]), consequences=Consequences(source_transformations={'node': <function move_to_target_node at 0x000001E9A9EC1CF0>}, target_transformations={}))), success=True, error=None), ActionResult(action_instance=ActionInstance(source_id='ead96b51-1339-4d4a-a214-8d7ea8aa641a', target_id='d7367f9a-492b-45f4-846a-6ef81858d8e8', action=MoveStep(name='Move Step', prerequisites=Prerequisites(source_statements=[Statement(name='Statement', id='b08626e2-1873-4df6-8226-2280216aa342', conditions={'can_act': True}, comparisons={})], target_statements=[Statement(name='Statement', id='1adcf603-c763-4ac5-b89e-d6cf1d82e165', conditions={'blocks_movement': False}, comparisons={})], source_target_statements=[Statement(name='Statement', id='940ac7e9-6e05-44ff-b163-9d8df59b4b18', conditions={}, comparisons={'source_position': ('node', 'node', <function source_node_comparison at 0x000001E9A9EC2F80>)})]), consequences=Consequences(source_transformations={'node': <function move_to_target_node at 0x000001E9A9EC1CF0>}, target_transformations={}))), success=True, error=None)]\n"
     ]
    }
   ],
   "source": [
    "# Perform the pickup action\n",
    "pickup_action = ActionInstance(source_id=character_id, target_id=test_item_id, action=PickupAction())\n",
    "pickup_payload = ActionsPayload(actions=[pickup_action])\n",
    "pickup_result = grid_map.apply_actions_payload(pickup_payload)\n",
    "print(f\"Pickup result: {pickup_result}\")\n",
    "\n",
    "# Move the character 3 steps\n",
    "move_actions = [\n",
    "    ActionInstance(source_id=character_id, target_id=grid_map.get_node((2, 3)).entities[0].id, action=MoveStep()),\n",
    "    ActionInstance(source_id=character_id, target_id=grid_map.get_node((2, 4)).entities[0].id, action=MoveStep()),\n",
    "    ActionInstance(source_id=character_id, target_id=grid_map.get_node((3, 4)).entities[0].id, action=MoveStep())\n",
    "]\n",
    "move_payload = ActionsPayload(actions=move_actions)\n",
    "move_result = grid_map.apply_actions_payload(move_payload)\n",
    "print(f\"Move result: {move_result}\")\n",
    "\n"
   ]
  },
  {
   "cell_type": "code",
   "execution_count": 7,
   "metadata": {},
   "outputs": [],
   "source": [
    "# Retrieve the updated entities from the registry\n",
    "updated_character = Character.get_instance(character_id)\n",
    "updated_test_item = TestItem.get_instance(test_item_id)\n"
   ]
  },
  {
   "cell_type": "code",
   "execution_count": 8,
   "metadata": {},
   "outputs": [
    {
     "data": {
      "text/plain": [
       "Character(name=Character, id=ead96b51-1339-4d4a-a214-8d7ea8aa641a, blocks_movement=name='BlocksMovement' id='b5d6cb88-449d-4497-ad24-f2815ca6421d' value=False, blocks_light=name='BlocksLight' id='a556a32b-7ef8-400d-84fb-38c4fdc7efb5' value=False, node=Node(id=3e316869-6037-482f-80a2-ab0b1a05ea2c, position=(3, 4)), inventory=[TestItem(name=Test Item, id=e7634d75-e66f-4705-80a0-6952ecb19dfc, blocks_movement=name='BlocksMovement' id='6417fd92-1411-4405-aa32-936c2e85e81d' value=False, blocks_light=name='BlocksLight' id='bdcba89b-438f-4876-b355-e5f87810c506' value=False, node=Node(id=7bf0523c-4fa8-4e26-a9f0-c3e7c42b5cfb, position=(2, 2)), inventory=[], stored_in=name='Character' id='ead96b51-1339-4d4a-a214-8d7ea8aa641a' blocks_movement=BlocksMovement(name='BlocksMovement', id='b5d6cb88-449d-4497-ad24-f2815ca6421d', value=False) blocks_light=BlocksLight(name='BlocksLight', id='a556a32b-7ef8-400d-84fb-38c4fdc7efb5', value=False) node=Node(name='', id='3e316869-6037-482f-80a2-ab0b1a05ea2c', position=Position(name='Position', id='2d377f1c-4ca4-47df-a6ea-6d342893c324', value=(3, 4)), entities=[Floor(name=Floor_3_4, id=d7367f9a-492b-45f4-846a-6ef81858d8e8, blocks_movement=name='BlocksMovement' id='68938cd0-29f3-4ede-82e2-48fcf8d46c02' value=False, blocks_light=name='BlocksLight' id='4f6c9ee3-9b78-4c59-88f1-a6ed662efa2c' value=False, node=Node(id=3e316869-6037-482f-80a2-ab0b1a05ea2c, position=(3, 4)), inventory=[], stored_in=None), Character(name=Character, id=ead96b51-1339-4d4a-a214-8d7ea8aa641a, blocks_movement=name='BlocksMovement' id='b5d6cb88-449d-4497-ad24-f2815ca6421d' value=False, blocks_light=name='BlocksLight' id='a556a32b-7ef8-400d-84fb-38c4fdc7efb5' value=False, node=Node(id=3e316869-6037-482f-80a2-ab0b1a05ea2c, position=(3, 4)), inventory=[...], stored_in=None, can_act=name='can_act' id='1d4fcfdd-0ac5-48f5-95b1-6a5d50fba5d8' value=True)], grid_map=<abstractions.goap.spatial.GridMap object at 0x000001E9A9BFE170>, blocks_movement=False, blocks_light=False) inventory=[...] stored_in=None can_act=Attribute(name='can_act', id='1d4fcfdd-0ac5-48f5-95b1-6a5d50fba5d8', value=True), is_pickupable=name='is_pickupable' id='5e124e0b-6552-413f-a570-6aff07b4b949' value=True)], stored_in=None, can_act=name='can_act' id='1d4fcfdd-0ac5-48f5-95b1-6a5d50fba5d8' value=True)"
      ]
     },
     "execution_count": 8,
     "metadata": {},
     "output_type": "execute_result"
    }
   ],
   "source": [
    "updated_test_item.stored_in"
   ]
  },
  {
   "cell_type": "code",
   "execution_count": 9,
   "metadata": {},
   "outputs": [
    {
     "name": "stdout",
     "output_type": "stream",
     "text": [
      "Character position: name='Position' id='2d377f1c-4ca4-47df-a6ea-6d342893c324' value=(3, 4)\n",
      "Test item position: name='Position' id='2d377f1c-4ca4-47df-a6ea-6d342893c324' value=(3, 4)\n",
      "Test item position: name='Character' id='ead96b51-1339-4d4a-a214-8d7ea8aa641a' blocks_movement=BlocksMovement(name='BlocksMovement', id='b5d6cb88-449d-4497-ad24-f2815ca6421d', value=False) blocks_light=BlocksLight(name='BlocksLight', id='a556a32b-7ef8-400d-84fb-38c4fdc7efb5', value=False) node=Node(name='', id='3e316869-6037-482f-80a2-ab0b1a05ea2c', position=Position(name='Position', id='2d377f1c-4ca4-47df-a6ea-6d342893c324', value=(3, 4)), entities=[Floor(name=Floor_3_4, id=d7367f9a-492b-45f4-846a-6ef81858d8e8, blocks_movement=name='BlocksMovement' id='68938cd0-29f3-4ede-82e2-48fcf8d46c02' value=False, blocks_light=name='BlocksLight' id='4f6c9ee3-9b78-4c59-88f1-a6ed662efa2c' value=False, node=Node(id=3e316869-6037-482f-80a2-ab0b1a05ea2c, position=(3, 4)), inventory=[], stored_in=None), Character(name=Character, id=ead96b51-1339-4d4a-a214-8d7ea8aa641a, blocks_movement=name='BlocksMovement' id='b5d6cb88-449d-4497-ad24-f2815ca6421d' value=False, blocks_light=name='BlocksLight' id='a556a32b-7ef8-400d-84fb-38c4fdc7efb5' value=False, node=Node(id=3e316869-6037-482f-80a2-ab0b1a05ea2c, position=(3, 4)), inventory=[TestItem(name=Test Item, id=e7634d75-e66f-4705-80a0-6952ecb19dfc, blocks_movement=name='BlocksMovement' id='6417fd92-1411-4405-aa32-936c2e85e81d' value=False, blocks_light=name='BlocksLight' id='bdcba89b-438f-4876-b355-e5f87810c506' value=False, node=Node(id=7bf0523c-4fa8-4e26-a9f0-c3e7c42b5cfb, position=(2, 2)), inventory=[], stored_in=name='Character' id='ead96b51-1339-4d4a-a214-8d7ea8aa641a' blocks_movement=BlocksMovement(name='BlocksMovement', id='b5d6cb88-449d-4497-ad24-f2815ca6421d', value=False) blocks_light=BlocksLight(name='BlocksLight', id='a556a32b-7ef8-400d-84fb-38c4fdc7efb5', value=False) node=Node(name='', id='3e316869-6037-482f-80a2-ab0b1a05ea2c', position=Position(name='Position', id='2d377f1c-4ca4-47df-a6ea-6d342893c324', value=(3, 4)), entities=[...], grid_map=<abstractions.goap.spatial.GridMap object at 0x000001E9A9BFE170>, blocks_movement=False, blocks_light=False) inventory=[...] stored_in=None can_act=Attribute(name='can_act', id='1d4fcfdd-0ac5-48f5-95b1-6a5d50fba5d8', value=True), is_pickupable=name='is_pickupable' id='5e124e0b-6552-413f-a570-6aff07b4b949' value=True)], stored_in=None, can_act=name='can_act' id='1d4fcfdd-0ac5-48f5-95b1-6a5d50fba5d8' value=True)], grid_map=<abstractions.goap.spatial.GridMap object at 0x000001E9A9BFE170>, blocks_movement=False, blocks_light=False) inventory=[TestItem(name=Test Item, id=e7634d75-e66f-4705-80a0-6952ecb19dfc, blocks_movement=name='BlocksMovement' id='6417fd92-1411-4405-aa32-936c2e85e81d' value=False, blocks_light=name='BlocksLight' id='bdcba89b-438f-4876-b355-e5f87810c506' value=False, node=Node(id=7bf0523c-4fa8-4e26-a9f0-c3e7c42b5cfb, position=(2, 2)), inventory=[], stored_in=name='Character' id='ead96b51-1339-4d4a-a214-8d7ea8aa641a' blocks_movement=BlocksMovement(name='BlocksMovement', id='b5d6cb88-449d-4497-ad24-f2815ca6421d', value=False) blocks_light=BlocksLight(name='BlocksLight', id='a556a32b-7ef8-400d-84fb-38c4fdc7efb5', value=False) node=Node(name='', id='3e316869-6037-482f-80a2-ab0b1a05ea2c', position=Position(name='Position', id='2d377f1c-4ca4-47df-a6ea-6d342893c324', value=(3, 4)), entities=[Floor(name=Floor_3_4, id=d7367f9a-492b-45f4-846a-6ef81858d8e8, blocks_movement=name='BlocksMovement' id='68938cd0-29f3-4ede-82e2-48fcf8d46c02' value=False, blocks_light=name='BlocksLight' id='4f6c9ee3-9b78-4c59-88f1-a6ed662efa2c' value=False, node=Node(id=3e316869-6037-482f-80a2-ab0b1a05ea2c, position=(3, 4)), inventory=[], stored_in=None), Character(name=Character, id=ead96b51-1339-4d4a-a214-8d7ea8aa641a, blocks_movement=name='BlocksMovement' id='b5d6cb88-449d-4497-ad24-f2815ca6421d' value=False, blocks_light=name='BlocksLight' id='a556a32b-7ef8-400d-84fb-38c4fdc7efb5' value=False, node=Node(id=3e316869-6037-482f-80a2-ab0b1a05ea2c, position=(3, 4)), inventory=[...], stored_in=None, can_act=name='can_act' id='1d4fcfdd-0ac5-48f5-95b1-6a5d50fba5d8' value=True)], grid_map=<abstractions.goap.spatial.GridMap object at 0x000001E9A9BFE170>, blocks_movement=False, blocks_light=False) inventory=[...] stored_in=None can_act=Attribute(name='can_act', id='1d4fcfdd-0ac5-48f5-95b1-6a5d50fba5d8', value=True), is_pickupable=name='is_pickupable' id='5e124e0b-6552-413f-a570-6aff07b4b949' value=True)] stored_in=None can_act=Attribute(name='can_act', id='1d4fcfdd-0ac5-48f5-95b1-6a5d50fba5d8', value=True)\n",
      "Character inventory: [TestItem(name=Test Item, id=e7634d75-e66f-4705-80a0-6952ecb19dfc, blocks_movement=name='BlocksMovement' id='6417fd92-1411-4405-aa32-936c2e85e81d' value=False, blocks_light=name='BlocksLight' id='bdcba89b-438f-4876-b355-e5f87810c506' value=False, node=Node(id=7bf0523c-4fa8-4e26-a9f0-c3e7c42b5cfb, position=(2, 2)), inventory=[], stored_in=name='Character' id='ead96b51-1339-4d4a-a214-8d7ea8aa641a' blocks_movement=BlocksMovement(name='BlocksMovement', id='b5d6cb88-449d-4497-ad24-f2815ca6421d', value=False) blocks_light=BlocksLight(name='BlocksLight', id='a556a32b-7ef8-400d-84fb-38c4fdc7efb5', value=False) node=Node(name='', id='3e316869-6037-482f-80a2-ab0b1a05ea2c', position=Position(name='Position', id='2d377f1c-4ca4-47df-a6ea-6d342893c324', value=(3, 4)), entities=[Floor(name=Floor_3_4, id=d7367f9a-492b-45f4-846a-6ef81858d8e8, blocks_movement=name='BlocksMovement' id='68938cd0-29f3-4ede-82e2-48fcf8d46c02' value=False, blocks_light=name='BlocksLight' id='4f6c9ee3-9b78-4c59-88f1-a6ed662efa2c' value=False, node=Node(id=3e316869-6037-482f-80a2-ab0b1a05ea2c, position=(3, 4)), inventory=[], stored_in=None), Character(name=Character, id=ead96b51-1339-4d4a-a214-8d7ea8aa641a, blocks_movement=name='BlocksMovement' id='b5d6cb88-449d-4497-ad24-f2815ca6421d' value=False, blocks_light=name='BlocksLight' id='a556a32b-7ef8-400d-84fb-38c4fdc7efb5' value=False, node=Node(id=3e316869-6037-482f-80a2-ab0b1a05ea2c, position=(3, 4)), inventory=[...], stored_in=None, can_act=name='can_act' id='1d4fcfdd-0ac5-48f5-95b1-6a5d50fba5d8' value=True)], grid_map=<abstractions.goap.spatial.GridMap object at 0x000001E9A9BFE170>, blocks_movement=False, blocks_light=False) inventory=[...] stored_in=None can_act=Attribute(name='can_act', id='1d4fcfdd-0ac5-48f5-95b1-6a5d50fba5d8', value=True), is_pickupable=name='is_pickupable' id='5e124e0b-6552-413f-a570-6aff07b4b949' value=True)]\n"
     ]
    }
   ],
   "source": [
    "print(f\"Character position: {updated_character.position}\")\n",
    "print(f\"Test item position: {updated_test_item.position}\")\n",
    "print(f\"Test item position: {updated_test_item.stored_in}\")\n",
    "print(f\"Character inventory: {updated_character.inventory}\")"
   ]
  },
  {
   "cell_type": "code",
   "execution_count": 10,
   "metadata": {},
   "outputs": [
    {
     "name": "stdout",
     "output_type": "stream",
     "text": [
      "Applying 1 actions\n",
      "Drop result: results=[ActionResult(action_instance=ActionInstance(source_id='ead96b51-1339-4d4a-a214-8d7ea8aa641a', target_id='e7634d75-e66f-4705-80a0-6952ecb19dfc', action=DropAction(name='Drop', prerequisites=Prerequisites(source_statements=[Statement(name='Statement', id='6259b92b-f517-49ca-a217-3fdeefff9f09', conditions={'can_act': True}, comparisons={})], target_statements=[], source_target_statements=[]), consequences=Consequences(source_transformations={}, target_transformations={'stored_in': <function clear_stored_in at 0x000001E9A9EC3D90>, 'node': <function set_node at 0x000001E9A9EC1000>}))), success=True, error=None)]\n"
     ]
    }
   ],
   "source": [
    "\n",
    "# Perform the drop action at the new position\n",
    "drop_action = ActionInstance(source_id=character_id, target_id=test_item_id, action=DropAction())\n",
    "drop_payload = ActionsPayload(actions=[drop_action])\n",
    "drop_result = grid_map.apply_actions_payload(drop_payload)\n",
    "print(f\"Drop result: {drop_result}\")\n",
    "\n"
   ]
  },
  {
   "cell_type": "code",
   "execution_count": 11,
   "metadata": {},
   "outputs": [
    {
     "name": "stdout",
     "output_type": "stream",
     "text": [
      "Character inventory: []\n",
      "Character position: name='Position' id='2d377f1c-4ca4-47df-a6ea-6d342893c324' value=(3, 4)\n",
      "Test item position: name='Position' id='2d377f1c-4ca4-47df-a6ea-6d342893c324' value=(3, 4)\n",
      "Test item stored in: None\n"
     ]
    }
   ],
   "source": [
    "# Retrieve the updated entities from the registry\n",
    "updated_character = Character.get_instance(character_id)\n",
    "updated_test_item = TestItem.get_instance(test_item_id)\n",
    "print(f\"Character inventory: {updated_character.inventory}\")\n",
    "print(f\"Character position: {updated_character.position}\")\n",
    "print(f\"Test item position: {updated_test_item.position}\")\n",
    "print(f\"Test item stored in: {updated_test_item.stored_in}\")"
   ]
  },
  {
   "cell_type": "code",
   "execution_count": 12,
   "metadata": {},
   "outputs": [
    {
     "data": {
      "text/plain": [
       "[]"
      ]
     },
     "execution_count": 12,
     "metadata": {},
     "output_type": "execute_result"
    }
   ],
   "source": [
    "updated_character.inventory"
   ]
  },
  {
   "cell_type": "code",
   "execution_count": 13,
   "metadata": {},
   "outputs": [
    {
     "name": "stdout",
     "output_type": "stream",
     "text": [
      "Applying 3 actions\n",
      "Move back result: results=[ActionResult(action_instance=ActionInstance(source_id='ead96b51-1339-4d4a-a214-8d7ea8aa641a', target_id='3a7fd251-87a0-45e8-8e92-1776d3f55487', action=MoveStep(name='Move Step', prerequisites=Prerequisites(source_statements=[Statement(name='Statement', id='b08626e2-1873-4df6-8226-2280216aa342', conditions={'can_act': True}, comparisons={})], target_statements=[Statement(name='Statement', id='1adcf603-c763-4ac5-b89e-d6cf1d82e165', conditions={'blocks_movement': False}, comparisons={})], source_target_statements=[Statement(name='Statement', id='940ac7e9-6e05-44ff-b163-9d8df59b4b18', conditions={}, comparisons={'source_position': ('node', 'node', <function source_node_comparison at 0x000001E9A9EC2F80>)})]), consequences=Consequences(source_transformations={'node': <function move_to_target_node at 0x000001E9A9EC1CF0>}, target_transformations={}))), success=True, error=None), ActionResult(action_instance=ActionInstance(source_id='ead96b51-1339-4d4a-a214-8d7ea8aa641a', target_id='96723106-4f90-49f2-8b4d-21035fe1cf74', action=MoveStep(name='Move Step', prerequisites=Prerequisites(source_statements=[Statement(name='Statement', id='b08626e2-1873-4df6-8226-2280216aa342', conditions={'can_act': True}, comparisons={})], target_statements=[Statement(name='Statement', id='1adcf603-c763-4ac5-b89e-d6cf1d82e165', conditions={'blocks_movement': False}, comparisons={})], source_target_statements=[Statement(name='Statement', id='940ac7e9-6e05-44ff-b163-9d8df59b4b18', conditions={}, comparisons={'source_position': ('node', 'node', <function source_node_comparison at 0x000001E9A9EC2F80>)})]), consequences=Consequences(source_transformations={'node': <function move_to_target_node at 0x000001E9A9EC1CF0>}, target_transformations={}))), success=True, error=None), ActionResult(action_instance=ActionInstance(source_id='ead96b51-1339-4d4a-a214-8d7ea8aa641a', target_id='bf2f2f1c-d132-4166-9fa0-3eae61ef6d7f', action=MoveStep(name='Move Step', prerequisites=Prerequisites(source_statements=[Statement(name='Statement', id='b08626e2-1873-4df6-8226-2280216aa342', conditions={'can_act': True}, comparisons={})], target_statements=[Statement(name='Statement', id='1adcf603-c763-4ac5-b89e-d6cf1d82e165', conditions={'blocks_movement': False}, comparisons={})], source_target_statements=[Statement(name='Statement', id='940ac7e9-6e05-44ff-b163-9d8df59b4b18', conditions={}, comparisons={'source_position': ('node', 'node', <function source_node_comparison at 0x000001E9A9EC2F80>)})]), consequences=Consequences(source_transformations={'node': <function move_to_target_node at 0x000001E9A9EC1CF0>}, target_transformations={}))), success=True, error=None)]\n"
     ]
    }
   ],
   "source": [
    "\n",
    "# Move the character back to the original position\n",
    "move_back_actions = [\n",
    "    ActionInstance(source_id=character_id, target_id=grid_map.get_node((2, 4)).entities[0].id, action=MoveStep()),\n",
    "    ActionInstance(source_id=character_id, target_id=grid_map.get_node((2, 3)).entities[0].id, action=MoveStep()),\n",
    "    ActionInstance(source_id=character_id, target_id=grid_map.get_node((2, 2)).entities[0].id, action=MoveStep())\n",
    "]\n",
    "move_back_payload = ActionsPayload(actions=move_back_actions)\n",
    "move_back_result = grid_map.apply_actions_payload(move_back_payload)\n",
    "print(f\"Move back result: {move_back_result}\")\n",
    "\n"
   ]
  },
  {
   "cell_type": "code",
   "execution_count": 14,
   "metadata": {},
   "outputs": [],
   "source": [
    "updated_test_item.stored_in"
   ]
  },
  {
   "cell_type": "code",
   "execution_count": 15,
   "metadata": {},
   "outputs": [
    {
     "name": "stdout",
     "output_type": "stream",
     "text": [
      "Character position: name='Position' id='73ef77a0-8904-4760-9895-aaa22f89932d' value=(2, 2)\n",
      "Test item position: name='Position' id='2d377f1c-4ca4-47df-a6ea-6d342893c324' value=(3, 4)\n",
      "Test item stored in: None\n"
     ]
    }
   ],
   "source": [
    "# Retrieve the updated entities from the registry\n",
    "updated_character = Character.get_instance(character_id)\n",
    "updated_test_item = TestItem.get_instance(test_item_id)\n",
    "print(f\"Character position: {updated_character.position}\")\n",
    "print(f\"Test item position: {updated_test_item.position}\")\n",
    "print(f\"Test item stored in: {updated_test_item.stored_in}\")"
   ]
  },
  {
   "cell_type": "code",
   "execution_count": null,
   "metadata": {},
   "outputs": [],
   "source": []
  }
 ],
 "metadata": {
  "kernelspec": {
   "display_name": "Python 3",
   "language": "python",
   "name": "python3"
  },
  "language_info": {
   "codemirror_mode": {
    "name": "ipython",
    "version": 3
   },
   "file_extension": ".py",
   "mimetype": "text/x-python",
   "name": "python",
   "nbconvert_exporter": "python",
   "pygments_lexer": "ipython3",
   "version": "3.10.6"
  }
 },
 "nbformat": 4,
 "nbformat_minor": 2
}
