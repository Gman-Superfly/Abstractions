{
 "cells": [
  {
   "cell_type": "code",
   "execution_count": 1,
   "metadata": {},
   "outputs": [],
   "source": [
    "from abstractions.goap.actions import Action,Prerequisites,Consequences\n",
    "from abstractions.goap.entity import Statement\n",
    "from abstractions.goap.spatial import GameEntity, Attribute, ActionInstance, GridMap,ActionsPayload, Node\n",
    "from abstractions.goap.interactions import *\n",
    "from typing import Optional, Callable, List, Tuple, Dict\n"
   ]
  },
  {
   "cell_type": "code",
   "execution_count": 2,
   "metadata": {},
   "outputs": [],
   "source": [
    "\n",
    "\n",
    "# Create a grid map\n",
    "grid_map = GridMap(width=5, height=5)\n",
    "\n",
    "# Create floor entities and add them to the grid map\n",
    "for x in range(grid_map.width):\n",
    "    for y in range(grid_map.height):\n",
    "        floor = Floor(name=f\"Floor_{x}_{y}\")\n",
    "        floor.set_node(grid_map.get_node((x, y)))\n",
    "\n",
    "# Create a character entity\n",
    "character = Character(name=\"Character\")\n",
    "character_id = character.id\n",
    "character.set_node(grid_map.get_node((2, 2)))\n",
    "\n",
    "# Create a test item entity\n",
    "test_item = TestItem(name=\"Test Item\")\n",
    "test_item_id = test_item.id\n",
    "test_item.set_node(grid_map.get_node((2, 2)))\n",
    "\n"
   ]
  },
  {
   "cell_type": "code",
   "execution_count": 3,
   "metadata": {},
   "outputs": [],
   "source": [
    "# Retrieve the updated entities from the registry\n",
    "updated_character = Character.get_instance(character_id)\n",
    "updated_test_item = TestItem.get_instance(test_item_id)\n"
   ]
  },
  {
   "cell_type": "code",
   "execution_count": 4,
   "metadata": {},
   "outputs": [
    {
     "name": "stdout",
     "output_type": "stream",
     "text": [
      "Character position: name='Position' id='ebb87671-f94d-46f4-8728-3c03853e4fd4' value=(2, 2)\n",
      "Test item position: name='Position' id='ebb87671-f94d-46f4-8728-3c03853e4fd4' value=(2, 2)\n",
      "Test item stored in: None\n",
      "Character inventory: []\n"
     ]
    }
   ],
   "source": [
    "print(f\"Character position: {updated_character.position}\")\n",
    "print(f\"Test item position: {updated_test_item.position}\")\n",
    "print(f\"Test item stored in: {updated_test_item.stored_in}\")\n",
    "print(f\"Character inventory: {updated_character.inventory}\")"
   ]
  },
  {
   "cell_type": "code",
   "execution_count": 5,
   "metadata": {},
   "outputs": [
    {
     "data": {
      "text/plain": [
       "Position(name='Position', id='ebb87671-f94d-46f4-8728-3c03853e4fd4', value=(2, 2))"
      ]
     },
     "execution_count": 5,
     "metadata": {},
     "output_type": "execute_result"
    }
   ],
   "source": [
    "updated_test_item.position"
   ]
  },
  {
   "cell_type": "code",
   "execution_count": 6,
   "metadata": {},
   "outputs": [
    {
     "name": "stdout",
     "output_type": "stream",
     "text": [
      "Applying 1 actions\n",
      "Pickup result: results=[ActionResult(action_instance=ActionInstance(source_id='f479d62e-e869-4b0c-ae2f-72feeb9b42d1', target_id='3f18e12e-eb72-4c21-93ab-2a50bf1fc8b1', action=PickupAction(name='Pickup', prerequisites=Prerequisites(source_statements=[Statement(name='Statement', id='eef1ff88-d38b-4165-96d0-b937748b763a', conditions={'can_act': True}, comparisons={})], target_statements=[Statement(name='Statement', id='1888945e-b2e5-4472-a3f2-167b2c0868b6', conditions={'is_pickupable': True}, comparisons={})], source_target_statements=[]), consequences=Consequences(source_transformations={'inventory': <function add_to_inventory at 0x0000024508D6F0A0>}, target_transformations={'stored_in': <function set_stored_in at 0x0000024508D6ECB0>, 'node': None}))), success=False, error=\"Cannot remove an entity stored inside another entity's inventory directly from a node\")]\n",
      "Applying 3 actions\n",
      "Move result: results=[ActionResult(action_instance=ActionInstance(source_id='f479d62e-e869-4b0c-ae2f-72feeb9b42d1', target_id='4ab65739-b2a4-4c2d-90f1-6b5674045a8f', action=MoveStep(name='Move Step', prerequisites=Prerequisites(source_statements=[Statement(name='Statement', id='8f32205e-d56a-4ada-8e86-747370894284', conditions={'can_act': True}, comparisons={})], target_statements=[Statement(name='Statement', id='7208ca6c-ce08-48d3-8c73-d41e161c38af', conditions={'blocks_movement': False}, comparisons={})], source_target_statements=[Statement(name='Statement', id='6fd8c51d-dab2-4713-bd2b-6f08b4480575', conditions={}, comparisons={'source_position': ('node', 'node', <function source_node_comparison at 0x0000024508DD76D0>)})]), consequences=Consequences(source_transformations={'node': <function move_to_target_node at 0x0000024508D6E7A0>}, target_transformations={}))), success=True, error=None), ActionResult(action_instance=ActionInstance(source_id='f479d62e-e869-4b0c-ae2f-72feeb9b42d1', target_id='514b675e-d120-44e9-b0c5-45e22efa3344', action=MoveStep(name='Move Step', prerequisites=Prerequisites(source_statements=[Statement(name='Statement', id='8f32205e-d56a-4ada-8e86-747370894284', conditions={'can_act': True}, comparisons={})], target_statements=[Statement(name='Statement', id='7208ca6c-ce08-48d3-8c73-d41e161c38af', conditions={'blocks_movement': False}, comparisons={})], source_target_statements=[Statement(name='Statement', id='6fd8c51d-dab2-4713-bd2b-6f08b4480575', conditions={}, comparisons={'source_position': ('node', 'node', <function source_node_comparison at 0x0000024508DD76D0>)})]), consequences=Consequences(source_transformations={'node': <function move_to_target_node at 0x0000024508D6E7A0>}, target_transformations={}))), success=True, error=None), ActionResult(action_instance=ActionInstance(source_id='f479d62e-e869-4b0c-ae2f-72feeb9b42d1', target_id='162c58cb-a323-4b28-b372-6bcca133bfce', action=MoveStep(name='Move Step', prerequisites=Prerequisites(source_statements=[Statement(name='Statement', id='8f32205e-d56a-4ada-8e86-747370894284', conditions={'can_act': True}, comparisons={})], target_statements=[Statement(name='Statement', id='7208ca6c-ce08-48d3-8c73-d41e161c38af', conditions={'blocks_movement': False}, comparisons={})], source_target_statements=[Statement(name='Statement', id='6fd8c51d-dab2-4713-bd2b-6f08b4480575', conditions={}, comparisons={'source_position': ('node', 'node', <function source_node_comparison at 0x0000024508DD76D0>)})]), consequences=Consequences(source_transformations={'node': <function move_to_target_node at 0x0000024508D6E7A0>}, target_transformations={}))), success=True, error=None)]\n"
     ]
    }
   ],
   "source": [
    "# Perform the pickup action\n",
    "pickup_action = ActionInstance(source_id=character_id, target_id=test_item_id, action=PickupAction())\n",
    "pickup_payload = ActionsPayload(actions=[pickup_action])\n",
    "pickup_result = grid_map.apply_actions_payload(pickup_payload)\n",
    "print(f\"Pickup result: {pickup_result}\")\n",
    "\n",
    "# Move the character 3 steps\n",
    "move_actions = [\n",
    "    ActionInstance(source_id=character_id, target_id=grid_map.get_node((2, 3)).entities[0].id, action=MoveStep()),\n",
    "    ActionInstance(source_id=character_id, target_id=grid_map.get_node((2, 4)).entities[0].id, action=MoveStep()),\n",
    "    ActionInstance(source_id=character_id, target_id=grid_map.get_node((3, 4)).entities[0].id, action=MoveStep())\n",
    "]\n",
    "move_payload = ActionsPayload(actions=move_actions)\n",
    "move_result = grid_map.apply_actions_payload(move_payload)\n",
    "print(f\"Move result: {move_result}\")\n",
    "\n"
   ]
  },
  {
   "cell_type": "code",
   "execution_count": 7,
   "metadata": {},
   "outputs": [],
   "source": [
    "# Retrieve the updated entities from the registry\n",
    "updated_character = Character.get_instance(character_id)\n",
    "updated_test_item = TestItem.get_instance(test_item_id)\n"
   ]
  },
  {
   "cell_type": "code",
   "execution_count": 8,
   "metadata": {},
   "outputs": [
    {
     "data": {
      "text/plain": [
       "Character(name=Character, id=f479d62e-e869-4b0c-ae2f-72feeb9b42d1, blocks_movement=name='BlocksMovement' id='c35a144f-23cc-4614-955d-2518945a86f2' value=False, blocks_light=name='BlocksLight' id='3ec864f9-ffbf-4c20-a4b4-98d5550f394f' value=False, node=Node(id=d6278909-d227-4f7d-b433-45b869471fe8, position=(3, 4)), inventory=[TestItem(name=Test Item, id=3f18e12e-eb72-4c21-93ab-2a50bf1fc8b1, blocks_movement=name='BlocksMovement' id='afc7b6ee-d9ee-46fe-97c1-d1cfd5b85ed7' value=False, blocks_light=name='BlocksLight' id='e347631f-1d0d-476e-a7f4-6b72c39ba821' value=False, node=Node(id=0ebce3ef-773e-46d1-b257-61bf09403c0f, position=(2, 2)), inventory=[], stored_in=name='Character' id='f479d62e-e869-4b0c-ae2f-72feeb9b42d1' blocks_movement=BlocksMovement(name='BlocksMovement', id='c35a144f-23cc-4614-955d-2518945a86f2', value=False) blocks_light=BlocksLight(name='BlocksLight', id='3ec864f9-ffbf-4c20-a4b4-98d5550f394f', value=False) node=Node(name='', id='d6278909-d227-4f7d-b433-45b869471fe8', position=Position(name='Position', id='863f8080-5045-4409-aac3-98401e6c3168', value=(3, 4)), entities=[Floor(name=Floor_3_4, id=162c58cb-a323-4b28-b372-6bcca133bfce, blocks_movement=name='BlocksMovement' id='d986ebe5-5058-46ee-bac0-09495906848d' value=False, blocks_light=name='BlocksLight' id='41df1e93-284f-4f37-8b6d-afacde0c11a6' value=False, node=Node(id=d6278909-d227-4f7d-b433-45b869471fe8, position=(3, 4)), inventory=[], stored_in=None), Character(name=Character, id=f479d62e-e869-4b0c-ae2f-72feeb9b42d1, blocks_movement=name='BlocksMovement' id='c35a144f-23cc-4614-955d-2518945a86f2' value=False, blocks_light=name='BlocksLight' id='3ec864f9-ffbf-4c20-a4b4-98d5550f394f' value=False, node=Node(id=d6278909-d227-4f7d-b433-45b869471fe8, position=(3, 4)), inventory=[...], stored_in=None, can_act=name='can_act' id='32aecc24-77a1-4001-82f6-f1d70d0aeb16' value=True)], grid_map=<abstractions.goap.spatial.GridMap object at 0x0000024508DCAD70>, blocks_movement=False, blocks_light=False) inventory=[...] stored_in=None can_act=Attribute(name='can_act', id='32aecc24-77a1-4001-82f6-f1d70d0aeb16', value=True), is_pickupable=name='is_pickupable' id='fbff94a1-4ea3-4a2c-829c-d03aa21b8b7f' value=True)], stored_in=None, can_act=name='can_act' id='32aecc24-77a1-4001-82f6-f1d70d0aeb16' value=True)"
      ]
     },
     "execution_count": 8,
     "metadata": {},
     "output_type": "execute_result"
    }
   ],
   "source": [
    "updated_test_item.stored_in"
   ]
  },
  {
   "cell_type": "code",
   "execution_count": 9,
   "metadata": {},
   "outputs": [
    {
     "name": "stdout",
     "output_type": "stream",
     "text": [
      "Character position: name='Position' id='863f8080-5045-4409-aac3-98401e6c3168' value=(3, 4)\n",
      "Test item position: name='Position' id='863f8080-5045-4409-aac3-98401e6c3168' value=(3, 4)\n",
      "Test item position: name='Character' id='f479d62e-e869-4b0c-ae2f-72feeb9b42d1' blocks_movement=BlocksMovement(name='BlocksMovement', id='c35a144f-23cc-4614-955d-2518945a86f2', value=False) blocks_light=BlocksLight(name='BlocksLight', id='3ec864f9-ffbf-4c20-a4b4-98d5550f394f', value=False) node=Node(name='', id='d6278909-d227-4f7d-b433-45b869471fe8', position=Position(name='Position', id='863f8080-5045-4409-aac3-98401e6c3168', value=(3, 4)), entities=[Floor(name=Floor_3_4, id=162c58cb-a323-4b28-b372-6bcca133bfce, blocks_movement=name='BlocksMovement' id='d986ebe5-5058-46ee-bac0-09495906848d' value=False, blocks_light=name='BlocksLight' id='41df1e93-284f-4f37-8b6d-afacde0c11a6' value=False, node=Node(id=d6278909-d227-4f7d-b433-45b869471fe8, position=(3, 4)), inventory=[], stored_in=None), Character(name=Character, id=f479d62e-e869-4b0c-ae2f-72feeb9b42d1, blocks_movement=name='BlocksMovement' id='c35a144f-23cc-4614-955d-2518945a86f2' value=False, blocks_light=name='BlocksLight' id='3ec864f9-ffbf-4c20-a4b4-98d5550f394f' value=False, node=Node(id=d6278909-d227-4f7d-b433-45b869471fe8, position=(3, 4)), inventory=[TestItem(name=Test Item, id=3f18e12e-eb72-4c21-93ab-2a50bf1fc8b1, blocks_movement=name='BlocksMovement' id='afc7b6ee-d9ee-46fe-97c1-d1cfd5b85ed7' value=False, blocks_light=name='BlocksLight' id='e347631f-1d0d-476e-a7f4-6b72c39ba821' value=False, node=Node(id=0ebce3ef-773e-46d1-b257-61bf09403c0f, position=(2, 2)), inventory=[], stored_in=name='Character' id='f479d62e-e869-4b0c-ae2f-72feeb9b42d1' blocks_movement=BlocksMovement(name='BlocksMovement', id='c35a144f-23cc-4614-955d-2518945a86f2', value=False) blocks_light=BlocksLight(name='BlocksLight', id='3ec864f9-ffbf-4c20-a4b4-98d5550f394f', value=False) node=Node(name='', id='d6278909-d227-4f7d-b433-45b869471fe8', position=Position(name='Position', id='863f8080-5045-4409-aac3-98401e6c3168', value=(3, 4)), entities=[...], grid_map=<abstractions.goap.spatial.GridMap object at 0x0000024508DCAD70>, blocks_movement=False, blocks_light=False) inventory=[...] stored_in=None can_act=Attribute(name='can_act', id='32aecc24-77a1-4001-82f6-f1d70d0aeb16', value=True), is_pickupable=name='is_pickupable' id='fbff94a1-4ea3-4a2c-829c-d03aa21b8b7f' value=True)], stored_in=None, can_act=name='can_act' id='32aecc24-77a1-4001-82f6-f1d70d0aeb16' value=True)], grid_map=<abstractions.goap.spatial.GridMap object at 0x0000024508DCAD70>, blocks_movement=False, blocks_light=False) inventory=[TestItem(name=Test Item, id=3f18e12e-eb72-4c21-93ab-2a50bf1fc8b1, blocks_movement=name='BlocksMovement' id='afc7b6ee-d9ee-46fe-97c1-d1cfd5b85ed7' value=False, blocks_light=name='BlocksLight' id='e347631f-1d0d-476e-a7f4-6b72c39ba821' value=False, node=Node(id=0ebce3ef-773e-46d1-b257-61bf09403c0f, position=(2, 2)), inventory=[], stored_in=name='Character' id='f479d62e-e869-4b0c-ae2f-72feeb9b42d1' blocks_movement=BlocksMovement(name='BlocksMovement', id='c35a144f-23cc-4614-955d-2518945a86f2', value=False) blocks_light=BlocksLight(name='BlocksLight', id='3ec864f9-ffbf-4c20-a4b4-98d5550f394f', value=False) node=Node(name='', id='d6278909-d227-4f7d-b433-45b869471fe8', position=Position(name='Position', id='863f8080-5045-4409-aac3-98401e6c3168', value=(3, 4)), entities=[Floor(name=Floor_3_4, id=162c58cb-a323-4b28-b372-6bcca133bfce, blocks_movement=name='BlocksMovement' id='d986ebe5-5058-46ee-bac0-09495906848d' value=False, blocks_light=name='BlocksLight' id='41df1e93-284f-4f37-8b6d-afacde0c11a6' value=False, node=Node(id=d6278909-d227-4f7d-b433-45b869471fe8, position=(3, 4)), inventory=[], stored_in=None), Character(name=Character, id=f479d62e-e869-4b0c-ae2f-72feeb9b42d1, blocks_movement=name='BlocksMovement' id='c35a144f-23cc-4614-955d-2518945a86f2' value=False, blocks_light=name='BlocksLight' id='3ec864f9-ffbf-4c20-a4b4-98d5550f394f' value=False, node=Node(id=d6278909-d227-4f7d-b433-45b869471fe8, position=(3, 4)), inventory=[...], stored_in=None, can_act=name='can_act' id='32aecc24-77a1-4001-82f6-f1d70d0aeb16' value=True)], grid_map=<abstractions.goap.spatial.GridMap object at 0x0000024508DCAD70>, blocks_movement=False, blocks_light=False) inventory=[...] stored_in=None can_act=Attribute(name='can_act', id='32aecc24-77a1-4001-82f6-f1d70d0aeb16', value=True), is_pickupable=name='is_pickupable' id='fbff94a1-4ea3-4a2c-829c-d03aa21b8b7f' value=True)] stored_in=None can_act=Attribute(name='can_act', id='32aecc24-77a1-4001-82f6-f1d70d0aeb16', value=True)\n",
      "Character inventory: [TestItem(name=Test Item, id=3f18e12e-eb72-4c21-93ab-2a50bf1fc8b1, blocks_movement=name='BlocksMovement' id='afc7b6ee-d9ee-46fe-97c1-d1cfd5b85ed7' value=False, blocks_light=name='BlocksLight' id='e347631f-1d0d-476e-a7f4-6b72c39ba821' value=False, node=Node(id=0ebce3ef-773e-46d1-b257-61bf09403c0f, position=(2, 2)), inventory=[], stored_in=name='Character' id='f479d62e-e869-4b0c-ae2f-72feeb9b42d1' blocks_movement=BlocksMovement(name='BlocksMovement', id='c35a144f-23cc-4614-955d-2518945a86f2', value=False) blocks_light=BlocksLight(name='BlocksLight', id='3ec864f9-ffbf-4c20-a4b4-98d5550f394f', value=False) node=Node(name='', id='d6278909-d227-4f7d-b433-45b869471fe8', position=Position(name='Position', id='863f8080-5045-4409-aac3-98401e6c3168', value=(3, 4)), entities=[Floor(name=Floor_3_4, id=162c58cb-a323-4b28-b372-6bcca133bfce, blocks_movement=name='BlocksMovement' id='d986ebe5-5058-46ee-bac0-09495906848d' value=False, blocks_light=name='BlocksLight' id='41df1e93-284f-4f37-8b6d-afacde0c11a6' value=False, node=Node(id=d6278909-d227-4f7d-b433-45b869471fe8, position=(3, 4)), inventory=[], stored_in=None), Character(name=Character, id=f479d62e-e869-4b0c-ae2f-72feeb9b42d1, blocks_movement=name='BlocksMovement' id='c35a144f-23cc-4614-955d-2518945a86f2' value=False, blocks_light=name='BlocksLight' id='3ec864f9-ffbf-4c20-a4b4-98d5550f394f' value=False, node=Node(id=d6278909-d227-4f7d-b433-45b869471fe8, position=(3, 4)), inventory=[...], stored_in=None, can_act=name='can_act' id='32aecc24-77a1-4001-82f6-f1d70d0aeb16' value=True)], grid_map=<abstractions.goap.spatial.GridMap object at 0x0000024508DCAD70>, blocks_movement=False, blocks_light=False) inventory=[...] stored_in=None can_act=Attribute(name='can_act', id='32aecc24-77a1-4001-82f6-f1d70d0aeb16', value=True), is_pickupable=name='is_pickupable' id='fbff94a1-4ea3-4a2c-829c-d03aa21b8b7f' value=True)]\n"
     ]
    }
   ],
   "source": [
    "print(f\"Character position: {updated_character.position}\")\n",
    "print(f\"Test item position: {updated_test_item.position}\")\n",
    "print(f\"Test item position: {updated_test_item.stored_in}\")\n",
    "print(f\"Character inventory: {updated_character.inventory}\")"
   ]
  },
  {
   "cell_type": "code",
   "execution_count": 10,
   "metadata": {},
   "outputs": [
    {
     "name": "stdout",
     "output_type": "stream",
     "text": [
      "Applying 1 actions\n",
      "Drop result: results=[ActionResult(action_instance=ActionInstance(source_id='f479d62e-e869-4b0c-ae2f-72feeb9b42d1', target_id='3f18e12e-eb72-4c21-93ab-2a50bf1fc8b1', action=DropAction(name='Drop', prerequisites=Prerequisites(source_statements=[Statement(name='Statement', id='63d978d8-8f70-4175-a4c5-7b411adfeca0', conditions={'can_act': True}, comparisons={})], target_statements=[], source_target_statements=[]), consequences=Consequences(source_transformations={}, target_transformations={'stored_in': <function clear_stored_in at 0x0000024508D6FAC0>, 'node': <function set_node at 0x0000024508D6DD80>}))), success=True, error=None)]\n"
     ]
    }
   ],
   "source": [
    "\n",
    "# Perform the drop action at the new position\n",
    "drop_action = ActionInstance(source_id=character_id, target_id=test_item_id, action=DropAction())\n",
    "drop_payload = ActionsPayload(actions=[drop_action])\n",
    "drop_result = grid_map.apply_actions_payload(drop_payload)\n",
    "print(f\"Drop result: {drop_result}\")\n",
    "\n"
   ]
  },
  {
   "cell_type": "code",
   "execution_count": 11,
   "metadata": {},
   "outputs": [
    {
     "name": "stdout",
     "output_type": "stream",
     "text": [
      "Character inventory: []\n",
      "Character position: name='Position' id='863f8080-5045-4409-aac3-98401e6c3168' value=(3, 4)\n",
      "Test item position: name='Position' id='863f8080-5045-4409-aac3-98401e6c3168' value=(3, 4)\n",
      "Test item stored in: None\n"
     ]
    }
   ],
   "source": [
    "# Retrieve the updated entities from the registry\n",
    "updated_character = Character.get_instance(character_id)\n",
    "updated_test_item = TestItem.get_instance(test_item_id)\n",
    "print(f\"Character inventory: {updated_character.inventory}\")\n",
    "print(f\"Character position: {updated_character.position}\")\n",
    "print(f\"Test item position: {updated_test_item.position}\")\n",
    "print(f\"Test item stored in: {updated_test_item.stored_in}\")"
   ]
  },
  {
   "cell_type": "code",
   "execution_count": null,
   "metadata": {},
   "outputs": [],
   "source": []
  },
  {
   "cell_type": "code",
   "execution_count": 12,
   "metadata": {},
   "outputs": [
    {
     "data": {
      "text/plain": [
       "[]"
      ]
     },
     "execution_count": 12,
     "metadata": {},
     "output_type": "execute_result"
    }
   ],
   "source": [
    "updated_character.inventory"
   ]
  },
  {
   "cell_type": "code",
   "execution_count": 13,
   "metadata": {},
   "outputs": [
    {
     "name": "stdout",
     "output_type": "stream",
     "text": [
      "Applying 3 actions\n",
      "Move back result: results=[ActionResult(action_instance=ActionInstance(source_id='f479d62e-e869-4b0c-ae2f-72feeb9b42d1', target_id='514b675e-d120-44e9-b0c5-45e22efa3344', action=MoveStep(name='Move Step', prerequisites=Prerequisites(source_statements=[Statement(name='Statement', id='8f32205e-d56a-4ada-8e86-747370894284', conditions={'can_act': True}, comparisons={})], target_statements=[Statement(name='Statement', id='7208ca6c-ce08-48d3-8c73-d41e161c38af', conditions={'blocks_movement': False}, comparisons={})], source_target_statements=[Statement(name='Statement', id='6fd8c51d-dab2-4713-bd2b-6f08b4480575', conditions={}, comparisons={'source_position': ('node', 'node', <function source_node_comparison at 0x0000024508DD76D0>)})]), consequences=Consequences(source_transformations={'node': <function move_to_target_node at 0x0000024508D6E7A0>}, target_transformations={}))), success=True, error=None), ActionResult(action_instance=ActionInstance(source_id='f479d62e-e869-4b0c-ae2f-72feeb9b42d1', target_id='4ab65739-b2a4-4c2d-90f1-6b5674045a8f', action=MoveStep(name='Move Step', prerequisites=Prerequisites(source_statements=[Statement(name='Statement', id='8f32205e-d56a-4ada-8e86-747370894284', conditions={'can_act': True}, comparisons={})], target_statements=[Statement(name='Statement', id='7208ca6c-ce08-48d3-8c73-d41e161c38af', conditions={'blocks_movement': False}, comparisons={})], source_target_statements=[Statement(name='Statement', id='6fd8c51d-dab2-4713-bd2b-6f08b4480575', conditions={}, comparisons={'source_position': ('node', 'node', <function source_node_comparison at 0x0000024508DD76D0>)})]), consequences=Consequences(source_transformations={'node': <function move_to_target_node at 0x0000024508D6E7A0>}, target_transformations={}))), success=True, error=None), ActionResult(action_instance=ActionInstance(source_id='f479d62e-e869-4b0c-ae2f-72feeb9b42d1', target_id='45465821-d491-46f9-868a-973126d373cb', action=MoveStep(name='Move Step', prerequisites=Prerequisites(source_statements=[Statement(name='Statement', id='8f32205e-d56a-4ada-8e86-747370894284', conditions={'can_act': True}, comparisons={})], target_statements=[Statement(name='Statement', id='7208ca6c-ce08-48d3-8c73-d41e161c38af', conditions={'blocks_movement': False}, comparisons={})], source_target_statements=[Statement(name='Statement', id='6fd8c51d-dab2-4713-bd2b-6f08b4480575', conditions={}, comparisons={'source_position': ('node', 'node', <function source_node_comparison at 0x0000024508DD76D0>)})]), consequences=Consequences(source_transformations={'node': <function move_to_target_node at 0x0000024508D6E7A0>}, target_transformations={}))), success=True, error=None)]\n"
     ]
    }
   ],
   "source": [
    "\n",
    "# Move the character back to the original position\n",
    "move_back_actions = [\n",
    "    ActionInstance(source_id=character_id, target_id=grid_map.get_node((2, 4)).entities[0].id, action=MoveStep()),\n",
    "    ActionInstance(source_id=character_id, target_id=grid_map.get_node((2, 3)).entities[0].id, action=MoveStep()),\n",
    "    ActionInstance(source_id=character_id, target_id=grid_map.get_node((2, 2)).entities[0].id, action=MoveStep())\n",
    "]\n",
    "move_back_payload = ActionsPayload(actions=move_back_actions)\n",
    "move_back_result = grid_map.apply_actions_payload(move_back_payload)\n",
    "print(f\"Move back result: {move_back_result}\")\n",
    "\n"
   ]
  },
  {
   "cell_type": "code",
   "execution_count": 14,
   "metadata": {},
   "outputs": [],
   "source": [
    "updated_test_item.stored_in"
   ]
  },
  {
   "cell_type": "code",
   "execution_count": 15,
   "metadata": {},
   "outputs": [
    {
     "name": "stdout",
     "output_type": "stream",
     "text": [
      "Character position: name='Position' id='ebb87671-f94d-46f4-8728-3c03853e4fd4' value=(2, 2)\n",
      "Test item position: name='Position' id='863f8080-5045-4409-aac3-98401e6c3168' value=(3, 4)\n",
      "Test item stored in: None\n"
     ]
    }
   ],
   "source": [
    "# Retrieve the updated entities from the registry\n",
    "updated_character = Character.get_instance(character_id)\n",
    "updated_test_item = TestItem.get_instance(test_item_id)\n",
    "print(f\"Character position: {updated_character.position}\")\n",
    "print(f\"Test item position: {updated_test_item.position}\")\n",
    "print(f\"Test item stored in: {updated_test_item.stored_in}\")"
   ]
  }
 ],
 "metadata": {
  "kernelspec": {
   "display_name": "Python 3",
   "language": "python",
   "name": "python3"
  },
  "language_info": {
   "codemirror_mode": {
    "name": "ipython",
    "version": 3
   },
   "file_extension": ".py",
   "mimetype": "text/x-python",
   "name": "python",
   "nbconvert_exporter": "python",
   "pygments_lexer": "ipython3",
   "version": "3.10.6"
  }
 },
 "nbformat": 4,
 "nbformat_minor": 2
}
