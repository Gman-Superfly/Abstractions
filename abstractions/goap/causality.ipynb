{
 "cells": [
  {
   "cell_type": "code",
   "execution_count": 1,
   "metadata": {},
   "outputs": [
    {
     "name": "stdout",
     "output_type": "stream",
     "text": [
      "Initial state:\n",
      "Door open: False\n",
      "Door blocks movement: True\n",
      "Door blocks light: True\n",
      "Node 1 blocks movement: True\n",
      "Node 1 blocks light: True\n",
      "\n"
     ]
    }
   ],
   "source": [
    "from abstractions.goap.actions import Action, Prerequisites, Consequences\n",
    "from abstractions.goap.entity import Attribute, Statement\n",
    "from abstractions.goap.spatial import GameEntity, Node, Position\n",
    "\n",
    "class Door(GameEntity):\n",
    "    open: Attribute = Attribute(name=\"open\", value=False)\n",
    "    blocks_movement: Attribute = Attribute(name=\"blocks_movement\", value=True)\n",
    "    blocks_light: Attribute = Attribute(name=\"blocks_light\", value=True)\n",
    "\n",
    "    def __init__(self, **data):\n",
    "        super().__init__(**data)\n",
    "        self.update_block_attributes()\n",
    "\n",
    "    def update_block_attributes(self):\n",
    "        self.blocks_movement = Attribute(name=\"blocks_movement\", value=not self.open.value)\n",
    "        self.blocks_light = Attribute(name=\"blocks_light\", value=not self.open.value)\n",
    "\n",
    "class Character(GameEntity):\n",
    "    can_act: Attribute = Attribute(name=\"can_act\", value=True)\n",
    "\n",
    "# Define the open_door action\n",
    "open_door = Action(\n",
    "    name=\"Open Door\",\n",
    "    prerequisites=Prerequisites(\n",
    "        source_statements=[Statement(conditions={\"can_act\": True})],\n",
    "        target_statements=[Statement(conditions={\"open\": False})]\n",
    "    ),\n",
    "    consequences=Consequences(\n",
    "        target_transformations={\"open\": True}\n",
    "    )\n",
    ")\n",
    "\n",
    "# Define the close_door action\n",
    "close_door = Action(\n",
    "    name=\"Close Door\",\n",
    "    prerequisites=Prerequisites(\n",
    "        source_statements=[Statement(conditions={\"can_act\": True})],\n",
    "        target_statements=[Statement(conditions={\"open\": True})]\n",
    "    ),\n",
    "    consequences=Consequences(\n",
    "        target_transformations={\"open\": False}\n",
    "    )\n",
    ")\n",
    "\n",
    "# Create a test environment\n",
    "node1 = Node(name=\"Node 1\", position=Position(value=(0, 0)))\n",
    "node2 = Node(name=\"Node 2\", position=Position(value=(1, 0)))\n",
    "\n",
    "door = Door(name=\"Wooden Door\")\n",
    "character = Character(name=\"John\")\n",
    "\n",
    "node1.add_entity(door)\n",
    "node1.add_entity(character)\n",
    "\n",
    "print(\"Initial state:\")\n",
    "print(f\"Door open: {door.open.value}\")\n",
    "print(f\"Door blocks movement: {door.blocks_movement.value}\")\n",
    "print(f\"Door blocks light: {door.blocks_light.value}\")\n",
    "print(f\"Node 1 blocks movement: {node1.blocks_movement}\")\n",
    "print(f\"Node 1 blocks light: {node1.blocks_light}\")\n",
    "print()\n",
    "\n"
   ]
  },
  {
   "cell_type": "code",
   "execution_count": 2,
   "metadata": {},
   "outputs": [
    {
     "name": "stdout",
     "output_type": "stream",
     "text": [
      "Updating entity name='John' id='7189b0d1-1a61-4bda-84db-55650b5fc4ae' blocks_movement=BlocksMovement(name='BlocksMovement', id='0d5a76a9-3cb1-4daa-807b-cbc8b6702078', value=False) blocks_light=BlocksLight(name='BlocksLight', id='b096bdcb-704b-460b-95f4-ed26c7e82eac', value=False) node=Node(name='Node 1', id='830e0c1e-cbf5-42bf-be39-e0bb30e99cc8', position=Position(name='Position', id='906dae7c-156f-41cf-be77-a4c3118a5cfc', value=(0, 0)), entities=[Door(name=Wooden Door, id=7f637993-9e39-4e6b-ab66-cc61d97893b4, blocks_movement=name='blocks_movement' id='6fb0413e-0c3f-4848-9612-9cab9d61ec7f' value=True, blocks_light=name='blocks_light' id='f044b744-9125-4f3b-8f27-a4d935bf9fa2' value=True, node=Node(id=830e0c1e-cbf5-42bf-be39-e0bb30e99cc8, position=(0, 0)), open=name='open' id='2961f5d6-f699-4f04-a8bf-04aa0c7a5384' value=False), Character(name=John, id=7189b0d1-1a61-4bda-84db-55650b5fc4ae, blocks_movement=name='BlocksMovement' id='0d5a76a9-3cb1-4daa-807b-cbc8b6702078' value=False, blocks_light=name='BlocksLight' id='b096bdcb-704b-460b-95f4-ed26c7e82eac' value=False, node=Node(id=830e0c1e-cbf5-42bf-be39-e0bb30e99cc8, position=(0, 0)), can_act=name='can_act' id='0897c6db-8efa-4ab5-b1f9-c463173323f6' value=True), Character(name=Character, id=7189b0d1-1a61-4bda-84db-55650b5fc4ae, blocks_movement=name='BlocksMovement' id='2e2bb796-fb74-4371-a14f-a32a536241e5' value=False, blocks_light=name='BlocksLight' id='e106ff51-a989-44ae-a765-fcf4abfb355d' value=False, node=Node(id=830e0c1e-cbf5-42bf-be39-e0bb30e99cc8, position=(0, 0)), can_act=name='can_act' id='0897c6db-8efa-4ab5-b1f9-c463173323f6' value=True)], grid_map=None, blocks_movement=True, blocks_light=True) can_act=Attribute(name='can_act', id='0897c6db-8efa-4ab5-b1f9-c463173323f6', value=True) to name='Character' id='7189b0d1-1a61-4bda-84db-55650b5fc4ae' blocks_movement=BlocksMovement(name='BlocksMovement', id='2e2bb796-fb74-4371-a14f-a32a536241e5', value=False) blocks_light=BlocksLight(name='BlocksLight', id='e106ff51-a989-44ae-a765-fcf4abfb355d', value=False) node=Node(name='Node 1', id='830e0c1e-cbf5-42bf-be39-e0bb30e99cc8', position=Position(name='Position', id='906dae7c-156f-41cf-be77-a4c3118a5cfc', value=(0, 0)), entities=[Door(name=Wooden Door, id=7f637993-9e39-4e6b-ab66-cc61d97893b4, blocks_movement=name='blocks_movement' id='6fb0413e-0c3f-4848-9612-9cab9d61ec7f' value=True, blocks_light=name='blocks_light' id='f044b744-9125-4f3b-8f27-a4d935bf9fa2' value=True, node=Node(id=830e0c1e-cbf5-42bf-be39-e0bb30e99cc8, position=(0, 0)), open=name='open' id='2961f5d6-f699-4f04-a8bf-04aa0c7a5384' value=False), Character(name=John, id=7189b0d1-1a61-4bda-84db-55650b5fc4ae, blocks_movement=name='BlocksMovement' id='0d5a76a9-3cb1-4daa-807b-cbc8b6702078' value=False, blocks_light=name='BlocksLight' id='b096bdcb-704b-460b-95f4-ed26c7e82eac' value=False, node=Node(id=830e0c1e-cbf5-42bf-be39-e0bb30e99cc8, position=(0, 0)), can_act=name='can_act' id='0897c6db-8efa-4ab5-b1f9-c463173323f6' value=True), Character(name=Character, id=7189b0d1-1a61-4bda-84db-55650b5fc4ae, blocks_movement=name='BlocksMovement' id='2e2bb796-fb74-4371-a14f-a32a536241e5' value=False, blocks_light=name='BlocksLight' id='e106ff51-a989-44ae-a765-fcf4abfb355d' value=False, node=Node(id=830e0c1e-cbf5-42bf-be39-e0bb30e99cc8, position=(0, 0)), can_act=name='can_act' id='0897c6db-8efa-4ab5-b1f9-c463173323f6' value=True)], grid_map=None, blocks_movement=True, blocks_light=True) can_act=Attribute(name='can_act', id='0897c6db-8efa-4ab5-b1f9-c463173323f6', value=True)\n",
      "Updating entity name='Wooden Door' id='7f637993-9e39-4e6b-ab66-cc61d97893b4' blocks_movement=Attribute(name='blocks_movement', id='6fb0413e-0c3f-4848-9612-9cab9d61ec7f', value=True) blocks_light=Attribute(name='blocks_light', id='f044b744-9125-4f3b-8f27-a4d935bf9fa2', value=True) node=Node(name='Node 1', id='830e0c1e-cbf5-42bf-be39-e0bb30e99cc8', position=Position(name='Position', id='906dae7c-156f-41cf-be77-a4c3118a5cfc', value=(0, 0)), entities=[Door(name=Wooden Door, id=7f637993-9e39-4e6b-ab66-cc61d97893b4, blocks_movement=name='blocks_movement' id='6fb0413e-0c3f-4848-9612-9cab9d61ec7f' value=True, blocks_light=name='blocks_light' id='f044b744-9125-4f3b-8f27-a4d935bf9fa2' value=True, node=Node(id=830e0c1e-cbf5-42bf-be39-e0bb30e99cc8, position=(0, 0)), open=name='open' id='2961f5d6-f699-4f04-a8bf-04aa0c7a5384' value=False), Character(name=Character, id=7189b0d1-1a61-4bda-84db-55650b5fc4ae, blocks_movement=name='BlocksMovement' id='2e2bb796-fb74-4371-a14f-a32a536241e5' value=False, blocks_light=name='BlocksLight' id='e106ff51-a989-44ae-a765-fcf4abfb355d' value=False, node=Node(id=830e0c1e-cbf5-42bf-be39-e0bb30e99cc8, position=(0, 0)), can_act=name='can_act' id='0897c6db-8efa-4ab5-b1f9-c463173323f6' value=True), Character(name=Character, id=7189b0d1-1a61-4bda-84db-55650b5fc4ae, blocks_movement=name='BlocksMovement' id='2e2bb796-fb74-4371-a14f-a32a536241e5' value=False, blocks_light=name='BlocksLight' id='e106ff51-a989-44ae-a765-fcf4abfb355d' value=False, node=Node(id=830e0c1e-cbf5-42bf-be39-e0bb30e99cc8, position=(0, 0)), can_act=name='can_act' id='0897c6db-8efa-4ab5-b1f9-c463173323f6' value=True), Door(name=Door, id=7f637993-9e39-4e6b-ab66-cc61d97893b4, blocks_movement=name='blocks_movement' id='5ca64ca9-9808-47ae-b910-109335427f62' value=False, blocks_light=name='blocks_light' id='959e9ae9-2632-43bc-9267-15a087272317' value=False, node=Node(id=830e0c1e-cbf5-42bf-be39-e0bb30e99cc8, position=(0, 0)), open=name='open' id='5bf6fcfa-ad13-4a1c-8185-e666b9022a07' value=True)], grid_map=None, blocks_movement=True, blocks_light=True) open=Attribute(name='open', id='2961f5d6-f699-4f04-a8bf-04aa0c7a5384', value=False) to name='Door' id='7f637993-9e39-4e6b-ab66-cc61d97893b4' blocks_movement=Attribute(name='blocks_movement', id='5ca64ca9-9808-47ae-b910-109335427f62', value=False) blocks_light=Attribute(name='blocks_light', id='959e9ae9-2632-43bc-9267-15a087272317', value=False) node=Node(name='Node 1', id='830e0c1e-cbf5-42bf-be39-e0bb30e99cc8', position=Position(name='Position', id='906dae7c-156f-41cf-be77-a4c3118a5cfc', value=(0, 0)), entities=[Door(name=Wooden Door, id=7f637993-9e39-4e6b-ab66-cc61d97893b4, blocks_movement=name='blocks_movement' id='6fb0413e-0c3f-4848-9612-9cab9d61ec7f' value=True, blocks_light=name='blocks_light' id='f044b744-9125-4f3b-8f27-a4d935bf9fa2' value=True, node=Node(id=830e0c1e-cbf5-42bf-be39-e0bb30e99cc8, position=(0, 0)), open=name='open' id='2961f5d6-f699-4f04-a8bf-04aa0c7a5384' value=False), Character(name=Character, id=7189b0d1-1a61-4bda-84db-55650b5fc4ae, blocks_movement=name='BlocksMovement' id='2e2bb796-fb74-4371-a14f-a32a536241e5' value=False, blocks_light=name='BlocksLight' id='e106ff51-a989-44ae-a765-fcf4abfb355d' value=False, node=Node(id=830e0c1e-cbf5-42bf-be39-e0bb30e99cc8, position=(0, 0)), can_act=name='can_act' id='0897c6db-8efa-4ab5-b1f9-c463173323f6' value=True), Character(name=Character, id=7189b0d1-1a61-4bda-84db-55650b5fc4ae, blocks_movement=name='BlocksMovement' id='2e2bb796-fb74-4371-a14f-a32a536241e5' value=False, blocks_light=name='BlocksLight' id='e106ff51-a989-44ae-a765-fcf4abfb355d' value=False, node=Node(id=830e0c1e-cbf5-42bf-be39-e0bb30e99cc8, position=(0, 0)), can_act=name='can_act' id='0897c6db-8efa-4ab5-b1f9-c463173323f6' value=True), Door(name=Door, id=7f637993-9e39-4e6b-ab66-cc61d97893b4, blocks_movement=name='blocks_movement' id='5ca64ca9-9808-47ae-b910-109335427f62' value=False, blocks_light=name='blocks_light' id='959e9ae9-2632-43bc-9267-15a087272317' value=False, node=Node(id=830e0c1e-cbf5-42bf-be39-e0bb30e99cc8, position=(0, 0)), open=name='open' id='5bf6fcfa-ad13-4a1c-8185-e666b9022a07' value=True)], grid_map=None, blocks_movement=True, blocks_light=True) open=Attribute(name='open', id='5bf6fcfa-ad13-4a1c-8185-e666b9022a07', value=True)\n",
      "Target is updated\n",
      "After opening the door:\n",
      "Door open: True\n",
      "Door blocks movement: False\n",
      "Door blocks light: False\n",
      "Node 1 blocks movement: False\n",
      "Node 1 blocks light: False\n",
      "\n",
      "Updating entity name='Door' id='7f637993-9e39-4e6b-ab66-cc61d97893b4' blocks_movement=Attribute(name='blocks_movement', id='5ca64ca9-9808-47ae-b910-109335427f62', value=False) blocks_light=Attribute(name='blocks_light', id='959e9ae9-2632-43bc-9267-15a087272317', value=False) node=Node(name='Node 1', id='830e0c1e-cbf5-42bf-be39-e0bb30e99cc8', position=Position(name='Position', id='906dae7c-156f-41cf-be77-a4c3118a5cfc', value=(0, 0)), entities=[Character(name=Character, id=7189b0d1-1a61-4bda-84db-55650b5fc4ae, blocks_movement=name='BlocksMovement' id='2e2bb796-fb74-4371-a14f-a32a536241e5' value=False, blocks_light=name='BlocksLight' id='e106ff51-a989-44ae-a765-fcf4abfb355d' value=False, node=Node(id=830e0c1e-cbf5-42bf-be39-e0bb30e99cc8, position=(0, 0)), can_act=name='can_act' id='0897c6db-8efa-4ab5-b1f9-c463173323f6' value=True), Character(name=Character, id=7189b0d1-1a61-4bda-84db-55650b5fc4ae, blocks_movement=name='BlocksMovement' id='2e2bb796-fb74-4371-a14f-a32a536241e5' value=False, blocks_light=name='BlocksLight' id='e106ff51-a989-44ae-a765-fcf4abfb355d' value=False, node=Node(id=830e0c1e-cbf5-42bf-be39-e0bb30e99cc8, position=(0, 0)), can_act=name='can_act' id='0897c6db-8efa-4ab5-b1f9-c463173323f6' value=True), Door(name=Door, id=7f637993-9e39-4e6b-ab66-cc61d97893b4, blocks_movement=name='blocks_movement' id='5ca64ca9-9808-47ae-b910-109335427f62' value=False, blocks_light=name='blocks_light' id='959e9ae9-2632-43bc-9267-15a087272317' value=False, node=Node(id=830e0c1e-cbf5-42bf-be39-e0bb30e99cc8, position=(0, 0)), open=name='open' id='5bf6fcfa-ad13-4a1c-8185-e666b9022a07' value=True), Door(name=Door, id=7f637993-9e39-4e6b-ab66-cc61d97893b4, blocks_movement=name='blocks_movement' id='5ca64ca9-9808-47ae-b910-109335427f62' value=False, blocks_light=name='blocks_light' id='959e9ae9-2632-43bc-9267-15a087272317' value=False, node=Node(id=830e0c1e-cbf5-42bf-be39-e0bb30e99cc8, position=(0, 0)), open=name='open' id='5bf6fcfa-ad13-4a1c-8185-e666b9022a07' value=True), Door(name=Door, id=7f637993-9e39-4e6b-ab66-cc61d97893b4, blocks_movement=name='blocks_movement' id='be42a204-6ca3-4499-b60f-9453921c49ba' value=True, blocks_light=name='blocks_light' id='25f10c37-268f-4e0c-a869-dfeead641cd2' value=True, node=Node(id=830e0c1e-cbf5-42bf-be39-e0bb30e99cc8, position=(0, 0)), open=name='open' id='f24f6784-c009-47d8-b0bb-69e55e9d71ed' value=False)], grid_map=None, blocks_movement=True, blocks_light=True) open=Attribute(name='open', id='5bf6fcfa-ad13-4a1c-8185-e666b9022a07', value=True) to name='Door' id='7f637993-9e39-4e6b-ab66-cc61d97893b4' blocks_movement=Attribute(name='blocks_movement', id='be42a204-6ca3-4499-b60f-9453921c49ba', value=True) blocks_light=Attribute(name='blocks_light', id='25f10c37-268f-4e0c-a869-dfeead641cd2', value=True) node=Node(name='Node 1', id='830e0c1e-cbf5-42bf-be39-e0bb30e99cc8', position=Position(name='Position', id='906dae7c-156f-41cf-be77-a4c3118a5cfc', value=(0, 0)), entities=[Character(name=Character, id=7189b0d1-1a61-4bda-84db-55650b5fc4ae, blocks_movement=name='BlocksMovement' id='2e2bb796-fb74-4371-a14f-a32a536241e5' value=False, blocks_light=name='BlocksLight' id='e106ff51-a989-44ae-a765-fcf4abfb355d' value=False, node=Node(id=830e0c1e-cbf5-42bf-be39-e0bb30e99cc8, position=(0, 0)), can_act=name='can_act' id='0897c6db-8efa-4ab5-b1f9-c463173323f6' value=True), Character(name=Character, id=7189b0d1-1a61-4bda-84db-55650b5fc4ae, blocks_movement=name='BlocksMovement' id='2e2bb796-fb74-4371-a14f-a32a536241e5' value=False, blocks_light=name='BlocksLight' id='e106ff51-a989-44ae-a765-fcf4abfb355d' value=False, node=Node(id=830e0c1e-cbf5-42bf-be39-e0bb30e99cc8, position=(0, 0)), can_act=name='can_act' id='0897c6db-8efa-4ab5-b1f9-c463173323f6' value=True), Door(name=Door, id=7f637993-9e39-4e6b-ab66-cc61d97893b4, blocks_movement=name='blocks_movement' id='5ca64ca9-9808-47ae-b910-109335427f62' value=False, blocks_light=name='blocks_light' id='959e9ae9-2632-43bc-9267-15a087272317' value=False, node=Node(id=830e0c1e-cbf5-42bf-be39-e0bb30e99cc8, position=(0, 0)), open=name='open' id='5bf6fcfa-ad13-4a1c-8185-e666b9022a07' value=True), Door(name=Door, id=7f637993-9e39-4e6b-ab66-cc61d97893b4, blocks_movement=name='blocks_movement' id='5ca64ca9-9808-47ae-b910-109335427f62' value=False, blocks_light=name='blocks_light' id='959e9ae9-2632-43bc-9267-15a087272317' value=False, node=Node(id=830e0c1e-cbf5-42bf-be39-e0bb30e99cc8, position=(0, 0)), open=name='open' id='5bf6fcfa-ad13-4a1c-8185-e666b9022a07' value=True), Door(name=Door, id=7f637993-9e39-4e6b-ab66-cc61d97893b4, blocks_movement=name='blocks_movement' id='be42a204-6ca3-4499-b60f-9453921c49ba' value=True, blocks_light=name='blocks_light' id='25f10c37-268f-4e0c-a869-dfeead641cd2' value=True, node=Node(id=830e0c1e-cbf5-42bf-be39-e0bb30e99cc8, position=(0, 0)), open=name='open' id='f24f6784-c009-47d8-b0bb-69e55e9d71ed' value=False)], grid_map=None, blocks_movement=True, blocks_light=True) open=Attribute(name='open', id='f24f6784-c009-47d8-b0bb-69e55e9d71ed', value=False)\n",
      "Target is updated\n",
      "[Character(name=Character, id=7189b0d1-1a61-4bda-84db-55650b5fc4ae, blocks_movement=name='BlocksMovement' id='2e2bb796-fb74-4371-a14f-a32a536241e5' value=False, blocks_light=name='BlocksLight' id='e106ff51-a989-44ae-a765-fcf4abfb355d' value=False, node=Node(id=830e0c1e-cbf5-42bf-be39-e0bb30e99cc8, position=(0, 0)), can_act=name='can_act' id='0897c6db-8efa-4ab5-b1f9-c463173323f6' value=True), Character(name=Character, id=7189b0d1-1a61-4bda-84db-55650b5fc4ae, blocks_movement=name='BlocksMovement' id='2e2bb796-fb74-4371-a14f-a32a536241e5' value=False, blocks_light=name='BlocksLight' id='e106ff51-a989-44ae-a765-fcf4abfb355d' value=False, node=Node(id=830e0c1e-cbf5-42bf-be39-e0bb30e99cc8, position=(0, 0)), can_act=name='can_act' id='0897c6db-8efa-4ab5-b1f9-c463173323f6' value=True), Door(name=Door, id=7f637993-9e39-4e6b-ab66-cc61d97893b4, blocks_movement=name='blocks_movement' id='5ca64ca9-9808-47ae-b910-109335427f62' value=False, blocks_light=name='blocks_light' id='959e9ae9-2632-43bc-9267-15a087272317' value=False, open=name='open' id='5bf6fcfa-ad13-4a1c-8185-e666b9022a07' value=True), Door(name=Door, id=7f637993-9e39-4e6b-ab66-cc61d97893b4, blocks_movement=name='blocks_movement' id='be42a204-6ca3-4499-b60f-9453921c49ba' value=True, blocks_light=name='blocks_light' id='25f10c37-268f-4e0c-a869-dfeead641cd2' value=True, node=Node(id=830e0c1e-cbf5-42bf-be39-e0bb30e99cc8, position=(0, 0)), open=name='open' id='f24f6784-c009-47d8-b0bb-69e55e9d71ed' value=False), Door(name=Door, id=7f637993-9e39-4e6b-ab66-cc61d97893b4, blocks_movement=name='blocks_movement' id='be42a204-6ca3-4499-b60f-9453921c49ba' value=True, blocks_light=name='blocks_light' id='25f10c37-268f-4e0c-a869-dfeead641cd2' value=True, node=Node(id=830e0c1e-cbf5-42bf-be39-e0bb30e99cc8, position=(0, 0)), open=name='open' id='f24f6784-c009-47d8-b0bb-69e55e9d71ed' value=False)]\n",
      "After closing the door:\n",
      "Door open: False\n",
      "Door blocks movement: True\n",
      "Door blocks light: True\n",
      "Node 1 blocks movement: True\n",
      "Node 1 blocks light: True\n"
     ]
    }
   ],
   "source": [
    "# Test the open_door action\n",
    "if open_door.is_applicable(character, door):\n",
    "    updated_character, updated_door = open_door.apply(character, door)\n",
    "    # updated_door.update_block_attributes()\n",
    "    # node1.update_entity(door, updated_door)\n",
    "    print(\"After opening the door:\")\n",
    "    print(f\"Door open: {updated_door.open.value}\")\n",
    "    print(f\"Door blocks movement: {updated_door.blocks_movement.value}\")\n",
    "    print(f\"Door blocks light: {updated_door.blocks_light.value}\")\n",
    "    print(f\"Node 1 blocks movement: {node1.blocks_movement}\")\n",
    "    print(f\"Node 1 blocks light: {node1.blocks_light}\")\n",
    "else:\n",
    "    print(\"Cannot open the door\")\n",
    "print()\n",
    "\n",
    "# Test the close_door action\n",
    "if close_door.is_applicable(character, updated_door):\n",
    "    updated_character, updated_updated_door = close_door.apply(character, updated_door)\n",
    "    # node1.update_entity(updated_door, updated_updated_door)\n",
    "    print(node1.entities)\n",
    "    print(\"After closing the door:\")\n",
    "    print(f\"Door open: {updated_updated_door.open.value}\")\n",
    "    print(f\"Door blocks movement: {updated_updated_door.blocks_movement.value}\")\n",
    "    print(f\"Door blocks light: {updated_updated_door.blocks_light.value}\")\n",
    "    print(f\"Node 1 blocks movement: {node1.blocks_movement}\")\n",
    "    print(f\"Node 1 blocks light: {node1.blocks_light}\")\n",
    "else:\n",
    "    print(\"Cannot close the door\")"
   ]
  },
  {
   "cell_type": "code",
   "execution_count": 3,
   "metadata": {},
   "outputs": [
    {
     "data": {
      "text/plain": [
       "Door(name=Door, id=7f637993-9e39-4e6b-ab66-cc61d97893b4, blocks_movement=name='blocks_movement' id='be42a204-6ca3-4499-b60f-9453921c49ba' value=True, blocks_light=name='blocks_light' id='25f10c37-268f-4e0c-a869-dfeead641cd2' value=True, node=Node(id=830e0c1e-cbf5-42bf-be39-e0bb30e99cc8, position=(0, 0)), open=name='open' id='f24f6784-c009-47d8-b0bb-69e55e9d71ed' value=False)"
      ]
     },
     "execution_count": 3,
     "metadata": {},
     "output_type": "execute_result"
    }
   ],
   "source": [
    "updated_updated_door"
   ]
  }
 ],
 "metadata": {
  "kernelspec": {
   "display_name": "Python 3",
   "language": "python",
   "name": "python3"
  },
  "language_info": {
   "codemirror_mode": {
    "name": "ipython",
    "version": 3
   },
   "file_extension": ".py",
   "mimetype": "text/x-python",
   "name": "python",
   "nbconvert_exporter": "python",
   "pygments_lexer": "ipython3",
   "version": "3.10.6"
  }
 },
 "nbformat": 4,
 "nbformat_minor": 2
}
