{
 "cells": [
  {
   "cell_type": "code",
   "execution_count": 1,
   "metadata": {},
   "outputs": [
    {
     "name": "stdout",
     "output_type": "stream",
     "text": [
      "Initial state:\n",
      "Door open: False\n",
      "Door blocks movement: True\n",
      "Door blocks light: True\n",
      "Node 1 blocks movement: True\n",
      "Node 1 blocks light: True\n",
      "\n"
     ]
    }
   ],
   "source": [
    "from abstractions.goap.actions import Action, Prerequisites, Consequences\n",
    "from abstractions.goap.entity import Attribute, Statement\n",
    "from abstractions.goap.spatial import GameEntity, Node, Position\n",
    "\n",
    "class Door(GameEntity):\n",
    "    open: Attribute = Attribute(name=\"open\", value=False)\n",
    "    blocks_movement: Attribute = Attribute(name=\"blocks_movement\", value=True)\n",
    "    blocks_light: Attribute = Attribute(name=\"blocks_light\", value=True)\n",
    "\n",
    "    def __init__(self, **data):\n",
    "        super().__init__(**data)\n",
    "        self.update_block_attributes()\n",
    "\n",
    "    def update_block_attributes(self):\n",
    "        self.blocks_movement = Attribute(name=\"blocks_movement\", value=not self.open.value)\n",
    "        self.blocks_light = Attribute(name=\"blocks_light\", value=not self.open.value)\n",
    "\n",
    "class Character(GameEntity):\n",
    "    can_act: Attribute = Attribute(name=\"can_act\", value=True)\n",
    "\n",
    "# Define the open_door action\n",
    "open_door = Action(\n",
    "    name=\"Open Door\",\n",
    "    prerequisites=Prerequisites(\n",
    "        source_statements=[Statement(conditions={\"can_act\": True})],\n",
    "        target_statements=[Statement(conditions={\"open\": False})]\n",
    "    ),\n",
    "    consequences=Consequences(\n",
    "        target_transformations={\"open\": True}\n",
    "    )\n",
    ")\n",
    "\n",
    "# Define the close_door action\n",
    "close_door = Action(\n",
    "    name=\"Close Door\",\n",
    "    prerequisites=Prerequisites(\n",
    "        source_statements=[Statement(conditions={\"can_act\": True})],\n",
    "        target_statements=[Statement(conditions={\"open\": True})]\n",
    "    ),\n",
    "    consequences=Consequences(\n",
    "        target_transformations={\"open\": False}\n",
    "    )\n",
    ")\n",
    "\n",
    "# Create a test environment\n",
    "node1 = Node(name=\"Node 1\", position=Position(value=(0, 0)))\n",
    "node2 = Node(name=\"Node 2\", position=Position(value=(1, 0)))\n",
    "\n",
    "door = Door(name=\"Wooden Door\")\n",
    "character = Character(name=\"John\")\n",
    "\n",
    "node1.add_entity(door)\n",
    "node1.add_entity(character)\n",
    "\n",
    "print(\"Initial state:\")\n",
    "print(f\"Door open: {door.open.value}\")\n",
    "print(f\"Door blocks movement: {door.blocks_movement.value}\")\n",
    "print(f\"Door blocks light: {door.blocks_light.value}\")\n",
    "print(f\"Node 1 blocks movement: {node1.blocks_movement}\")\n",
    "print(f\"Node 1 blocks light: {node1.blocks_light}\")\n",
    "print()\n",
    "\n"
   ]
  },
  {
   "cell_type": "code",
   "execution_count": 2,
   "metadata": {},
   "outputs": [
    {
     "name": "stdout",
     "output_type": "stream",
     "text": [
      "Updating entity name='John' id='76e49b99-1892-4cc0-a5a9-ed43e407a7fc' blocks_movement=BlocksMovement(name='BlocksMovement', id='ad0b280c-7d60-4779-bb8a-53ed2fdd6440', value=False) blocks_light=BlocksLight(name='BlocksLight', id='563e7e4c-4d40-40a7-a43e-dda5326e6c6d', value=False) node=Node(name='Node 1', id='92d9ee78-9ea2-44a5-a0e7-eac4a140be35', position=Position(name='Position', id='569eb1ad-e37e-48a5-8d69-c4ead5dc6be9', value=(0, 0)), entities=[Door(name=Wooden Door, id=07d5a060-ac1d-4de2-b0c1-711c89c0b4ef, blocks_movement=name='blocks_movement' id='d2783201-9228-4f4b-b455-471f7b7c445a' value=True, blocks_light=name='blocks_light' id='51e1af92-10a4-43a1-9d59-b356a3d0093a' value=True, node=Node(id=92d9ee78-9ea2-44a5-a0e7-eac4a140be35, position=(0, 0)), open=name='open' id='d79c6436-7197-4859-8bc0-0e9236060eb3' value=False), Character(name=John, id=76e49b99-1892-4cc0-a5a9-ed43e407a7fc, blocks_movement=name='BlocksMovement' id='ad0b280c-7d60-4779-bb8a-53ed2fdd6440' value=False, blocks_light=name='BlocksLight' id='563e7e4c-4d40-40a7-a43e-dda5326e6c6d' value=False, node=Node(id=92d9ee78-9ea2-44a5-a0e7-eac4a140be35, position=(0, 0)), can_act=name='can_act' id='06fd93f3-38aa-4ae0-87ed-6810f86eadcb' value=True), Character(name=Character, id=76e49b99-1892-4cc0-a5a9-ed43e407a7fc, blocks_movement=name='BlocksMovement' id='b112b609-1783-4d1e-a754-6ea5ce26366c' value=False, blocks_light=name='BlocksLight' id='27ea83c7-4910-44b0-9095-50444b642f10' value=False, node=Node(id=92d9ee78-9ea2-44a5-a0e7-eac4a140be35, position=(0, 0)), can_act=name='can_act' id='06fd93f3-38aa-4ae0-87ed-6810f86eadcb' value=True)], grid_map=None, blocks_movement=True, blocks_light=True) can_act=Attribute(name='can_act', id='06fd93f3-38aa-4ae0-87ed-6810f86eadcb', value=True) to name='Character' id='76e49b99-1892-4cc0-a5a9-ed43e407a7fc' blocks_movement=BlocksMovement(name='BlocksMovement', id='b112b609-1783-4d1e-a754-6ea5ce26366c', value=False) blocks_light=BlocksLight(name='BlocksLight', id='27ea83c7-4910-44b0-9095-50444b642f10', value=False) node=Node(name='Node 1', id='92d9ee78-9ea2-44a5-a0e7-eac4a140be35', position=Position(name='Position', id='569eb1ad-e37e-48a5-8d69-c4ead5dc6be9', value=(0, 0)), entities=[Door(name=Wooden Door, id=07d5a060-ac1d-4de2-b0c1-711c89c0b4ef, blocks_movement=name='blocks_movement' id='d2783201-9228-4f4b-b455-471f7b7c445a' value=True, blocks_light=name='blocks_light' id='51e1af92-10a4-43a1-9d59-b356a3d0093a' value=True, node=Node(id=92d9ee78-9ea2-44a5-a0e7-eac4a140be35, position=(0, 0)), open=name='open' id='d79c6436-7197-4859-8bc0-0e9236060eb3' value=False), Character(name=John, id=76e49b99-1892-4cc0-a5a9-ed43e407a7fc, blocks_movement=name='BlocksMovement' id='ad0b280c-7d60-4779-bb8a-53ed2fdd6440' value=False, blocks_light=name='BlocksLight' id='563e7e4c-4d40-40a7-a43e-dda5326e6c6d' value=False, node=Node(id=92d9ee78-9ea2-44a5-a0e7-eac4a140be35, position=(0, 0)), can_act=name='can_act' id='06fd93f3-38aa-4ae0-87ed-6810f86eadcb' value=True), Character(name=Character, id=76e49b99-1892-4cc0-a5a9-ed43e407a7fc, blocks_movement=name='BlocksMovement' id='b112b609-1783-4d1e-a754-6ea5ce26366c' value=False, blocks_light=name='BlocksLight' id='27ea83c7-4910-44b0-9095-50444b642f10' value=False, node=Node(id=92d9ee78-9ea2-44a5-a0e7-eac4a140be35, position=(0, 0)), can_act=name='can_act' id='06fd93f3-38aa-4ae0-87ed-6810f86eadcb' value=True)], grid_map=None, blocks_movement=True, blocks_light=True) can_act=Attribute(name='can_act', id='06fd93f3-38aa-4ae0-87ed-6810f86eadcb', value=True)\n",
      "Updating entity name='Wooden Door' id='07d5a060-ac1d-4de2-b0c1-711c89c0b4ef' blocks_movement=Attribute(name='blocks_movement', id='d2783201-9228-4f4b-b455-471f7b7c445a', value=True) blocks_light=Attribute(name='blocks_light', id='51e1af92-10a4-43a1-9d59-b356a3d0093a', value=True) node=Node(name='Node 1', id='92d9ee78-9ea2-44a5-a0e7-eac4a140be35', position=Position(name='Position', id='569eb1ad-e37e-48a5-8d69-c4ead5dc6be9', value=(0, 0)), entities=[Door(name=Wooden Door, id=07d5a060-ac1d-4de2-b0c1-711c89c0b4ef, blocks_movement=name='blocks_movement' id='d2783201-9228-4f4b-b455-471f7b7c445a' value=True, blocks_light=name='blocks_light' id='51e1af92-10a4-43a1-9d59-b356a3d0093a' value=True, node=Node(id=92d9ee78-9ea2-44a5-a0e7-eac4a140be35, position=(0, 0)), open=name='open' id='d79c6436-7197-4859-8bc0-0e9236060eb3' value=False), Character(name=Character, id=76e49b99-1892-4cc0-a5a9-ed43e407a7fc, blocks_movement=name='BlocksMovement' id='b112b609-1783-4d1e-a754-6ea5ce26366c' value=False, blocks_light=name='BlocksLight' id='27ea83c7-4910-44b0-9095-50444b642f10' value=False, node=Node(id=92d9ee78-9ea2-44a5-a0e7-eac4a140be35, position=(0, 0)), can_act=name='can_act' id='06fd93f3-38aa-4ae0-87ed-6810f86eadcb' value=True), Character(name=Character, id=76e49b99-1892-4cc0-a5a9-ed43e407a7fc, blocks_movement=name='BlocksMovement' id='b112b609-1783-4d1e-a754-6ea5ce26366c' value=False, blocks_light=name='BlocksLight' id='27ea83c7-4910-44b0-9095-50444b642f10' value=False, node=Node(id=92d9ee78-9ea2-44a5-a0e7-eac4a140be35, position=(0, 0)), can_act=name='can_act' id='06fd93f3-38aa-4ae0-87ed-6810f86eadcb' value=True), Door(name=Door, id=07d5a060-ac1d-4de2-b0c1-711c89c0b4ef, blocks_movement=name='blocks_movement' id='e67348d5-7f1e-41f6-8f1c-782398106dc2' value=False, blocks_light=name='blocks_light' id='b6132a79-5119-4368-aad2-03d9fa28b4c5' value=False, node=Node(id=92d9ee78-9ea2-44a5-a0e7-eac4a140be35, position=(0, 0)), open=name='open' id='af4f4fbb-a208-443e-85a7-0372ae912e32' value=True)], grid_map=None, blocks_movement=True, blocks_light=True) open=Attribute(name='open', id='d79c6436-7197-4859-8bc0-0e9236060eb3', value=False) to name='Door' id='07d5a060-ac1d-4de2-b0c1-711c89c0b4ef' blocks_movement=Attribute(name='blocks_movement', id='e67348d5-7f1e-41f6-8f1c-782398106dc2', value=False) blocks_light=Attribute(name='blocks_light', id='b6132a79-5119-4368-aad2-03d9fa28b4c5', value=False) node=Node(name='Node 1', id='92d9ee78-9ea2-44a5-a0e7-eac4a140be35', position=Position(name='Position', id='569eb1ad-e37e-48a5-8d69-c4ead5dc6be9', value=(0, 0)), entities=[Door(name=Wooden Door, id=07d5a060-ac1d-4de2-b0c1-711c89c0b4ef, blocks_movement=name='blocks_movement' id='d2783201-9228-4f4b-b455-471f7b7c445a' value=True, blocks_light=name='blocks_light' id='51e1af92-10a4-43a1-9d59-b356a3d0093a' value=True, node=Node(id=92d9ee78-9ea2-44a5-a0e7-eac4a140be35, position=(0, 0)), open=name='open' id='d79c6436-7197-4859-8bc0-0e9236060eb3' value=False), Character(name=Character, id=76e49b99-1892-4cc0-a5a9-ed43e407a7fc, blocks_movement=name='BlocksMovement' id='b112b609-1783-4d1e-a754-6ea5ce26366c' value=False, blocks_light=name='BlocksLight' id='27ea83c7-4910-44b0-9095-50444b642f10' value=False, node=Node(id=92d9ee78-9ea2-44a5-a0e7-eac4a140be35, position=(0, 0)), can_act=name='can_act' id='06fd93f3-38aa-4ae0-87ed-6810f86eadcb' value=True), Character(name=Character, id=76e49b99-1892-4cc0-a5a9-ed43e407a7fc, blocks_movement=name='BlocksMovement' id='b112b609-1783-4d1e-a754-6ea5ce26366c' value=False, blocks_light=name='BlocksLight' id='27ea83c7-4910-44b0-9095-50444b642f10' value=False, node=Node(id=92d9ee78-9ea2-44a5-a0e7-eac4a140be35, position=(0, 0)), can_act=name='can_act' id='06fd93f3-38aa-4ae0-87ed-6810f86eadcb' value=True), Door(name=Door, id=07d5a060-ac1d-4de2-b0c1-711c89c0b4ef, blocks_movement=name='blocks_movement' id='e67348d5-7f1e-41f6-8f1c-782398106dc2' value=False, blocks_light=name='blocks_light' id='b6132a79-5119-4368-aad2-03d9fa28b4c5' value=False, node=Node(id=92d9ee78-9ea2-44a5-a0e7-eac4a140be35, position=(0, 0)), open=name='open' id='af4f4fbb-a208-443e-85a7-0372ae912e32' value=True)], grid_map=None, blocks_movement=True, blocks_light=True) open=Attribute(name='open', id='af4f4fbb-a208-443e-85a7-0372ae912e32', value=True)\n",
      "After opening the door:\n",
      "Door open: True\n",
      "Door blocks movement: False\n",
      "Door blocks light: False\n",
      "Node 1 blocks movement: False\n",
      "Node 1 blocks light: False\n",
      "\n",
      "Updating entity name='Door' id='07d5a060-ac1d-4de2-b0c1-711c89c0b4ef' blocks_movement=Attribute(name='blocks_movement', id='e67348d5-7f1e-41f6-8f1c-782398106dc2', value=False) blocks_light=Attribute(name='blocks_light', id='b6132a79-5119-4368-aad2-03d9fa28b4c5', value=False) node=Node(name='Node 1', id='92d9ee78-9ea2-44a5-a0e7-eac4a140be35', position=Position(name='Position', id='569eb1ad-e37e-48a5-8d69-c4ead5dc6be9', value=(0, 0)), entities=[Character(name=Character, id=76e49b99-1892-4cc0-a5a9-ed43e407a7fc, blocks_movement=name='BlocksMovement' id='b112b609-1783-4d1e-a754-6ea5ce26366c' value=False, blocks_light=name='BlocksLight' id='27ea83c7-4910-44b0-9095-50444b642f10' value=False, node=Node(id=92d9ee78-9ea2-44a5-a0e7-eac4a140be35, position=(0, 0)), can_act=name='can_act' id='06fd93f3-38aa-4ae0-87ed-6810f86eadcb' value=True), Character(name=Character, id=76e49b99-1892-4cc0-a5a9-ed43e407a7fc, blocks_movement=name='BlocksMovement' id='b112b609-1783-4d1e-a754-6ea5ce26366c' value=False, blocks_light=name='BlocksLight' id='27ea83c7-4910-44b0-9095-50444b642f10' value=False, node=Node(id=92d9ee78-9ea2-44a5-a0e7-eac4a140be35, position=(0, 0)), can_act=name='can_act' id='06fd93f3-38aa-4ae0-87ed-6810f86eadcb' value=True), Door(name=Door, id=07d5a060-ac1d-4de2-b0c1-711c89c0b4ef, blocks_movement=name='blocks_movement' id='e67348d5-7f1e-41f6-8f1c-782398106dc2' value=False, blocks_light=name='blocks_light' id='b6132a79-5119-4368-aad2-03d9fa28b4c5' value=False, node=Node(id=92d9ee78-9ea2-44a5-a0e7-eac4a140be35, position=(0, 0)), open=name='open' id='af4f4fbb-a208-443e-85a7-0372ae912e32' value=True), Door(name=Door, id=07d5a060-ac1d-4de2-b0c1-711c89c0b4ef, blocks_movement=name='blocks_movement' id='e67348d5-7f1e-41f6-8f1c-782398106dc2' value=False, blocks_light=name='blocks_light' id='b6132a79-5119-4368-aad2-03d9fa28b4c5' value=False, node=Node(id=92d9ee78-9ea2-44a5-a0e7-eac4a140be35, position=(0, 0)), open=name='open' id='af4f4fbb-a208-443e-85a7-0372ae912e32' value=True), Door(name=Door, id=07d5a060-ac1d-4de2-b0c1-711c89c0b4ef, blocks_movement=name='blocks_movement' id='f844a1ba-ed35-4d12-a73e-1d7e1ee72ebf' value=True, blocks_light=name='blocks_light' id='06074fbb-e16f-45ee-8c9e-a84d75a86702' value=True, node=Node(id=92d9ee78-9ea2-44a5-a0e7-eac4a140be35, position=(0, 0)), open=name='open' id='27438c40-0b07-4eb5-a83a-856ba8de530e' value=False)], grid_map=None, blocks_movement=True, blocks_light=True) open=Attribute(name='open', id='af4f4fbb-a208-443e-85a7-0372ae912e32', value=True) to name='Door' id='07d5a060-ac1d-4de2-b0c1-711c89c0b4ef' blocks_movement=Attribute(name='blocks_movement', id='f844a1ba-ed35-4d12-a73e-1d7e1ee72ebf', value=True) blocks_light=Attribute(name='blocks_light', id='06074fbb-e16f-45ee-8c9e-a84d75a86702', value=True) node=Node(name='Node 1', id='92d9ee78-9ea2-44a5-a0e7-eac4a140be35', position=Position(name='Position', id='569eb1ad-e37e-48a5-8d69-c4ead5dc6be9', value=(0, 0)), entities=[Character(name=Character, id=76e49b99-1892-4cc0-a5a9-ed43e407a7fc, blocks_movement=name='BlocksMovement' id='b112b609-1783-4d1e-a754-6ea5ce26366c' value=False, blocks_light=name='BlocksLight' id='27ea83c7-4910-44b0-9095-50444b642f10' value=False, node=Node(id=92d9ee78-9ea2-44a5-a0e7-eac4a140be35, position=(0, 0)), can_act=name='can_act' id='06fd93f3-38aa-4ae0-87ed-6810f86eadcb' value=True), Character(name=Character, id=76e49b99-1892-4cc0-a5a9-ed43e407a7fc, blocks_movement=name='BlocksMovement' id='b112b609-1783-4d1e-a754-6ea5ce26366c' value=False, blocks_light=name='BlocksLight' id='27ea83c7-4910-44b0-9095-50444b642f10' value=False, node=Node(id=92d9ee78-9ea2-44a5-a0e7-eac4a140be35, position=(0, 0)), can_act=name='can_act' id='06fd93f3-38aa-4ae0-87ed-6810f86eadcb' value=True), Door(name=Door, id=07d5a060-ac1d-4de2-b0c1-711c89c0b4ef, blocks_movement=name='blocks_movement' id='e67348d5-7f1e-41f6-8f1c-782398106dc2' value=False, blocks_light=name='blocks_light' id='b6132a79-5119-4368-aad2-03d9fa28b4c5' value=False, node=Node(id=92d9ee78-9ea2-44a5-a0e7-eac4a140be35, position=(0, 0)), open=name='open' id='af4f4fbb-a208-443e-85a7-0372ae912e32' value=True), Door(name=Door, id=07d5a060-ac1d-4de2-b0c1-711c89c0b4ef, blocks_movement=name='blocks_movement' id='e67348d5-7f1e-41f6-8f1c-782398106dc2' value=False, blocks_light=name='blocks_light' id='b6132a79-5119-4368-aad2-03d9fa28b4c5' value=False, node=Node(id=92d9ee78-9ea2-44a5-a0e7-eac4a140be35, position=(0, 0)), open=name='open' id='af4f4fbb-a208-443e-85a7-0372ae912e32' value=True), Door(name=Door, id=07d5a060-ac1d-4de2-b0c1-711c89c0b4ef, blocks_movement=name='blocks_movement' id='f844a1ba-ed35-4d12-a73e-1d7e1ee72ebf' value=True, blocks_light=name='blocks_light' id='06074fbb-e16f-45ee-8c9e-a84d75a86702' value=True, node=Node(id=92d9ee78-9ea2-44a5-a0e7-eac4a140be35, position=(0, 0)), open=name='open' id='27438c40-0b07-4eb5-a83a-856ba8de530e' value=False)], grid_map=None, blocks_movement=True, blocks_light=True) open=Attribute(name='open', id='27438c40-0b07-4eb5-a83a-856ba8de530e', value=False)\n",
      "After closing the door:\n",
      "Door open: False\n",
      "Door blocks movement: True\n",
      "Door blocks light: True\n",
      "Node 1 blocks movement: True\n",
      "Node 1 blocks light: True\n"
     ]
    }
   ],
   "source": [
    "# Test the open_door action\n",
    "if open_door.is_applicable(character, door):\n",
    "    updated_character, updated_door = open_door.apply(character, door)\n",
    "    # updated_door.update_block_attributes()\n",
    "    # node1.update_entity(door, updated_door)\n",
    "    print(\"After opening the door:\")\n",
    "    print(f\"Door open: {updated_door.open.value}\")\n",
    "    print(f\"Door blocks movement: {updated_door.blocks_movement.value}\")\n",
    "    print(f\"Door blocks light: {updated_door.blocks_light.value}\")\n",
    "    print(f\"Node 1 blocks movement: {node1.blocks_movement}\")\n",
    "    print(f\"Node 1 blocks light: {node1.blocks_light}\")\n",
    "else:\n",
    "    print(\"Cannot open the door\")\n",
    "print()\n",
    "\n",
    "# Test the close_door action\n",
    "if close_door.is_applicable(character, updated_door):\n",
    "    updated_character, updated_updated_door = close_door.apply(character, updated_door)\n",
    "    # node1.update_entity(updated_door, updated_updated_door)\n",
    "    print(\"After closing the door:\")\n",
    "    print(f\"Door open: {updated_updated_door.open.value}\")\n",
    "    print(f\"Door blocks movement: {updated_updated_door.blocks_movement.value}\")\n",
    "    print(f\"Door blocks light: {updated_updated_door.blocks_light.value}\")\n",
    "    print(f\"Node 1 blocks movement: {node1.blocks_movement}\")\n",
    "    print(f\"Node 1 blocks light: {node1.blocks_light}\")\n",
    "else:\n",
    "    print(\"Cannot close the door\")"
   ]
  },
  {
   "cell_type": "code",
   "execution_count": 3,
   "metadata": {},
   "outputs": [
    {
     "data": {
      "text/plain": [
       "Door(name=Door, id=07d5a060-ac1d-4de2-b0c1-711c89c0b4ef, blocks_movement=name='blocks_movement' id='f844a1ba-ed35-4d12-a73e-1d7e1ee72ebf' value=True, blocks_light=name='blocks_light' id='06074fbb-e16f-45ee-8c9e-a84d75a86702' value=True, node=Node(id=92d9ee78-9ea2-44a5-a0e7-eac4a140be35, position=(0, 0)), open=name='open' id='27438c40-0b07-4eb5-a83a-856ba8de530e' value=False)"
      ]
     },
     "execution_count": 3,
     "metadata": {},
     "output_type": "execute_result"
    }
   ],
   "source": [
    "updated_updated_door"
   ]
  }
 ],
 "metadata": {
  "kernelspec": {
   "display_name": "Python 3",
   "language": "python",
   "name": "python3"
  },
  "language_info": {
   "codemirror_mode": {
    "name": "ipython",
    "version": 3
   },
   "file_extension": ".py",
   "mimetype": "text/x-python",
   "name": "python",
   "nbconvert_exporter": "python",
   "pygments_lexer": "ipython3",
   "version": "3.10.6"
  }
 },
 "nbformat": 4,
 "nbformat_minor": 2
}
