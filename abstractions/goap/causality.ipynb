{
 "cells": [
  {
   "cell_type": "code",
   "execution_count": 1,
   "metadata": {},
   "outputs": [
    {
     "name": "stdout",
     "output_type": "stream",
     "text": [
      "Initial state:\n",
      "Door open: False\n",
      "Door blocks movement: True\n",
      "Door blocks light: True\n",
      "Node 1 blocks movement: True\n",
      "Node 1 blocks light: True\n",
      "\n"
     ]
    }
   ],
   "source": [
    "from abstractions.goap.actions import Action, Prerequisites, Consequences\n",
    "from abstractions.goap.entity import Attribute, Statement\n",
    "from abstractions.goap.spatial import GameEntity, Node, Position\n",
    "\n",
    "class Door(GameEntity):\n",
    "    open: Attribute = Attribute(name=\"open\", value=False)\n",
    "    blocks_movement: Attribute = Attribute(name=\"blocks_movement\", value=True)\n",
    "    blocks_light: Attribute = Attribute(name=\"blocks_light\", value=True)\n",
    "\n",
    "    def __init__(self, **data):\n",
    "        super().__init__(**data)\n",
    "        self.update_block_attributes()\n",
    "\n",
    "    def update_block_attributes(self):\n",
    "        self.blocks_movement = Attribute(name=\"blocks_movement\", value=not self.open.value)\n",
    "        self.blocks_light = Attribute(name=\"blocks_light\", value=not self.open.value)\n",
    "\n",
    "class Character(GameEntity):\n",
    "    can_act: Attribute = Attribute(name=\"can_act\", value=True)\n",
    "\n",
    "# Define the open_door action\n",
    "open_door = Action(\n",
    "    name=\"Open Door\",\n",
    "    prerequisites=Prerequisites(\n",
    "        source_statements=[Statement(conditions={\"can_act\": True})],\n",
    "        target_statements=[Statement(conditions={\"open\": False})]\n",
    "    ),\n",
    "    consequences=Consequences(\n",
    "        target_transformations={\"open\": True}\n",
    "    )\n",
    ")\n",
    "\n",
    "# Define the close_door action\n",
    "close_door = Action(\n",
    "    name=\"Close Door\",\n",
    "    prerequisites=Prerequisites(\n",
    "        source_statements=[Statement(conditions={\"can_act\": True})],\n",
    "        target_statements=[Statement(conditions={\"open\": True})]\n",
    "    ),\n",
    "    consequences=Consequences(\n",
    "        target_transformations={\"open\": False}\n",
    "    )\n",
    ")\n",
    "\n",
    "# Create a test environment\n",
    "node1 = Node(name=\"Node 1\", position=Position(value=(0, 0)))\n",
    "node2 = Node(name=\"Node 2\", position=Position(value=(1, 0)))\n",
    "\n",
    "door = Door(name=\"Wooden Door\")\n",
    "character = Character(name=\"John\")\n",
    "\n",
    "node1.add_entity(door)\n",
    "node1.add_entity(character)\n",
    "\n",
    "print(\"Initial state:\")\n",
    "print(f\"Door open: {door.open.value}\")\n",
    "print(f\"Door blocks movement: {door.blocks_movement.value}\")\n",
    "print(f\"Door blocks light: {door.blocks_light.value}\")\n",
    "print(f\"Node 1 blocks movement: {node1.blocks_movement}\")\n",
    "print(f\"Node 1 blocks light: {node1.blocks_light}\")\n",
    "print()\n",
    "\n"
   ]
  },
  {
   "cell_type": "code",
   "execution_count": 2,
   "metadata": {},
   "outputs": [
    {
     "name": "stdout",
     "output_type": "stream",
     "text": [
      "After opening the door:\n",
      "Door open: True\n",
      "Door blocks movement: False\n",
      "Door blocks light: False\n",
      "Node 1 blocks movement: False\n",
      "Node 1 blocks light: False\n",
      "\n",
      "After closing the door:\n",
      "Door open: False\n",
      "Door blocks movement: True\n",
      "Door blocks light: True\n",
      "Node 1 blocks movement: True\n",
      "Node 1 blocks light: True\n"
     ]
    }
   ],
   "source": [
    "# Test the open_door action\n",
    "if open_door.is_applicable(character, door):\n",
    "    updated_character, updated_door = open_door.apply(character, door)\n",
    "    # updated_door.update_block_attributes()\n",
    "    # node1.update_entity(door, updated_door)\n",
    "    print(\"After opening the door:\")\n",
    "    print(f\"Door open: {updated_door.open.value}\")\n",
    "    print(f\"Door blocks movement: {updated_door.blocks_movement.value}\")\n",
    "    print(f\"Door blocks light: {updated_door.blocks_light.value}\")\n",
    "    print(f\"Node 1 blocks movement: {node1.blocks_movement}\")\n",
    "    print(f\"Node 1 blocks light: {node1.blocks_light}\")\n",
    "else:\n",
    "    print(\"Cannot open the door\")\n",
    "print()\n",
    "\n",
    "# Test the close_door action\n",
    "if close_door.is_applicable(character, updated_door):\n",
    "    updated_character, updated_updated_door = close_door.apply(character, updated_door)\n",
    "    # node1.update_entity(updated_door, updated_updated_door)\n",
    "    print(\"After closing the door:\")\n",
    "    print(f\"Door open: {updated_updated_door.open.value}\")\n",
    "    print(f\"Door blocks movement: {updated_updated_door.blocks_movement.value}\")\n",
    "    print(f\"Door blocks light: {updated_updated_door.blocks_light.value}\")\n",
    "    print(f\"Node 1 blocks movement: {node1.blocks_movement}\")\n",
    "    print(f\"Node 1 blocks light: {node1.blocks_light}\")\n",
    "else:\n",
    "    print(\"Cannot close the door\")"
   ]
  },
  {
   "cell_type": "code",
   "execution_count": 3,
   "metadata": {},
   "outputs": [
    {
     "data": {
      "text/plain": [
       "Door(name=Door, id=b22668d8-484c-49cd-9fb0-30627a0f6d87, blocks_movement=name='blocks_movement' id='3dcc4d59-0943-4229-ab22-413dd13cb59f' value=True, blocks_light=name='blocks_light' id='d5e6e2cd-3cc8-4e9f-9cde-ea1b3cee6948' value=True, node=Node(id=ba6dd41f-ad8e-47d4-8ef7-d3ee8e96484c, position=(0, 0)), open=name='open' id='87ea1850-15d8-438b-90fd-67cb0078b850' value=False)"
      ]
     },
     "execution_count": 3,
     "metadata": {},
     "output_type": "execute_result"
    }
   ],
   "source": [
    "updated_updated_door"
   ]
  }
 ],
 "metadata": {
  "kernelspec": {
   "display_name": "Python 3",
   "language": "python",
   "name": "python3"
  },
  "language_info": {
   "codemirror_mode": {
    "name": "ipython",
    "version": 3
   },
   "file_extension": ".py",
   "mimetype": "text/x-python",
   "name": "python",
   "nbconvert_exporter": "python",
   "pygments_lexer": "ipython3",
   "version": "3.10.6"
  }
 },
 "nbformat": 4,
 "nbformat_minor": 2
}
