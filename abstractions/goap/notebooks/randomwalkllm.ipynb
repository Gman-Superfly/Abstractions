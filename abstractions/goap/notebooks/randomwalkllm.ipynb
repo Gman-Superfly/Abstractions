{
 "cells": [
  {
   "cell_type": "code",
   "execution_count": 1,
   "metadata": {},
   "outputs": [
    {
     "name": "stdout",
     "output_type": "stream",
     "text": [
      "pygame-ce 2.4.1 (SDL 2.28.5, Python 3.12.1)\n"
     ]
    },
    {
     "name": "stderr",
     "output_type": "stream",
     "text": [
      "/Users/tommasofurlanello/.pyenv/versions/3.12.1/envs/abstractions/lib/python3.12/site-packages/tqdm/auto.py:21: TqdmWarning: IProgress not found. Please update jupyter and ipywidgets. See https://ipywidgets.readthedocs.io/en/stable/user_install.html\n",
      "  from .autonotebook import tqdm as notebook_tqdm\n"
     ]
    }
   ],
   "source": [
    "import random\n",
    "from typing import List, Dict, Any, Optional, Tuple\n",
    "from pydantic import BaseModel, Field\n",
    "from abstractions.goap.entity import Statement\n",
    "from abstractions.goap.spatial import GridMap, Node, GameEntity, ActionResult,ActionsPayload, SummarizedActionPayload,SummarizedEgoActionPayload\n",
    "from abstractions.goap.interactions import MoveStep, PickupAction, DropAction, OpenAction, CloseAction, UnlockAction, LockAction\n",
    "from abstractions.goap.game.main import generate_dungeon\n",
    "from abstractions.goap.agents import  AgentGoal, FakeLLM, LLMAgent, CharacterAgent, RunMetadata, system_prompt, action_generation_prompt,OutlinesActionPayload, OutlinesEgoActionPayload\n",
    "import outlines\n",
    "from outlines import models, generate\n",
    "\n"
   ]
  },
  {
   "cell_type": "code",
   "execution_count": 2,
   "metadata": {},
   "outputs": [],
   "source": [
    "model_path = \"/Users/tommasofurlanello/Documents/Dev/models/NousResearch/Hermes-2-Pro-Mistral-7B-GGUF/Hermes-2-Pro-Mistral-7B.Q8_0.gguf\"\n",
    "# model_path = \"mistralai/Mistral-7B-Instruct-v0.2\"\n",
    "# model = models.llamacpp(model_path, model_kwargs={\"seed\": 1337, \"n_ctx\": 8000,\"n_gpu_layers\":-1})\n"
   ]
  },
  {
   "cell_type": "code",
   "execution_count": 3,
   "metadata": {},
   "outputs": [
    {
     "name": "stderr",
     "output_type": "stream",
     "text": [
      "llama_model_loader: loaded meta data with 22 key-value pairs and 291 tensors from /Users/tommasofurlanello/Documents/Dev/models/NousResearch/Hermes-2-Pro-Mistral-7B-GGUF/Hermes-2-Pro-Mistral-7B.Q8_0.gguf (version GGUF V3 (latest))\n",
      "llama_model_loader: Dumping metadata keys/values. Note: KV overrides do not apply in this output.\n",
      "llama_model_loader: - kv   0:                       general.architecture str              = llama\n",
      "llama_model_loader: - kv   1:                               general.name str              = jeffq\n",
      "llama_model_loader: - kv   2:                       llama.context_length u32              = 32768\n",
      "llama_model_loader: - kv   3:                     llama.embedding_length u32              = 4096\n",
      "llama_model_loader: - kv   4:                          llama.block_count u32              = 32\n",
      "llama_model_loader: - kv   5:                  llama.feed_forward_length u32              = 14336\n",
      "llama_model_loader: - kv   6:                 llama.rope.dimension_count u32              = 128\n",
      "llama_model_loader: - kv   7:                 llama.attention.head_count u32              = 32\n",
      "llama_model_loader: - kv   8:              llama.attention.head_count_kv u32              = 8\n",
      "llama_model_loader: - kv   9:     llama.attention.layer_norm_rms_epsilon f32              = 0.000010\n",
      "llama_model_loader: - kv  10:                       llama.rope.freq_base f32              = 10000.000000\n",
      "llama_model_loader: - kv  11:                          general.file_type u32              = 7\n",
      "llama_model_loader: - kv  12:                       tokenizer.ggml.model str              = llama\n",
      "llama_model_loader: - kv  13:                      tokenizer.ggml.tokens arr[str,32032]   = [\"<unk>\", \"<s>\", \"</s>\", \"<0x00>\", \"<...\n",
      "llama_model_loader: - kv  14:                      tokenizer.ggml.scores arr[f32,32032]   = [0.000000, 0.000000, 0.000000, 0.0000...\n",
      "llama_model_loader: - kv  15:                  tokenizer.ggml.token_type arr[i32,32032]   = [2, 3, 3, 6, 6, 6, 6, 6, 6, 6, 6, 6, ...\n",
      "llama_model_loader: - kv  16:                tokenizer.ggml.bos_token_id u32              = 1\n",
      "llama_model_loader: - kv  17:                tokenizer.ggml.eos_token_id u32              = 32000\n",
      "llama_model_loader: - kv  18:               tokenizer.ggml.add_bos_token bool             = true\n",
      "llama_model_loader: - kv  19:               tokenizer.ggml.add_eos_token bool             = false\n",
      "llama_model_loader: - kv  20:                    tokenizer.chat_template str              = {% for message in messages %}{{'<|im_...\n",
      "llama_model_loader: - kv  21:               general.quantization_version u32              = 2\n",
      "llama_model_loader: - type  f32:   65 tensors\n",
      "llama_model_loader: - type q8_0:  226 tensors\n",
      "llm_load_vocab: special tokens definition check successful ( 291/32032 ).\n",
      "llm_load_print_meta: format           = GGUF V3 (latest)\n",
      "llm_load_print_meta: arch             = llama\n",
      "llm_load_print_meta: vocab type       = SPM\n",
      "llm_load_print_meta: n_vocab          = 32032\n",
      "llm_load_print_meta: n_merges         = 0\n",
      "llm_load_print_meta: n_ctx_train      = 32768\n",
      "llm_load_print_meta: n_embd           = 4096\n",
      "llm_load_print_meta: n_head           = 32\n",
      "llm_load_print_meta: n_head_kv        = 8\n",
      "llm_load_print_meta: n_layer          = 32\n",
      "llm_load_print_meta: n_rot            = 128\n",
      "llm_load_print_meta: n_embd_head_k    = 128\n",
      "llm_load_print_meta: n_embd_head_v    = 128\n",
      "llm_load_print_meta: n_gqa            = 4\n",
      "llm_load_print_meta: n_embd_k_gqa     = 1024\n",
      "llm_load_print_meta: n_embd_v_gqa     = 1024\n",
      "llm_load_print_meta: f_norm_eps       = 0.0e+00\n",
      "llm_load_print_meta: f_norm_rms_eps   = 1.0e-05\n",
      "llm_load_print_meta: f_clamp_kqv      = 0.0e+00\n",
      "llm_load_print_meta: f_max_alibi_bias = 0.0e+00\n",
      "llm_load_print_meta: f_logit_scale    = 0.0e+00\n",
      "llm_load_print_meta: n_ff             = 14336\n",
      "llm_load_print_meta: n_expert         = 0\n",
      "llm_load_print_meta: n_expert_used    = 0\n",
      "llm_load_print_meta: causal attn      = 1\n",
      "llm_load_print_meta: pooling type     = 0\n",
      "llm_load_print_meta: rope type        = 0\n",
      "llm_load_print_meta: rope scaling     = linear\n",
      "llm_load_print_meta: freq_base_train  = 10000.0\n",
      "llm_load_print_meta: freq_scale_train = 1\n",
      "llm_load_print_meta: n_yarn_orig_ctx  = 32768\n",
      "llm_load_print_meta: rope_finetuned   = unknown\n",
      "llm_load_print_meta: ssm_d_conv       = 0\n",
      "llm_load_print_meta: ssm_d_inner      = 0\n",
      "llm_load_print_meta: ssm_d_state      = 0\n",
      "llm_load_print_meta: ssm_dt_rank      = 0\n",
      "llm_load_print_meta: model type       = 7B\n",
      "llm_load_print_meta: model ftype      = Q8_0\n",
      "llm_load_print_meta: model params     = 7.24 B\n",
      "llm_load_print_meta: model size       = 7.17 GiB (8.50 BPW) \n",
      "llm_load_print_meta: general.name     = jeffq\n",
      "llm_load_print_meta: BOS token        = 1 '<s>'\n",
      "llm_load_print_meta: EOS token        = 32000 '<|im_end|>'\n",
      "llm_load_print_meta: UNK token        = 0 '<unk>'\n",
      "llm_load_print_meta: LF token         = 13 '<0x0A>'\n",
      "llm_load_tensors: ggml ctx size =    0.22 MiB\n",
      "ggml_backend_metal_buffer_from_ptr: allocated buffer, size =  7205.97 MiB, ( 7206.05 / 98304.00)\n",
      "llm_load_tensors: offloading 32 repeating layers to GPU\n",
      "llm_load_tensors: offloading non-repeating layers to GPU\n",
      "llm_load_tensors: offloaded 33/33 layers to GPU\n",
      "llm_load_tensors:        CPU buffer size =   132.95 MiB\n",
      "llm_load_tensors:      Metal buffer size =  7205.97 MiB\n",
      "...................................................................................................\n",
      "llama_new_context_with_model: n_ctx      = 8000\n",
      "llama_new_context_with_model: n_batch    = 512\n",
      "llama_new_context_with_model: n_ubatch   = 512\n",
      "llama_new_context_with_model: freq_base  = 10000.0\n",
      "llama_new_context_with_model: freq_scale = 1\n",
      "ggml_metal_init: allocating\n",
      "ggml_metal_init: found device: Apple M3 Max\n",
      "ggml_metal_init: picking default device: Apple M3 Max\n",
      "ggml_metal_init: using embedded metal library\n",
      "ggml_metal_init: GPU name:   Apple M3 Max\n",
      "ggml_metal_init: GPU family: MTLGPUFamilyApple9  (1009)\n",
      "ggml_metal_init: GPU family: MTLGPUFamilyCommon3 (3003)\n",
      "ggml_metal_init: GPU family: MTLGPUFamilyMetal3  (5001)\n",
      "ggml_metal_init: simdgroup reduction support   = true\n",
      "ggml_metal_init: simdgroup matrix mul. support = true\n",
      "ggml_metal_init: hasUnifiedMemory              = true\n",
      "ggml_metal_init: recommendedMaxWorkingSetSize  = 103079.22 MB\n",
      "ggml_backend_metal_buffer_type_alloc_buffer: allocated buffer, size =  1000.00 MiB, ( 8211.92 / 98304.00)\n",
      "llama_kv_cache_init:      Metal KV buffer size =  1000.00 MiB\n",
      "llama_new_context_with_model: KV self size  = 1000.00 MiB, K (f16):  500.00 MiB, V (f16):  500.00 MiB\n",
      "llama_new_context_with_model:        CPU  output buffer size =     0.12 MiB\n",
      "ggml_backend_metal_buffer_type_alloc_buffer: allocated buffer, size =   547.64 MiB, ( 8759.56 / 98304.00)\n",
      "llama_new_context_with_model:      Metal compute buffer size =   547.63 MiB\n",
      "llama_new_context_with_model:        CPU compute buffer size =    23.63 MiB\n",
      "llama_new_context_with_model: graph nodes  = 1030\n",
      "llama_new_context_with_model: graph splits = 2\n"
     ]
    },
    {
     "name": "stdout",
     "output_type": "stream",
     "text": [
      "Updating block attributes... for door\n"
     ]
    },
    {
     "name": "stderr",
     "output_type": "stream",
     "text": [
      "AVX = 0 | AVX_VNNI = 0 | AVX2 = 0 | AVX512 = 0 | AVX512_VBMI = 0 | AVX512_VNNI = 0 | FMA = 0 | NEON = 1 | ARM_FMA = 1 | F16C = 0 | FP16_VA = 1 | WASM_SIMD = 0 | BLAS = 1 | SSE3 = 0 | SSSE3 = 0 | VSX = 0 | MATMUL_INT8 = 0 | \n",
      "Model metadata: {'general.quantization_version': '2', 'tokenizer.chat_template': \"{% for message in messages %}{{'<|im_start|>' + message['role'] + '\\n' + message['content'] + '<|im_end|>' + '\\n'}}{% endfor %}{% if add_generation_prompt %}{{ '<|im_start|>assistant\\n' }}{% endif %}\", 'tokenizer.ggml.add_eos_token': 'false', 'tokenizer.ggml.add_bos_token': 'true', 'tokenizer.ggml.eos_token_id': '32000', 'tokenizer.ggml.bos_token_id': '1', 'tokenizer.ggml.model': 'llama', 'llama.attention.head_count_kv': '8', 'llama.context_length': '32768', 'llama.attention.head_count': '32', 'llama.rope.freq_base': '10000.000000', 'llama.rope.dimension_count': '128', 'general.file_type': '7', 'llama.feed_forward_length': '14336', 'llama.embedding_length': '4096', 'llama.block_count': '32', 'general.architecture': 'llama', 'llama.attention.layer_norm_rms_epsilon': '0.000010', 'general.name': 'jeffq'}\n",
      "Guessed chat format: chatml\n"
     ]
    }
   ],
   "source": [
    "def source_node_at_00(source: Node, target: Optional[Node] = None) -> bool:\n",
    "    \"\"\" Check if the source node is at position (0, 0)\"\"\"\n",
    "    print(\"Checking if source node at 0, 0\", source.position)\n",
    "    if source.node.position.value == (0, 0):\n",
    "        print(\"Source node at 0, 0\", source.node.position)\n",
    "        return True\n",
    "    return False\n",
    "\n",
    "# Create the grid map and generate the dungeon\n",
    "grid_map = GridMap(width=10, height=10)\n",
    "grid_map.register_actions([MoveStep, PickupAction, DropAction, OpenAction, CloseAction, UnlockAction, LockAction])\n",
    "room_width, room_height = 6, 6\n",
    "character, door, key, treasure = generate_dungeon(grid_map, room_width, room_height)\n",
    "\n",
    "# Generate the entity type map\n",
    "grid_map.generate_entity_type_map()\n",
    "\n",
    "# Create the LLMAgent\n",
    "agent = LLMAgent(grid_map, character.id, model_path, use_egocentric=False,memory_length=5)\n",
    "\n",
    "# Create the CharacterAgent with the LLMAgent\n",
    "character_agent = CharacterAgent(grid_map, agent)\n",
    "\n",
    "# Set the agent's metadata\n",
    "metadata = RunMetadata(character_id=character.id, run_number=1)\n",
    "character_agent.set_metadata(metadata)\n",
    "\n",
    "# Set the agent's goals\n",
    "goal_statement = Statement(callables=[source_node_at_00])  # Example goal: reach position (0, 0)\n",
    "goal = AgentGoal(statement=goal_statement, priority=1)\n",
    "character_agent.set_goals([goal])\n",
    "\n",
    "# Get the initial observation\n",
    "initial_observation = character_agent.get_current_observation()\n",
    "\n"
   ]
  },
  {
   "cell_type": "code",
   "execution_count": 4,
   "metadata": {},
   "outputs": [
    {
     "name": "stdout",
     "output_type": "stream",
     "text": [
      "\n",
      "--- Step: 0 ---\n"
     ]
    },
    {
     "name": "stderr",
     "output_type": "stream",
     "text": [
      "\n",
      "llama_print_timings:        load time =     880.62 ms\n",
      "llama_print_timings:      sample time =       6.73 ms /    79 runs   (    0.09 ms per token, 11738.48 tokens per second)\n",
      "llama_print_timings: prompt eval time =    4276.77 ms /  2912 tokens (    1.47 ms per token,   680.89 tokens per second)\n",
      "llama_print_timings:        eval time =    2496.73 ms /    78 runs   (   32.01 ms per token,    31.24 tokens per second)\n",
      "llama_print_timings:       total time =    6915.02 ms /  2990 tokens\n"
     ]
    },
    {
     "name": "stdout",
     "output_type": "stream",
     "text": [
      "Generated Action: action_name='MoveStep' target_entity_type='Floor' target_entity_position=[5, 1] explanation_of_my_behavior='I choose to move towards the character in order to interact with it and possibly progress towards my goal.'\n",
      "Generated Action: action_name='MoveStep' target_entity_type='Floor' target_entity_position=[5, 1] explanation_of_my_behavior='I choose to move towards the character in order to interact with it and possibly progress towards my goal.'\n",
      "Payload detected action_name='MoveStep' target_entity_type='Floor' target_entity_position=[5, 1] explanation_of_my_behavior='I choose to move towards the character in order to interact with it and possibly progress towards my goal.'\n",
      "Converting to summarized from outlines\n",
      "Converting summarized payload action_name='MoveStep' source_entity_type='Character' source_entity_position=(5, 1) source_entity_id=None source_entity_name=None source_entity_attributes={} target_entity_type='Floor' target_entity_position=(5, 1) target_entity_id=None target_entity_name=None target_entity_attributes={}\n",
      "Conversion results: actions=[ActionInstance(source_id='d6709470-f4e7-4f75-932d-a443b6d9746f', target_id='b28b71f3-c796-4019-8009-daedcb143a37', action=MoveStep(name='Move Step', prerequisites=Prerequisites(source_statements=[Statement(name='Statement', id='845af4fa-b980-40ef-9040-f3e290355285', conditions={'can_act': True}, comparisons={}, callables=[])], target_statements=[Statement(name='Statement', id='21c2d55e-1a25-44c6-b53a-49aa69ae57e6', conditions={'blocks_movement': False}, comparisons={}, callables=[])], source_target_statements=[Statement(name='Statement', id='22525c01-2466-44f1-96cf-d78075253a45', conditions={}, comparisons={'source_position': ('node', 'node', <function source_node_comparison_and_walkable at 0x10666e8e0>)}, callables=[])]), consequences=Consequences(source_transformations={'node': <function move_to_target_node at 0x10666ea20>}, target_transformations={})))]\n",
      "Applying 1 actions\n",
      "Action Result:\n",
      " State Before: {'source': {'blocks_movement': False, 'blocks_light': False, 'health': 100, 'max_health': 100, 'attack_power': 10, 'can_act': True, 'position': (5, 1), 'inventory': []}, 'target': {'blocks_movement': False, 'blocks_light': False, 'material': '', 'position': (5, 1), 'inventory': []}}\n",
      " State After: {'source': {'blocks_movement': False, 'blocks_light': False, 'health': 100, 'max_health': 100, 'attack_power': 10, 'can_act': True, 'position': (5, 1), 'inventory': []}, 'target': {'blocks_movement': False, 'blocks_light': False, 'material': '', 'position': (5, 1), 'inventory': []}}\n",
      "Checking if source node at 0, 0 name='Position' id='2b9c70e6-fbd7-4129-bc60-fa495fbcf563' value=(5, 1)\n",
      "\n",
      "--- Step: 1 ---\n"
     ]
    },
    {
     "name": "stderr",
     "output_type": "stream",
     "text": [
      "\n",
      "llama_print_timings:        load time =     880.62 ms\n",
      "llama_print_timings:      sample time =       6.65 ms /    77 runs   (    0.09 ms per token, 11578.95 tokens per second)\n",
      "llama_print_timings: prompt eval time =    4237.67 ms /  2912 tokens (    1.46 ms per token,   687.17 tokens per second)\n",
      "llama_print_timings:        eval time =    2463.10 ms /    76 runs   (   32.41 ms per token,    30.86 tokens per second)\n",
      "llama_print_timings:       total time =    6840.57 ms /  2988 tokens\n"
     ]
    },
    {
     "name": "stdout",
     "output_type": "stream",
     "text": [
      "Generated Action: action_name='MoveStep' target_entity_type='Floor' target_entity_position=[5, 1] explanation_of_my_behavior='I am moving towards the character to potentially interact with it or gather more information about its presence.'\n",
      "Generated Action: action_name='MoveStep' target_entity_type='Floor' target_entity_position=[5, 1] explanation_of_my_behavior='I am moving towards the character to potentially interact with it or gather more information about its presence.'\n",
      "Payload detected action_name='MoveStep' target_entity_type='Floor' target_entity_position=[5, 1] explanation_of_my_behavior='I am moving towards the character to potentially interact with it or gather more information about its presence.'\n",
      "Converting to summarized from outlines\n",
      "Converting summarized payload action_name='MoveStep' source_entity_type='Character' source_entity_position=(5, 1) source_entity_id=None source_entity_name=None source_entity_attributes={} target_entity_type='Floor' target_entity_position=(5, 1) target_entity_id=None target_entity_name=None target_entity_attributes={}\n",
      "Conversion results: actions=[ActionInstance(source_id='d6709470-f4e7-4f75-932d-a443b6d9746f', target_id='b28b71f3-c796-4019-8009-daedcb143a37', action=MoveStep(name='Move Step', prerequisites=Prerequisites(source_statements=[Statement(name='Statement', id='845af4fa-b980-40ef-9040-f3e290355285', conditions={'can_act': True}, comparisons={}, callables=[])], target_statements=[Statement(name='Statement', id='21c2d55e-1a25-44c6-b53a-49aa69ae57e6', conditions={'blocks_movement': False}, comparisons={}, callables=[])], source_target_statements=[Statement(name='Statement', id='22525c01-2466-44f1-96cf-d78075253a45', conditions={}, comparisons={'source_position': ('node', 'node', <function source_node_comparison_and_walkable at 0x10666e8e0>)}, callables=[])]), consequences=Consequences(source_transformations={'node': <function move_to_target_node at 0x10666ea20>}, target_transformations={})))]\n",
      "Applying 1 actions\n",
      "Action Result:\n",
      " State Before: {'source': {'blocks_movement': False, 'blocks_light': False, 'health': 100, 'max_health': 100, 'attack_power': 10, 'can_act': True, 'position': (5, 1), 'inventory': []}, 'target': {'blocks_movement': False, 'blocks_light': False, 'material': '', 'position': (5, 1), 'inventory': []}}\n",
      " State After: {'source': {'blocks_movement': False, 'blocks_light': False, 'health': 100, 'max_health': 100, 'attack_power': 10, 'can_act': True, 'position': (5, 1), 'inventory': []}, 'target': {'blocks_movement': False, 'blocks_light': False, 'material': '', 'position': (5, 1), 'inventory': []}}\n",
      "Checking if source node at 0, 0 name='Position' id='2b9c70e6-fbd7-4129-bc60-fa495fbcf563' value=(5, 1)\n",
      "\n",
      "--- Step: 2 ---\n"
     ]
    },
    {
     "name": "stderr",
     "output_type": "stream",
     "text": [
      "\n",
      "llama_print_timings:        load time =     880.62 ms\n",
      "llama_print_timings:      sample time =       8.72 ms /    87 runs   (    0.10 ms per token,  9981.64 tokens per second)\n",
      "llama_print_timings: prompt eval time =    4961.14 ms /  2912 tokens (    1.70 ms per token,   586.96 tokens per second)\n",
      "llama_print_timings:        eval time =    2843.40 ms /    86 runs   (   33.06 ms per token,    30.25 tokens per second)\n",
      "llama_print_timings:       total time =    7988.68 ms /  2998 tokens\n"
     ]
    },
    {
     "name": "stdout",
     "output_type": "stream",
     "text": [
      "Generated Action: action_name='MoveStep' target_entity_type='Floor' target_entity_position=[5, 0] explanation_of_my_behavior='I will move to the position (5, 0) to potentially interact with the door at that location and attempt to open it.'\n",
      "Generated Action: action_name='MoveStep' target_entity_type='Floor' target_entity_position=[5, 0] explanation_of_my_behavior='I will move to the position (5, 0) to potentially interact with the door at that location and attempt to open it.'\n",
      "Payload detected action_name='MoveStep' target_entity_type='Floor' target_entity_position=[5, 0] explanation_of_my_behavior='I will move to the position (5, 0) to potentially interact with the door at that location and attempt to open it.'\n",
      "Converting to summarized from outlines\n",
      "Converting summarized payload action_name='MoveStep' source_entity_type='Character' source_entity_position=(5, 1) source_entity_id=None source_entity_name=None source_entity_attributes={} target_entity_type='Floor' target_entity_position=(5, 0) target_entity_id=None target_entity_name=None target_entity_attributes={}\n",
      "Conversion results: actions=[ActionInstance(source_id='d6709470-f4e7-4f75-932d-a443b6d9746f', target_id='673a7496-057a-47b6-8c0b-5c50e4dcc15d', action=MoveStep(name='Move Step', prerequisites=Prerequisites(source_statements=[Statement(name='Statement', id='845af4fa-b980-40ef-9040-f3e290355285', conditions={'can_act': True}, comparisons={}, callables=[])], target_statements=[Statement(name='Statement', id='21c2d55e-1a25-44c6-b53a-49aa69ae57e6', conditions={'blocks_movement': False}, comparisons={}, callables=[])], source_target_statements=[Statement(name='Statement', id='22525c01-2466-44f1-96cf-d78075253a45', conditions={}, comparisons={'source_position': ('node', 'node', <function source_node_comparison_and_walkable at 0x10666e8e0>)}, callables=[])]), consequences=Consequences(source_transformations={'node': <function move_to_target_node at 0x10666ea20>}, target_transformations={})))]\n",
      "Applying 1 actions\n",
      "Action Result:\n",
      " State Before: {'source': {'blocks_movement': False, 'blocks_light': False, 'health': 100, 'max_health': 100, 'attack_power': 10, 'can_act': True, 'position': (5, 1), 'inventory': []}, 'target': {'blocks_movement': False, 'blocks_light': False, 'material': '', 'position': (5, 0), 'inventory': []}}\n",
      " State After: {'source': {'blocks_movement': False, 'blocks_light': False, 'health': 100, 'max_health': 100, 'attack_power': 10, 'can_act': True, 'position': (5, 0), 'inventory': []}, 'target': {'blocks_movement': False, 'blocks_light': False, 'material': '', 'position': (5, 0), 'inventory': []}}\n",
      "Checking if source node at 0, 0 name='Position' id='c615994a-3885-40f3-8b34-218a08adfa08' value=(5, 0)\n",
      "\n",
      "--- Step: 3 ---\n"
     ]
    },
    {
     "name": "stderr",
     "output_type": "stream",
     "text": [
      "\n",
      "llama_print_timings:        load time =     880.62 ms\n",
      "llama_print_timings:      sample time =      10.03 ms /   100 runs   (    0.10 ms per token,  9967.11 tokens per second)\n",
      "llama_print_timings: prompt eval time =    4910.89 ms /  2907 tokens (    1.69 ms per token,   591.95 tokens per second)\n",
      "llama_print_timings:        eval time =    3231.71 ms /    99 runs   (   32.64 ms per token,    30.63 tokens per second)\n",
      "llama_print_timings:       total time =    8371.39 ms /  3006 tokens\n"
     ]
    },
    {
     "name": "stdout",
     "output_type": "stream",
     "text": [
      "Generated Action: action_name='MoveStep' target_entity_type='Floor' target_entity_position=[5, 0] explanation_of_my_behavior='I am choosing to move one step towards the statement goal, which appears to be located at position (5, 0) on the map. This action will allow me to progress towards my objective.'\n",
      "Generated Action: action_name='MoveStep' target_entity_type='Floor' target_entity_position=[5, 0] explanation_of_my_behavior='I am choosing to move one step towards the statement goal, which appears to be located at position (5, 0) on the map. This action will allow me to progress towards my objective.'\n",
      "Payload detected action_name='MoveStep' target_entity_type='Floor' target_entity_position=[5, 0] explanation_of_my_behavior='I am choosing to move one step towards the statement goal, which appears to be located at position (5, 0) on the map. This action will allow me to progress towards my objective.'\n",
      "Converting to summarized from outlines\n",
      "Converting summarized payload action_name='MoveStep' source_entity_type='Character' source_entity_position=(5, 0) source_entity_id=None source_entity_name=None source_entity_attributes={} target_entity_type='Floor' target_entity_position=(5, 0) target_entity_id=None target_entity_name=None target_entity_attributes={}\n",
      "Conversion results: actions=[ActionInstance(source_id='d6709470-f4e7-4f75-932d-a443b6d9746f', target_id='673a7496-057a-47b6-8c0b-5c50e4dcc15d', action=MoveStep(name='Move Step', prerequisites=Prerequisites(source_statements=[Statement(name='Statement', id='845af4fa-b980-40ef-9040-f3e290355285', conditions={'can_act': True}, comparisons={}, callables=[])], target_statements=[Statement(name='Statement', id='21c2d55e-1a25-44c6-b53a-49aa69ae57e6', conditions={'blocks_movement': False}, comparisons={}, callables=[])], source_target_statements=[Statement(name='Statement', id='22525c01-2466-44f1-96cf-d78075253a45', conditions={}, comparisons={'source_position': ('node', 'node', <function source_node_comparison_and_walkable at 0x10666e8e0>)}, callables=[])]), consequences=Consequences(source_transformations={'node': <function move_to_target_node at 0x10666ea20>}, target_transformations={})))]\n",
      "Applying 1 actions\n",
      "Action Result:\n",
      " State Before: {'source': {'blocks_movement': False, 'blocks_light': False, 'health': 100, 'max_health': 100, 'attack_power': 10, 'can_act': True, 'position': (5, 0), 'inventory': []}, 'target': {'blocks_movement': False, 'blocks_light': False, 'material': '', 'position': (5, 0), 'inventory': []}}\n",
      " State After: {'source': {'blocks_movement': False, 'blocks_light': False, 'health': 100, 'max_health': 100, 'attack_power': 10, 'can_act': True, 'position': (5, 0), 'inventory': []}, 'target': {'blocks_movement': False, 'blocks_light': False, 'material': '', 'position': (5, 0), 'inventory': []}}\n",
      "Checking if source node at 0, 0 name='Position' id='c615994a-3885-40f3-8b34-218a08adfa08' value=(5, 0)\n",
      "\n",
      "--- Step: 4 ---\n"
     ]
    },
    {
     "name": "stderr",
     "output_type": "stream",
     "text": [
      "\n",
      "llama_print_timings:        load time =     880.62 ms\n",
      "llama_print_timings:      sample time =      12.36 ms /    92 runs   (    0.13 ms per token,  7445.78 tokens per second)\n",
      "llama_print_timings: prompt eval time =    4941.86 ms /  2907 tokens (    1.70 ms per token,   588.24 tokens per second)\n",
      "llama_print_timings:        eval time =    2979.33 ms /    91 runs   (   32.74 ms per token,    30.54 tokens per second)\n",
      "llama_print_timings:       total time =    8176.90 ms /  2998 tokens\n"
     ]
    },
    {
     "name": "stdout",
     "output_type": "stream",
     "text": [
      "Generated Action: action_name='MoveStep' target_entity_type='Floor' target_entity_position=[5, 0] explanation_of_my_behavior='I will move to the position (5, 0) to potentially interact with the Character or the Door located there, as these are key entities related to my goal.'\n",
      "Generated Action: action_name='MoveStep' target_entity_type='Floor' target_entity_position=[5, 0] explanation_of_my_behavior='I will move to the position (5, 0) to potentially interact with the Character or the Door located there, as these are key entities related to my goal.'\n",
      "Payload detected action_name='MoveStep' target_entity_type='Floor' target_entity_position=[5, 0] explanation_of_my_behavior='I will move to the position (5, 0) to potentially interact with the Character or the Door located there, as these are key entities related to my goal.'\n",
      "Converting to summarized from outlines\n",
      "Converting summarized payload action_name='MoveStep' source_entity_type='Character' source_entity_position=(5, 0) source_entity_id=None source_entity_name=None source_entity_attributes={} target_entity_type='Floor' target_entity_position=(5, 0) target_entity_id=None target_entity_name=None target_entity_attributes={}\n",
      "Conversion results: actions=[ActionInstance(source_id='d6709470-f4e7-4f75-932d-a443b6d9746f', target_id='673a7496-057a-47b6-8c0b-5c50e4dcc15d', action=MoveStep(name='Move Step', prerequisites=Prerequisites(source_statements=[Statement(name='Statement', id='845af4fa-b980-40ef-9040-f3e290355285', conditions={'can_act': True}, comparisons={}, callables=[])], target_statements=[Statement(name='Statement', id='21c2d55e-1a25-44c6-b53a-49aa69ae57e6', conditions={'blocks_movement': False}, comparisons={}, callables=[])], source_target_statements=[Statement(name='Statement', id='22525c01-2466-44f1-96cf-d78075253a45', conditions={}, comparisons={'source_position': ('node', 'node', <function source_node_comparison_and_walkable at 0x10666e8e0>)}, callables=[])]), consequences=Consequences(source_transformations={'node': <function move_to_target_node at 0x10666ea20>}, target_transformations={})))]\n",
      "Applying 1 actions\n",
      "Action Result:\n",
      " State Before: {'source': {'blocks_movement': False, 'blocks_light': False, 'health': 100, 'max_health': 100, 'attack_power': 10, 'can_act': True, 'position': (5, 0), 'inventory': []}, 'target': {'blocks_movement': False, 'blocks_light': False, 'material': '', 'position': (5, 0), 'inventory': []}}\n",
      " State After: {'source': {'blocks_movement': False, 'blocks_light': False, 'health': 100, 'max_health': 100, 'attack_power': 10, 'can_act': True, 'position': (5, 0), 'inventory': []}, 'target': {'blocks_movement': False, 'blocks_light': False, 'material': '', 'position': (5, 0), 'inventory': []}}\n",
      "Checking if source node at 0, 0 name='Position' id='c615994a-3885-40f3-8b34-218a08adfa08' value=(5, 0)\n",
      "\n",
      "--- Step: 5 ---\n"
     ]
    },
    {
     "name": "stderr",
     "output_type": "stream",
     "text": [
      "\n",
      "llama_print_timings:        load time =     880.62 ms\n",
      "llama_print_timings:      sample time =      11.28 ms /    87 runs   (    0.13 ms per token,  7712.08 tokens per second)\n",
      "llama_print_timings: prompt eval time =    4874.37 ms /  2907 tokens (    1.68 ms per token,   596.39 tokens per second)\n",
      "llama_print_timings:        eval time =    2912.54 ms /    86 runs   (   33.87 ms per token,    29.53 tokens per second)\n",
      "llama_print_timings:       total time =    8033.34 ms /  2993 tokens\n"
     ]
    },
    {
     "name": "stdout",
     "output_type": "stream",
     "text": [
      "Generated Action: action_name='MoveStep' target_entity_type='Floor' target_entity_position=[5, 0] explanation_of_my_behavior=\"I am moving towards the location of the 'Character' entity in order to engage in combat and potentially fulfill my goal of interacting with it.\"\n",
      "Generated Action: action_name='MoveStep' target_entity_type='Floor' target_entity_position=[5, 0] explanation_of_my_behavior=\"I am moving towards the location of the 'Character' entity in order to engage in combat and potentially fulfill my goal of interacting with it.\"\n",
      "Payload detected action_name='MoveStep' target_entity_type='Floor' target_entity_position=[5, 0] explanation_of_my_behavior=\"I am moving towards the location of the 'Character' entity in order to engage in combat and potentially fulfill my goal of interacting with it.\"\n",
      "Converting to summarized from outlines\n",
      "Converting summarized payload action_name='MoveStep' source_entity_type='Character' source_entity_position=(5, 0) source_entity_id=None source_entity_name=None source_entity_attributes={} target_entity_type='Floor' target_entity_position=(5, 0) target_entity_id=None target_entity_name=None target_entity_attributes={}\n",
      "Conversion results: actions=[ActionInstance(source_id='d6709470-f4e7-4f75-932d-a443b6d9746f', target_id='673a7496-057a-47b6-8c0b-5c50e4dcc15d', action=MoveStep(name='Move Step', prerequisites=Prerequisites(source_statements=[Statement(name='Statement', id='845af4fa-b980-40ef-9040-f3e290355285', conditions={'can_act': True}, comparisons={}, callables=[])], target_statements=[Statement(name='Statement', id='21c2d55e-1a25-44c6-b53a-49aa69ae57e6', conditions={'blocks_movement': False}, comparisons={}, callables=[])], source_target_statements=[Statement(name='Statement', id='22525c01-2466-44f1-96cf-d78075253a45', conditions={}, comparisons={'source_position': ('node', 'node', <function source_node_comparison_and_walkable at 0x10666e8e0>)}, callables=[])]), consequences=Consequences(source_transformations={'node': <function move_to_target_node at 0x10666ea20>}, target_transformations={})))]\n",
      "Applying 1 actions\n",
      "Action Result:\n",
      " State Before: {'source': {'blocks_movement': False, 'blocks_light': False, 'health': 100, 'max_health': 100, 'attack_power': 10, 'can_act': True, 'position': (5, 0), 'inventory': []}, 'target': {'blocks_movement': False, 'blocks_light': False, 'material': '', 'position': (5, 0), 'inventory': []}}\n",
      " State After: {'source': {'blocks_movement': False, 'blocks_light': False, 'health': 100, 'max_health': 100, 'attack_power': 10, 'can_act': True, 'position': (5, 0), 'inventory': []}, 'target': {'blocks_movement': False, 'blocks_light': False, 'material': '', 'position': (5, 0), 'inventory': []}}\n",
      "Checking if source node at 0, 0 name='Position' id='c615994a-3885-40f3-8b34-218a08adfa08' value=(5, 0)\n",
      "\n",
      "--- Step: 6 ---\n"
     ]
    },
    {
     "name": "stderr",
     "output_type": "stream",
     "text": [
      "\n",
      "llama_print_timings:        load time =     880.62 ms\n",
      "llama_print_timings:      sample time =       8.43 ms /    94 runs   (    0.09 ms per token, 11146.69 tokens per second)\n",
      "llama_print_timings: prompt eval time =    5205.79 ms /  2907 tokens (    1.79 ms per token,   558.42 tokens per second)\n",
      "llama_print_timings:        eval time =    3171.98 ms /    93 runs   (   34.11 ms per token,    29.32 tokens per second)\n",
      "llama_print_timings:       total time =    8559.87 ms /  3000 tokens\n"
     ]
    },
    {
     "name": "stdout",
     "output_type": "stream",
     "text": [
      "Generated Action: action_name='MoveStep' target_entity_type='Floor' target_entity_position=[5, 0] explanation_of_my_behavior=\"I am moving towards the location of the 'Statement' goal, which is currently at position (5, 0). This action allows me to make progress towards my objective.\"\n",
      "Generated Action: action_name='MoveStep' target_entity_type='Floor' target_entity_position=[5, 0] explanation_of_my_behavior=\"I am moving towards the location of the 'Statement' goal, which is currently at position (5, 0). This action allows me to make progress towards my objective.\"\n",
      "Payload detected action_name='MoveStep' target_entity_type='Floor' target_entity_position=[5, 0] explanation_of_my_behavior=\"I am moving towards the location of the 'Statement' goal, which is currently at position (5, 0). This action allows me to make progress towards my objective.\"\n",
      "Converting to summarized from outlines\n",
      "Converting summarized payload action_name='MoveStep' source_entity_type='Character' source_entity_position=(5, 0) source_entity_id=None source_entity_name=None source_entity_attributes={} target_entity_type='Floor' target_entity_position=(5, 0) target_entity_id=None target_entity_name=None target_entity_attributes={}\n",
      "Conversion results: actions=[ActionInstance(source_id='d6709470-f4e7-4f75-932d-a443b6d9746f', target_id='673a7496-057a-47b6-8c0b-5c50e4dcc15d', action=MoveStep(name='Move Step', prerequisites=Prerequisites(source_statements=[Statement(name='Statement', id='845af4fa-b980-40ef-9040-f3e290355285', conditions={'can_act': True}, comparisons={}, callables=[])], target_statements=[Statement(name='Statement', id='21c2d55e-1a25-44c6-b53a-49aa69ae57e6', conditions={'blocks_movement': False}, comparisons={}, callables=[])], source_target_statements=[Statement(name='Statement', id='22525c01-2466-44f1-96cf-d78075253a45', conditions={}, comparisons={'source_position': ('node', 'node', <function source_node_comparison_and_walkable at 0x10666e8e0>)}, callables=[])]), consequences=Consequences(source_transformations={'node': <function move_to_target_node at 0x10666ea20>}, target_transformations={})))]\n",
      "Applying 1 actions\n",
      "Action Result:\n",
      " State Before: {'source': {'blocks_movement': False, 'blocks_light': False, 'health': 100, 'max_health': 100, 'attack_power': 10, 'can_act': True, 'position': (5, 0), 'inventory': []}, 'target': {'blocks_movement': False, 'blocks_light': False, 'material': '', 'position': (5, 0), 'inventory': []}}\n",
      " State After: {'source': {'blocks_movement': False, 'blocks_light': False, 'health': 100, 'max_health': 100, 'attack_power': 10, 'can_act': True, 'position': (5, 0), 'inventory': []}, 'target': {'blocks_movement': False, 'blocks_light': False, 'material': '', 'position': (5, 0), 'inventory': []}}\n",
      "Checking if source node at 0, 0 name='Position' id='c615994a-3885-40f3-8b34-218a08adfa08' value=(5, 0)\n",
      "\n",
      "--- Step: 7 ---\n"
     ]
    },
    {
     "name": "stderr",
     "output_type": "stream",
     "text": [
      "\n",
      "llama_print_timings:        load time =     880.62 ms\n",
      "llama_print_timings:      sample time =       8.29 ms /    76 runs   (    0.11 ms per token,  9163.25 tokens per second)\n",
      "llama_print_timings: prompt eval time =    5184.62 ms /  2907 tokens (    1.78 ms per token,   560.70 tokens per second)\n",
      "llama_print_timings:        eval time =    2577.74 ms /    75 runs   (   34.37 ms per token,    29.10 tokens per second)\n",
      "llama_print_timings:       total time =    7937.32 ms /  2982 tokens\n"
     ]
    },
    {
     "name": "stdout",
     "output_type": "stream",
     "text": [
      "Generated Action: action_name='MoveStep' target_entity_type='Floor' target_entity_position=[6, 0] explanation_of_my_behavior=\"I am choosing to move towards the character's position in order to potentially interact with it or gather more information about the environment.\"\n",
      "Generated Action: action_name='MoveStep' target_entity_type='Floor' target_entity_position=[6, 0] explanation_of_my_behavior=\"I am choosing to move towards the character's position in order to potentially interact with it or gather more information about the environment.\"\n",
      "Payload detected action_name='MoveStep' target_entity_type='Floor' target_entity_position=[6, 0] explanation_of_my_behavior=\"I am choosing to move towards the character's position in order to potentially interact with it or gather more information about the environment.\"\n",
      "Converting to summarized from outlines\n",
      "Converting summarized payload action_name='MoveStep' source_entity_type='Character' source_entity_position=(5, 0) source_entity_id=None source_entity_name=None source_entity_attributes={} target_entity_type='Floor' target_entity_position=(6, 0) target_entity_id=None target_entity_name=None target_entity_attributes={}\n",
      "Conversion results: actions=[ActionInstance(source_id='d6709470-f4e7-4f75-932d-a443b6d9746f', target_id='edfc0638-c2b4-4127-975b-d5c298e49dd3', action=MoveStep(name='Move Step', prerequisites=Prerequisites(source_statements=[Statement(name='Statement', id='845af4fa-b980-40ef-9040-f3e290355285', conditions={'can_act': True}, comparisons={}, callables=[])], target_statements=[Statement(name='Statement', id='21c2d55e-1a25-44c6-b53a-49aa69ae57e6', conditions={'blocks_movement': False}, comparisons={}, callables=[])], source_target_statements=[Statement(name='Statement', id='22525c01-2466-44f1-96cf-d78075253a45', conditions={}, comparisons={'source_position': ('node', 'node', <function source_node_comparison_and_walkable at 0x10666e8e0>)}, callables=[])]), consequences=Consequences(source_transformations={'node': <function move_to_target_node at 0x10666ea20>}, target_transformations={})))]\n",
      "Applying 1 actions\n",
      "Action Result:\n",
      " State Before: {'source': {'blocks_movement': False, 'blocks_light': False, 'health': 100, 'max_health': 100, 'attack_power': 10, 'can_act': True, 'position': (5, 0), 'inventory': []}, 'target': {'blocks_movement': False, 'blocks_light': False, 'material': '', 'position': (6, 0), 'inventory': []}}\n",
      " State After: {'source': {'blocks_movement': False, 'blocks_light': False, 'health': 100, 'max_health': 100, 'attack_power': 10, 'can_act': True, 'position': (6, 0), 'inventory': []}, 'target': {'blocks_movement': False, 'blocks_light': False, 'material': '', 'position': (6, 0), 'inventory': []}}\n",
      "Checking if source node at 0, 0 name='Position' id='ebc44efa-1f42-4039-977a-08817d9d6119' value=(6, 0)\n",
      "\n",
      "--- Step: 8 ---\n"
     ]
    },
    {
     "ename": "KeyboardInterrupt",
     "evalue": "",
     "output_type": "error",
     "traceback": [
      "\u001b[0;31m---------------------------------------------------------------------------\u001b[0m",
      "\u001b[0;31mKeyboardInterrupt\u001b[0m                         Traceback (most recent call last)",
      "Cell \u001b[0;32mIn[4], line 1\u001b[0m\n\u001b[0;32m----> 1\u001b[0m \u001b[43mcharacter_agent\u001b[49m\u001b[38;5;241;43m.\u001b[39;49m\u001b[43mrun\u001b[49m\u001b[43m(\u001b[49m\u001b[43minitial_observation\u001b[49m\u001b[43m)\u001b[49m\n",
      "File \u001b[0;32m~/Documents/Dev/Abstractions/abstractions/goap/agents.py:446\u001b[0m, in \u001b[0;36mCharacterAgent.run\u001b[0;34m(self, initial_observation)\u001b[0m\n\u001b[1;32m    444\u001b[0m \u001b[38;5;28;01mwhile\u001b[39;00m \u001b[38;5;28;01mTrue\u001b[39;00m:\n\u001b[1;32m    445\u001b[0m     \u001b[38;5;28mprint\u001b[39m(\u001b[38;5;124mf\u001b[39m\u001b[38;5;124m\"\u001b[39m\u001b[38;5;130;01m\\n\u001b[39;00m\u001b[38;5;124m--- Step: \u001b[39m\u001b[38;5;132;01m{\u001b[39;00mstep_count\u001b[38;5;132;01m}\u001b[39;00m\u001b[38;5;124m ---\u001b[39m\u001b[38;5;124m\"\u001b[39m)\n\u001b[0;32m--> 446\u001b[0m     action_payload \u001b[38;5;241m=\u001b[39m \u001b[38;5;28;43mself\u001b[39;49m\u001b[38;5;241;43m.\u001b[39;49m\u001b[43mgenerate_action\u001b[49m\u001b[43m(\u001b[49m\u001b[43mobservation\u001b[49m\u001b[43m)\u001b[49m\n\u001b[1;32m    447\u001b[0m     \u001b[38;5;28mprint\u001b[39m(\u001b[38;5;124mf\u001b[39m\u001b[38;5;124m\"\u001b[39m\u001b[38;5;124mGenerated Action: \u001b[39m\u001b[38;5;132;01m{\u001b[39;00maction_payload\u001b[38;5;132;01m}\u001b[39;00m\u001b[38;5;124m\"\u001b[39m)\n\u001b[1;32m    448\u001b[0m     result, error \u001b[38;5;241m=\u001b[39m \u001b[38;5;28mself\u001b[39m\u001b[38;5;241m.\u001b[39mexecute_action(action_payload)\n",
      "File \u001b[0;32m~/Documents/Dev/Abstractions/abstractions/goap/agents.py:423\u001b[0m, in \u001b[0;36mCharacterAgent.generate_action\u001b[0;34m(self, shadow_payload)\u001b[0m\n\u001b[1;32m    422\u001b[0m \u001b[38;5;28;01mdef\u001b[39;00m \u001b[38;5;21mgenerate_action\u001b[39m(\u001b[38;5;28mself\u001b[39m, shadow_payload: \u001b[38;5;28mstr\u001b[39m) \u001b[38;5;241m-\u001b[39m\u001b[38;5;241m>\u001b[39m Optional[Union[OutlinesActionPayload, OutlinesEgoActionPayload]]:\n\u001b[0;32m--> 423\u001b[0m     action_payload \u001b[38;5;241m=\u001b[39m \u001b[38;5;28;43mself\u001b[39;49m\u001b[38;5;241;43m.\u001b[39;49m\u001b[43magent\u001b[49m\u001b[38;5;241;43m.\u001b[39;49m\u001b[43mgenerate_action\u001b[49m\u001b[43m(\u001b[49m\u001b[43mshadow_payload\u001b[49m\u001b[43m)\u001b[49m\n\u001b[1;32m    424\u001b[0m     \u001b[38;5;28mprint\u001b[39m(\u001b[38;5;124mf\u001b[39m\u001b[38;5;124m\"\u001b[39m\u001b[38;5;124mGenerated Action: \u001b[39m\u001b[38;5;132;01m{\u001b[39;00maction_payload\u001b[38;5;132;01m}\u001b[39;00m\u001b[38;5;124m\"\u001b[39m)\n\u001b[1;32m    425\u001b[0m     \u001b[38;5;28;01mif\u001b[39;00m action_payload:\n",
      "File \u001b[0;32m~/Documents/Dev/Abstractions/abstractions/goap/agents.py:394\u001b[0m, in \u001b[0;36mLLMAgent.generate_action\u001b[0;34m(self, shadow_payload)\u001b[0m\n\u001b[1;32m    381\u001b[0m action_prompt_text \u001b[38;5;241m=\u001b[39m action_generation_prompt(\n\u001b[1;32m    382\u001b[0m     shadow_payload,\n\u001b[1;32m    383\u001b[0m     \u001b[38;5;28mself\u001b[39m\u001b[38;5;241m.\u001b[39mgoals,\n\u001b[0;32m   (...)\u001b[0m\n\u001b[1;32m    391\u001b[0m     SummarizedActionPayload\n\u001b[1;32m    392\u001b[0m )\n\u001b[1;32m    393\u001b[0m prompt_text \u001b[38;5;241m=\u001b[39m \u001b[38;5;124mf\u001b[39m\u001b[38;5;124m\"\u001b[39m\u001b[38;5;132;01m{\u001b[39;00msystem_prompt_text\u001b[38;5;132;01m}\u001b[39;00m\u001b[38;5;130;01m\\n\u001b[39;00m\u001b[38;5;130;01m\\n\u001b[39;00m\u001b[38;5;132;01m{\u001b[39;00maction_prompt_text\u001b[38;5;132;01m}\u001b[39;00m\u001b[38;5;124m\"\u001b[39m\n\u001b[0;32m--> 394\u001b[0m action_payload \u001b[38;5;241m=\u001b[39m \u001b[38;5;28;43mself\u001b[39;49m\u001b[38;5;241;43m.\u001b[39;49m\u001b[43mgenerator\u001b[49m\u001b[43m(\u001b[49m\u001b[43mprompt_text\u001b[49m\u001b[43m)\u001b[49m\n\u001b[1;32m    395\u001b[0m \u001b[38;5;28;01mreturn\u001b[39;00m action_payload\n",
      "File \u001b[0;32m~/.pyenv/versions/3.12.1/envs/abstractions/lib/python3.12/site-packages/outlines/models/llamacpp.py:65\u001b[0m, in \u001b[0;36mLlamaSequenceGenerator.__call__\u001b[0;34m(self, prompts, max_tokens, stop_at, rng, **model_kwargs)\u001b[0m\n\u001b[1;32m     62\u001b[0m \u001b[38;5;28;01mif\u001b[39;00m \u001b[38;5;28mself\u001b[39m\u001b[38;5;241m.\u001b[39mlogits_processor \u001b[38;5;129;01mis\u001b[39;00m \u001b[38;5;129;01mnot\u001b[39;00m \u001b[38;5;28;01mNone\u001b[39;00m:\n\u001b[1;32m     63\u001b[0m     processors \u001b[38;5;241m=\u001b[39m [\u001b[38;5;28mself\u001b[39m\u001b[38;5;241m.\u001b[39mlogits_processor\u001b[38;5;241m.\u001b[39mcopy()]\n\u001b[0;32m---> 65\u001b[0m completion \u001b[38;5;241m=\u001b[39m \u001b[38;5;28;43mself\u001b[39;49m\u001b[38;5;241;43m.\u001b[39;49m\u001b[43mmodel\u001b[49m\u001b[38;5;241;43m.\u001b[39;49m\u001b[43mcreate_completion\u001b[49m\u001b[43m(\u001b[49m\n\u001b[1;32m     66\u001b[0m \u001b[43m    \u001b[49m\u001b[43mprompt\u001b[49m\u001b[43m,\u001b[49m\n\u001b[1;32m     67\u001b[0m \u001b[43m    \u001b[49m\u001b[43mmax_tokens\u001b[49m\u001b[38;5;241;43m=\u001b[39;49m\u001b[43mmax_tokens\u001b[49m\u001b[43m,\u001b[49m\n\u001b[1;32m     68\u001b[0m \u001b[43m    \u001b[49m\u001b[43mstop\u001b[49m\u001b[38;5;241;43m=\u001b[39;49m\u001b[43mstop_at\u001b[49m\u001b[43m,\u001b[49m\n\u001b[1;32m     69\u001b[0m \u001b[43m    \u001b[49m\u001b[43mseed\u001b[49m\u001b[38;5;241;43m=\u001b[39;49m\u001b[43mrng\u001b[49m\u001b[38;5;241;43m.\u001b[39;49m\u001b[43minitial_seed\u001b[49m\u001b[43m(\u001b[49m\u001b[43m)\u001b[49m\u001b[43m,\u001b[49m\n\u001b[1;32m     70\u001b[0m \u001b[43m    \u001b[49m\u001b[43mlogits_processor\u001b[49m\u001b[38;5;241;43m=\u001b[39;49m\u001b[43mLogitsProcessorList\u001b[49m\u001b[43m(\u001b[49m\u001b[43mprocessors\u001b[49m\u001b[43m)\u001b[49m\u001b[43m,\u001b[49m\n\u001b[1;32m     71\u001b[0m \u001b[43m    \u001b[49m\u001b[38;5;241;43m*\u001b[39;49m\u001b[38;5;241;43m*\u001b[39;49m\u001b[43mmodel_kwargs\u001b[49m\u001b[43m,\u001b[49m\n\u001b[1;32m     72\u001b[0m \u001b[43m\u001b[49m\u001b[43m)\u001b[49m\n\u001b[1;32m     73\u001b[0m \u001b[38;5;28;01massert\u001b[39;00m \u001b[38;5;28misinstance\u001b[39m(completion, \u001b[38;5;28mdict\u001b[39m)\n\u001b[1;32m     74\u001b[0m result \u001b[38;5;241m=\u001b[39m completion[\u001b[38;5;124m\"\u001b[39m\u001b[38;5;124mchoices\u001b[39m\u001b[38;5;124m\"\u001b[39m][\u001b[38;5;241m0\u001b[39m][\u001b[38;5;124m\"\u001b[39m\u001b[38;5;124mtext\u001b[39m\u001b[38;5;124m\"\u001b[39m]\n",
      "File \u001b[0;32m~/.pyenv/versions/3.12.1/envs/abstractions/lib/python3.12/site-packages/llama_cpp/llama.py:1491\u001b[0m, in \u001b[0;36mLlama.create_completion\u001b[0;34m(self, prompt, suffix, max_tokens, temperature, top_p, min_p, typical_p, logprobs, echo, stop, frequency_penalty, presence_penalty, repeat_penalty, top_k, stream, seed, tfs_z, mirostat_mode, mirostat_tau, mirostat_eta, model, stopping_criteria, logits_processor, grammar, logit_bias)\u001b[0m\n\u001b[1;32m   1489\u001b[0m     chunks: Iterator[CreateCompletionStreamResponse] \u001b[38;5;241m=\u001b[39m completion_or_chunks\n\u001b[1;32m   1490\u001b[0m     \u001b[38;5;28;01mreturn\u001b[39;00m chunks\n\u001b[0;32m-> 1491\u001b[0m completion: Completion \u001b[38;5;241m=\u001b[39m \u001b[38;5;28;43mnext\u001b[39;49m\u001b[43m(\u001b[49m\u001b[43mcompletion_or_chunks\u001b[49m\u001b[43m)\u001b[49m  \u001b[38;5;66;03m# type: ignore\u001b[39;00m\n\u001b[1;32m   1492\u001b[0m \u001b[38;5;28;01mreturn\u001b[39;00m completion\n",
      "File \u001b[0;32m~/.pyenv/versions/3.12.1/envs/abstractions/lib/python3.12/site-packages/llama_cpp/llama.py:1017\u001b[0m, in \u001b[0;36mLlama._create_completion\u001b[0;34m(self, prompt, suffix, max_tokens, temperature, top_p, min_p, typical_p, logprobs, echo, stop, frequency_penalty, presence_penalty, repeat_penalty, top_k, stream, seed, tfs_z, mirostat_mode, mirostat_tau, mirostat_eta, model, stopping_criteria, logits_processor, grammar, logit_bias)\u001b[0m\n\u001b[1;32m   1015\u001b[0m finish_reason \u001b[38;5;241m=\u001b[39m \u001b[38;5;124m\"\u001b[39m\u001b[38;5;124mlength\u001b[39m\u001b[38;5;124m\"\u001b[39m\n\u001b[1;32m   1016\u001b[0m multibyte_fix \u001b[38;5;241m=\u001b[39m \u001b[38;5;241m0\u001b[39m\n\u001b[0;32m-> 1017\u001b[0m \u001b[43m\u001b[49m\u001b[38;5;28;43;01mfor\u001b[39;49;00m\u001b[43m \u001b[49m\u001b[43mtoken\u001b[49m\u001b[43m \u001b[49m\u001b[38;5;129;43;01min\u001b[39;49;00m\u001b[43m \u001b[49m\u001b[38;5;28;43mself\u001b[39;49m\u001b[38;5;241;43m.\u001b[39;49m\u001b[43mgenerate\u001b[49m\u001b[43m(\u001b[49m\n\u001b[1;32m   1018\u001b[0m \u001b[43m    \u001b[49m\u001b[43mprompt_tokens\u001b[49m\u001b[43m,\u001b[49m\n\u001b[1;32m   1019\u001b[0m \u001b[43m    \u001b[49m\u001b[43mtop_k\u001b[49m\u001b[38;5;241;43m=\u001b[39;49m\u001b[43mtop_k\u001b[49m\u001b[43m,\u001b[49m\n\u001b[1;32m   1020\u001b[0m \u001b[43m    \u001b[49m\u001b[43mtop_p\u001b[49m\u001b[38;5;241;43m=\u001b[39;49m\u001b[43mtop_p\u001b[49m\u001b[43m,\u001b[49m\n\u001b[1;32m   1021\u001b[0m \u001b[43m    \u001b[49m\u001b[43mmin_p\u001b[49m\u001b[38;5;241;43m=\u001b[39;49m\u001b[43mmin_p\u001b[49m\u001b[43m,\u001b[49m\n\u001b[1;32m   1022\u001b[0m \u001b[43m    \u001b[49m\u001b[43mtypical_p\u001b[49m\u001b[38;5;241;43m=\u001b[39;49m\u001b[43mtypical_p\u001b[49m\u001b[43m,\u001b[49m\n\u001b[1;32m   1023\u001b[0m \u001b[43m    \u001b[49m\u001b[43mtemp\u001b[49m\u001b[38;5;241;43m=\u001b[39;49m\u001b[43mtemperature\u001b[49m\u001b[43m,\u001b[49m\n\u001b[1;32m   1024\u001b[0m \u001b[43m    \u001b[49m\u001b[43mtfs_z\u001b[49m\u001b[38;5;241;43m=\u001b[39;49m\u001b[43mtfs_z\u001b[49m\u001b[43m,\u001b[49m\n\u001b[1;32m   1025\u001b[0m \u001b[43m    \u001b[49m\u001b[43mmirostat_mode\u001b[49m\u001b[38;5;241;43m=\u001b[39;49m\u001b[43mmirostat_mode\u001b[49m\u001b[43m,\u001b[49m\n\u001b[1;32m   1026\u001b[0m \u001b[43m    \u001b[49m\u001b[43mmirostat_tau\u001b[49m\u001b[38;5;241;43m=\u001b[39;49m\u001b[43mmirostat_tau\u001b[49m\u001b[43m,\u001b[49m\n\u001b[1;32m   1027\u001b[0m \u001b[43m    \u001b[49m\u001b[43mmirostat_eta\u001b[49m\u001b[38;5;241;43m=\u001b[39;49m\u001b[43mmirostat_eta\u001b[49m\u001b[43m,\u001b[49m\n\u001b[1;32m   1028\u001b[0m \u001b[43m    \u001b[49m\u001b[43mfrequency_penalty\u001b[49m\u001b[38;5;241;43m=\u001b[39;49m\u001b[43mfrequency_penalty\u001b[49m\u001b[43m,\u001b[49m\n\u001b[1;32m   1029\u001b[0m \u001b[43m    \u001b[49m\u001b[43mpresence_penalty\u001b[49m\u001b[38;5;241;43m=\u001b[39;49m\u001b[43mpresence_penalty\u001b[49m\u001b[43m,\u001b[49m\n\u001b[1;32m   1030\u001b[0m \u001b[43m    \u001b[49m\u001b[43mrepeat_penalty\u001b[49m\u001b[38;5;241;43m=\u001b[39;49m\u001b[43mrepeat_penalty\u001b[49m\u001b[43m,\u001b[49m\n\u001b[1;32m   1031\u001b[0m \u001b[43m    \u001b[49m\u001b[43mstopping_criteria\u001b[49m\u001b[38;5;241;43m=\u001b[39;49m\u001b[43mstopping_criteria\u001b[49m\u001b[43m,\u001b[49m\n\u001b[1;32m   1032\u001b[0m \u001b[43m    \u001b[49m\u001b[43mlogits_processor\u001b[49m\u001b[38;5;241;43m=\u001b[39;49m\u001b[43mlogits_processor\u001b[49m\u001b[43m,\u001b[49m\n\u001b[1;32m   1033\u001b[0m \u001b[43m    \u001b[49m\u001b[43mgrammar\u001b[49m\u001b[38;5;241;43m=\u001b[39;49m\u001b[43mgrammar\u001b[49m\u001b[43m,\u001b[49m\n\u001b[1;32m   1034\u001b[0m \u001b[43m\u001b[49m\u001b[43m)\u001b[49m\u001b[43m:\u001b[49m\n\u001b[1;32m   1035\u001b[0m \u001b[43m    \u001b[49m\u001b[38;5;28;43;01mif\u001b[39;49;00m\u001b[43m \u001b[49m\u001b[43mtoken\u001b[49m\u001b[43m \u001b[49m\u001b[38;5;241;43m==\u001b[39;49m\u001b[43m \u001b[49m\u001b[38;5;28;43mself\u001b[39;49m\u001b[38;5;241;43m.\u001b[39;49m\u001b[43m_token_eos\u001b[49m\u001b[43m:\u001b[49m\n\u001b[1;32m   1036\u001b[0m \u001b[43m        \u001b[49m\u001b[43mtext\u001b[49m\u001b[43m \u001b[49m\u001b[38;5;241;43m=\u001b[39;49m\u001b[43m \u001b[49m\u001b[38;5;28;43mself\u001b[39;49m\u001b[38;5;241;43m.\u001b[39;49m\u001b[43mdetokenize\u001b[49m\u001b[43m(\u001b[49m\u001b[43mcompletion_tokens\u001b[49m\u001b[43m,\u001b[49m\u001b[43m \u001b[49m\u001b[43mprev_tokens\u001b[49m\u001b[38;5;241;43m=\u001b[39;49m\u001b[43mprompt_tokens\u001b[49m\u001b[43m)\u001b[49m\n",
      "File \u001b[0;32m~/.pyenv/versions/3.12.1/envs/abstractions/lib/python3.12/site-packages/llama_cpp/llama.py:696\u001b[0m, in \u001b[0;36mLlama.generate\u001b[0;34m(self, tokens, top_k, top_p, min_p, typical_p, temp, repeat_penalty, reset, frequency_penalty, presence_penalty, tfs_z, mirostat_mode, mirostat_tau, mirostat_eta, penalize_nl, logits_processor, stopping_criteria, grammar)\u001b[0m\n\u001b[1;32m    694\u001b[0m \u001b[38;5;66;03m# Eval and sample\u001b[39;00m\n\u001b[1;32m    695\u001b[0m \u001b[38;5;28;01mwhile\u001b[39;00m \u001b[38;5;28;01mTrue\u001b[39;00m:\n\u001b[0;32m--> 696\u001b[0m     \u001b[38;5;28;43mself\u001b[39;49m\u001b[38;5;241;43m.\u001b[39;49m\u001b[43meval\u001b[49m\u001b[43m(\u001b[49m\u001b[43mtokens\u001b[49m\u001b[43m)\u001b[49m\n\u001b[1;32m    697\u001b[0m     \u001b[38;5;28;01mwhile\u001b[39;00m sample_idx \u001b[38;5;241m<\u001b[39m \u001b[38;5;28mself\u001b[39m\u001b[38;5;241m.\u001b[39mn_tokens:\n\u001b[1;32m    698\u001b[0m         token \u001b[38;5;241m=\u001b[39m \u001b[38;5;28mself\u001b[39m\u001b[38;5;241m.\u001b[39msample(\n\u001b[1;32m    699\u001b[0m             top_k\u001b[38;5;241m=\u001b[39mtop_k,\n\u001b[1;32m    700\u001b[0m             top_p\u001b[38;5;241m=\u001b[39mtop_p,\n\u001b[0;32m   (...)\u001b[0m\n\u001b[1;32m    714\u001b[0m             idx\u001b[38;5;241m=\u001b[39msample_idx,\n\u001b[1;32m    715\u001b[0m         )\n",
      "File \u001b[0;32m~/.pyenv/versions/3.12.1/envs/abstractions/lib/python3.12/site-packages/llama_cpp/llama.py:534\u001b[0m, in \u001b[0;36mLlama.eval\u001b[0;34m(self, tokens)\u001b[0m\n\u001b[1;32m    530\u001b[0m n_tokens \u001b[38;5;241m=\u001b[39m \u001b[38;5;28mlen\u001b[39m(batch)\n\u001b[1;32m    531\u001b[0m \u001b[38;5;28mself\u001b[39m\u001b[38;5;241m.\u001b[39m_batch\u001b[38;5;241m.\u001b[39mset_batch(\n\u001b[1;32m    532\u001b[0m     batch\u001b[38;5;241m=\u001b[39mbatch, n_past\u001b[38;5;241m=\u001b[39mn_past, logits_all\u001b[38;5;241m=\u001b[39m\u001b[38;5;28mself\u001b[39m\u001b[38;5;241m.\u001b[39mcontext_params\u001b[38;5;241m.\u001b[39mlogits_all\n\u001b[1;32m    533\u001b[0m )\n\u001b[0;32m--> 534\u001b[0m \u001b[38;5;28;43mself\u001b[39;49m\u001b[38;5;241;43m.\u001b[39;49m\u001b[43m_ctx\u001b[49m\u001b[38;5;241;43m.\u001b[39;49m\u001b[43mdecode\u001b[49m\u001b[43m(\u001b[49m\u001b[38;5;28;43mself\u001b[39;49m\u001b[38;5;241;43m.\u001b[39;49m\u001b[43m_batch\u001b[49m\u001b[43m)\u001b[49m\n\u001b[1;32m    535\u001b[0m \u001b[38;5;66;03m# Save tokens\u001b[39;00m\n\u001b[1;32m    536\u001b[0m \u001b[38;5;28mself\u001b[39m\u001b[38;5;241m.\u001b[39minput_ids[n_past : n_past \u001b[38;5;241m+\u001b[39m n_tokens] \u001b[38;5;241m=\u001b[39m batch\n",
      "File \u001b[0;32m~/.pyenv/versions/3.12.1/envs/abstractions/lib/python3.12/site-packages/llama_cpp/_internals.py:311\u001b[0m, in \u001b[0;36m_LlamaContext.decode\u001b[0;34m(self, batch)\u001b[0m\n\u001b[1;32m    309\u001b[0m \u001b[38;5;28;01massert\u001b[39;00m \u001b[38;5;28mself\u001b[39m\u001b[38;5;241m.\u001b[39mctx \u001b[38;5;129;01mis\u001b[39;00m \u001b[38;5;129;01mnot\u001b[39;00m \u001b[38;5;28;01mNone\u001b[39;00m\n\u001b[1;32m    310\u001b[0m \u001b[38;5;28;01massert\u001b[39;00m batch\u001b[38;5;241m.\u001b[39mbatch \u001b[38;5;129;01mis\u001b[39;00m \u001b[38;5;129;01mnot\u001b[39;00m \u001b[38;5;28;01mNone\u001b[39;00m\n\u001b[0;32m--> 311\u001b[0m return_code \u001b[38;5;241m=\u001b[39m \u001b[43mllama_cpp\u001b[49m\u001b[38;5;241;43m.\u001b[39;49m\u001b[43mllama_decode\u001b[49m\u001b[43m(\u001b[49m\n\u001b[1;32m    312\u001b[0m \u001b[43m    \u001b[49m\u001b[38;5;28;43mself\u001b[39;49m\u001b[38;5;241;43m.\u001b[39;49m\u001b[43mctx\u001b[49m\u001b[43m,\u001b[49m\n\u001b[1;32m    313\u001b[0m \u001b[43m    \u001b[49m\u001b[43mbatch\u001b[49m\u001b[38;5;241;43m.\u001b[39;49m\u001b[43mbatch\u001b[49m\u001b[43m,\u001b[49m\n\u001b[1;32m    314\u001b[0m \u001b[43m\u001b[49m\u001b[43m)\u001b[49m\n\u001b[1;32m    315\u001b[0m \u001b[38;5;28;01mif\u001b[39;00m return_code \u001b[38;5;241m!=\u001b[39m \u001b[38;5;241m0\u001b[39m:\n\u001b[1;32m    316\u001b[0m     \u001b[38;5;28;01mraise\u001b[39;00m \u001b[38;5;167;01mRuntimeError\u001b[39;00m(\u001b[38;5;124mf\u001b[39m\u001b[38;5;124m\"\u001b[39m\u001b[38;5;124mllama_decode returned \u001b[39m\u001b[38;5;132;01m{\u001b[39;00mreturn_code\u001b[38;5;132;01m}\u001b[39;00m\u001b[38;5;124m\"\u001b[39m)\n",
      "\u001b[0;31mKeyboardInterrupt\u001b[0m: "
     ]
    }
   ],
   "source": [
    "character_agent.run(initial_observation)"
   ]
  },
  {
   "cell_type": "code",
   "execution_count": null,
   "metadata": {},
   "outputs": [
    {
     "data": {
      "text/plain": [
       "\"Entity Types: ['Floor'], Attributes: [('BlocksLight', False), ('BlocksMovement', False), ('Material', '')], Positions: (0:2, 0:3), (8:10, 0:2), (2, 0:2), (3, 0:2), (4, 0:2), (6, 0:2), (7, 0:2), (5, 0), (9, 2)\\nEntity Types: ['Character', 'Floor'], Attributes: [('AttackPower', 10), ('BlocksLight', False), ('BlocksLight', False), ('BlocksMovement', False), ('BlocksMovement', False), ('CanAct', True), ('Health', 100), ('Material', ''), ('MaxHealth', 100)], Positions: (5, 1)\\nEntity Types: ['Wall', 'Floor'], Attributes: [('BlocksLight', False), ('BlocksLight', True), ('BlocksMovement', False), ('BlocksMovement', True), ('Material', ''), ('Material', '')], Positions: (3:5, 2), (6:8, 2)\\nEntity Types: ['Door', 'Floor'], Attributes: [('BlocksLight', False), ('BlocksLight', True), ('BlocksMovement', False), ('BlocksMovement', True), ('Material', ''), ('Material', ''), ('Open', False), ('is_locked', True), ('required_key', 'Golden Key')], Positions: (5, 2)\""
      ]
     },
     "execution_count": 5,
     "metadata": {},
     "output_type": "execute_result"
    }
   ],
   "source": [
    "initial_observation"
   ]
  },
  {
   "cell_type": "markdown",
   "metadata": {},
   "source": []
  },
  {
   "cell_type": "code",
   "execution_count": null,
   "metadata": {},
   "outputs": [],
   "source": [
    "initial_observation = character_agent.get_current_observation()\n"
   ]
  },
  {
   "cell_type": "code",
   "execution_count": null,
   "metadata": {},
   "outputs": [
    {
     "name": "stdout",
     "output_type": "stream",
     "text": [
      "Initial Observation:\n",
      "Entity Types: ['Floor'], Attributes: [('BlocksLight', False), ('BlocksMovement', False), ('Material', '')], Positions: (0:2, 0:3), (8:10, 0:2), (2, 0:2), (3, 0:2), (4, 0:2), (6, 0:2), (7, 0:2), (5, 0), (9, 2)\n",
      "Entity Types: ['Character', 'Floor'], Attributes: [('AttackPower', 10), ('BlocksLight', False), ('BlocksLight', False), ('BlocksMovement', False), ('BlocksMovement', False), ('CanAct', True), ('Health', 100), ('Material', ''), ('MaxHealth', 100)], Positions: (5, 1)\n",
      "Entity Types: ['Wall', 'Floor'], Attributes: [('BlocksLight', False), ('BlocksLight', True), ('BlocksMovement', False), ('BlocksMovement', True), ('Material', ''), ('Material', '')], Positions: (3:5, 2), (6:8, 2)\n",
      "Entity Types: ['Door', 'Floor'], Attributes: [('BlocksLight', False), ('BlocksLight', True), ('BlocksMovement', False), ('BlocksMovement', True), ('Material', ''), ('Material', ''), ('Open', False), ('is_locked', True), ('required_key', 'Golden Key')], Positions: (5, 2)\n",
      "\n",
      "System Prompt:\n",
      "<|im_start|>system\n",
      "You are an agent in a turn-based game world. The game takes place on a grid-based map, where each node can contain various entities, such as characters, items, and obstacles.\n",
      "\n",
      "Available Actions:\n",
      "- MoveStep:\n",
      "    Description: Represents a single step movement action.\n",
      "    Parameters:\n",
      "    - name: None\n",
      "    - prerequisites: None\n",
      "    - consequences: None\n",
      "    Prerequisites:\n",
      "    - Source Statement:\n",
      "        Conditions: {'can_act': True}\n",
      "    - Target Statement:\n",
      "        Conditions: {'blocks_movement': False}\n",
      "    - Source-Target Statement:\n",
      "        Conditions: {}\n",
      "        Comparisons: {'source_position': ('node', 'node', <function source_node_comparison_and_walkable at 0x112dd6980>)}\n",
      "    Consequences:\n",
      "    - Source Transformations: {'node': <function move_to_target_node at 0x112dd6ac0>}\n",
      "    - Target Transformations: {}\n",
      "- PickupAction:\n",
      "    Description: Represents the action of picking up an entity.\n",
      "    Parameters:\n",
      "    - name: None\n",
      "    - prerequisites: None\n",
      "    - consequences: None\n",
      "    Prerequisites:\n",
      "    - Source Statement:\n",
      "        Conditions: {'can_act': True}\n",
      "    - Target Statement:\n",
      "        Conditions: {'is_pickupable': True}\n",
      "    - Source-Target Statement:\n",
      "        Conditions: {}\n",
      "        Comparisons: {'source_position': ('node', 'node', <function source_node_comparison at 0x112dd6a20>)}\n",
      "    Consequences:\n",
      "    - Source Transformations: {'inventory': <function add_to_inventory at 0x112dd6e80>}\n",
      "    - Target Transformations: {'stored_in': <function set_stored_in at 0x112bebba0>, 'node': None}\n",
      "- DropAction:\n",
      "    Description: Represents the action of dropping an entity.\n",
      "    Parameters:\n",
      "    - name: None\n",
      "    - prerequisites: None\n",
      "    - consequences: None\n",
      "    Prerequisites:\n",
      "    - Source Statement:\n",
      "        Conditions: {'can_act': True}\n",
      "    Consequences:\n",
      "    - Source Transformations: {}\n",
      "    - Target Transformations: {'stored_in': <function clear_stored_in at 0x112dd40e0>, 'node': <function set_node at 0x112dd6b60>}\n",
      "- OpenAction:\n",
      "    Description: Represents the action of opening a Entity.\n",
      "    Parameters:\n",
      "    - name: None\n",
      "    - prerequisites: None\n",
      "    - consequences: None\n",
      "    Prerequisites:\n",
      "    - Source Statement:\n",
      "        Conditions: {'can_act': True}\n",
      "    - Target Statement:\n",
      "        Conditions: {'is_locked': False, 'open': False}\n",
      "    - Source-Target Statement:\n",
      "        Conditions: {}\n",
      "        Comparisons: {'source_position': ('node', 'node', <function source_node_comparison at 0x112dd6a20>)}\n",
      "    Consequences:\n",
      "    - Source Transformations: {}\n",
      "    - Target Transformations: {'open': True}\n",
      "- CloseAction:\n",
      "    Description: Represents the action of closing a Entity.\n",
      "    Parameters:\n",
      "    - name: None\n",
      "    - prerequisites: None\n",
      "    - consequences: None\n",
      "    Prerequisites:\n",
      "    - Source Statement:\n",
      "        Conditions: {'can_act': True}\n",
      "    - Target Statement:\n",
      "        Conditions: {'open': True}\n",
      "    - Source-Target Statement:\n",
      "        Conditions: {}\n",
      "        Comparisons: {'source_position': ('node', 'node', <function source_node_comparison at 0x112dd6a20>)}\n",
      "    Consequences:\n",
      "    - Source Transformations: {}\n",
      "    - Target Transformations: {'open': False}\n",
      "- UnlockAction:\n",
      "    Description: Represents the action of unlocking a Entity.\n",
      "    Parameters:\n",
      "    - name: None\n",
      "    - prerequisites: None\n",
      "    - consequences: None\n",
      "    Prerequisites:\n",
      "    - Source Statement:\n",
      "        Conditions: {'can_act': True}\n",
      "    - Target Statement:\n",
      "        Conditions: {'is_locked': True}\n",
      "    - Source-Target Statement:\n",
      "        Conditions: {}\n",
      "        Comparisons: {'source_position': ('node', 'node', <function source_node_comparison at 0x112dd6a20>)}\n",
      "        Callables:\n",
      "        - has_required_key: None\n",
      "    Consequences:\n",
      "    - Source Transformations: {}\n",
      "    - Target Transformations: {'is_locked': False}\n",
      "- LockAction:\n",
      "    Description:  Represents the action of locking a Entity.\n",
      "    Parameters:\n",
      "    - name: None\n",
      "    - prerequisites: None\n",
      "    - consequences: None\n",
      "    Prerequisites:\n",
      "    - Source Statement:\n",
      "        Conditions: {'can_act': True}\n",
      "    - Target Statement:\n",
      "        Conditions: {'is_locked': False, 'open': False}\n",
      "    - Source-Target Statement:\n",
      "        Conditions: {}\n",
      "        Comparisons: {'source_position': ('node', 'node', <function source_node_comparison at 0x112dd6a20>)}\n",
      "        Callables:\n",
      "        - has_required_key: None\n",
      "    Consequences:\n",
      "    - Source Transformations: {}\n",
      "    - Target Transformations: {'is_locked': True}\n",
      "\n",
      "Observation Space:\n",
      "- You receive observations in the form of Shadow payloads, which represent your visible surroundings.\n",
      "- Each Shadow payload contains a list of visible nodes and the entities present at each node.\n",
      "- Entities have types, names, and attributes that describe their properties and state.\n",
      "- The positions in the Shadow payload are compressed to save space using the following techniques:\n",
      "  - Positions are grouped by entity equivalence classes, where all positions with the same set of entities are reported together.\n",
      "  - Positions are represented using range notation, where a contiguous range of positions is denoted as \"start:end\".\n",
      "  - Individual positions are separated by commas, and ranges are separated by commas as well.\n",
      "- The structure of the Shadow payload is as follows:\n",
      "  - Each line represents an entity equivalence class, starting with \"Entity Types:\" followed by a list of entity types.\n",
      "  - The attributes of the entities in the equivalence class are listed after \"Attributes:\" as a list of (attribute_name, attribute_value) tuples.\n",
      "  - The positions of the entities in the equivalence class are listed after \"Positions:\" using the compressed notation described above.\n",
      "- The positions in the Shadow payload are absolute positions on the grid map.\n",
      "  Example Shadow Payload (Absolute):\n",
      "  Entity Types: ['Floor'], Attributes: [('BlocksLight', False), ('BlocksMovement', False), ('Material', '')], Positions: (0:2, 0:3), (8:10, 0:2), (2, 0:2), (3, 0:2), (4, 0:2), (6, 0:2), (7, 0:2), (5, 0), (9, 2)\n",
      "  Entity Types: ['Character', 'Floor'], Attributes: [('AttackPower', 10), ('BlocksLight', False), ('BlocksLight', False), ('BlocksMovement', False), ('BlocksMovement', False), ('CanAct', True), ('Health', 100), ('Material', ''), ('MaxHealth', 100)], Positions: (5, 1)\n",
      "  Entity Types: ['InanimateEntity', 'Floor'], Attributes: [('BlocksLight', False), ('BlocksLight', True), ('BlocksMovement', False), ('BlocksMovement', True), ('Material', ''), ('Material', '')], Positions: (3:5, 2), (6:8, 2)\n",
      "  Entity Types: ['Door', 'Floor'], Attributes: [('BlocksLight', False), ('BlocksLight', True), ('BlocksMovement', False), ('BlocksMovement', True), ('Material', ''), ('Material', ''), ('Open', False), ('is_locked', True), ('required_key', 'Golden Key')], Positions: (5, 2)\n",
      "\n",
      "Game Flow:\n",
      "- The game progresses in turns, and you can take one action per turn.\n",
      "- After each action, you will receive an updated observation reflecting the changes in the game world.\n",
      "- Your goal is to make decisions and take actions based on your observations to achieve the desired objectives.\n",
      "\n",
      "Action Generation:\n",
      "- To take an action, you need to generate an action payload that specifies the action name, the source entity (yourself), and the target entity (if applicable).\n",
      "- The action payload should conform to the structure defined by the game engine's registered actions.\n",
      "- The positions in the action payload should be absolute positions on the grid map.\n",
      "- The action payload should follow the structure of the {\n",
      "  \"action_name\": \"The name of the action.\",\n",
      "  \"target_entity_type\": \"The type of the target entity.\",\n",
      "  \"target_entity_position\": \"The absolute position of the target entity.\"\n",
      "}.\n",
      "- If the action is valid and successfully executed, you will receive an ActionResult object with the updated game state.\n",
      "- If the action is invalid or cannot be executed, you will receive an ActionConversionError object with details about the error.\n",
      "\n",
      "Remember to carefully consider your observations, goals, and the available actions when making decisions. Good luck!<|im_end|>\n",
      "\n",
      "Action Generation Prompt:\n",
      "<|im_start|>user\n",
      "Current Observation:\n",
      "Entity Types: ['Floor'], Attributes: [('BlocksLight', False), ('BlocksMovement', False), ('Material', '')], Positions: (0:2, 0:3), (8:10, 0:2), (2, 0:2), (3, 0:2), (4, 0:2), (6, 0:2), (7, 0:2), (5, 0), (9, 2)\n",
      "Entity Types: ['Character', 'Floor'], Attributes: [('AttackPower', 10), ('BlocksLight', False), ('BlocksLight', False), ('BlocksMovement', False), ('BlocksMovement', False), ('CanAct', True), ('Health', 100), ('Material', ''), ('MaxHealth', 100)], Positions: (5, 1)\n",
      "Entity Types: ['Wall', 'Floor'], Attributes: [('BlocksLight', False), ('BlocksLight', True), ('BlocksMovement', False), ('BlocksMovement', True), ('Material', ''), ('Material', '')], Positions: (3:5, 2), (6:8, 2)\n",
      "Entity Types: ['Door', 'Floor'], Attributes: [('BlocksLight', False), ('BlocksLight', True), ('BlocksMovement', False), ('BlocksMovement', True), ('Material', ''), ('Material', ''), ('Open', False), ('is_locked', True), ('required_key', 'Golden Key')], Positions: (5, 2)\n",
      "\n",
      "Goals:\n",
      "- name='Statement' id='20d6aa0b-6c76-4829-ad23-7fce1f61ccef' conditions={} comparisons={} callables=[<function source_node_at_00 at 0x2acf36e80>]: (Priority: 1)\n",
      "\n",
      "\n",
      "Based on the current observation and your goals, what action do you want to take next?\n",
      "Respond with a valid action payload following the structure defined by the game engine's registered actions.\n",
      "Remember to provide absolute positions on the grid map.\n",
      "The action payload should follow the structure of the {\n",
      "  \"action_name\": \"The name of the action.\",\n",
      "  \"target_entity_type\": \"The type of the target entity.\",\n",
      "  \"target_entity_position\": \"The absolute position of the target entity.\"\n",
      "}.\n",
      "<|im_end|>\n",
      "<|im_start|>assistant\n",
      "\n"
     ]
    }
   ],
   "source": [
    "# Debug a single step\n",
    "print(\"Initial Observation:\")\n",
    "print(initial_observation)\n",
    "\n",
    "print(\"\\nSystem Prompt:\")\n",
    "print(system_prompt(\n",
    "    grid_map.get_actions(),\n",
    "    agent.use_egocentric,\n",
    "    agent.use_outlines,\n",
    "    OutlinesEgoActionPayload,\n",
    "    OutlinesActionPayload,\n",
    "    SummarizedEgoActionPayload,\n",
    "    SummarizedActionPayload\n",
    "))\n",
    "\n",
    "print(\"\\nAction Generation Prompt:\")\n",
    "print(action_generation_prompt(\n",
    "    initial_observation,\n",
    "    character_agent.goals,\n",
    "    \"\",\n",
    "    agent.use_egocentric,\n",
    "    agent.use_outlines,\n",
    "    agent.memory_length,\n",
    "    OutlinesEgoActionPayload,\n",
    "    OutlinesActionPayload,\n",
    "    SummarizedEgoActionPayload,\n",
    "    SummarizedActionPayload\n",
    "))\n",
    "\n"
   ]
  },
  {
   "cell_type": "code",
   "execution_count": null,
   "metadata": {},
   "outputs": [
    {
     "name": "stdout",
     "output_type": "stream",
     "text": [
      "\n",
      "Generating action...\n"
     ]
    },
    {
     "name": "stderr",
     "output_type": "stream",
     "text": [
      "\n",
      "llama_print_timings:        load time =     909.42 ms\n",
      "llama_print_timings:      sample time =       3.20 ms /    35 runs   (    0.09 ms per token, 10947.76 tokens per second)\n",
      "llama_print_timings: prompt eval time =    4195.80 ms /  2808 tokens (    1.49 ms per token,   669.24 tokens per second)\n",
      "llama_print_timings:        eval time =    1077.33 ms /    34 runs   (   31.69 ms per token,    31.56 tokens per second)\n",
      "llama_print_timings:       total time =    5350.80 ms /  2842 tokens\n"
     ]
    },
    {
     "name": "stdout",
     "output_type": "stream",
     "text": [
      "Generated Action: action_name='MoveStep' target_entity_type='Floor' target_entity_position=[5, 0]\n",
      "Generated Action:\n",
      "action_name='MoveStep' target_entity_type='Floor' target_entity_position=[5, 0]\n",
      "\n",
      "Executing action...\n",
      "payload detected\n",
      "converting to summarized\n",
      "converting summarized payload\n",
      "conversion results: actions=[ActionInstance(source_id='4176ec77-2d2a-494a-a063-71d0a83f80c1', target_id='75385267-7517-4c4d-9221-ad184aaca349', action=MoveStep(name='Move Step', prerequisites=Prerequisites(source_statements=[Statement(name='Statement', id='99dd2fe6-f6aa-4ace-b467-3eeb98595968', conditions={'can_act': True}, comparisons={}, callables=[])], target_statements=[Statement(name='Statement', id='c04ba669-e56f-4c1f-af79-cf3fc10cfdb9', conditions={'blocks_movement': False}, comparisons={}, callables=[])], source_target_statements=[Statement(name='Statement', id='ae9e672c-ac85-41aa-b6aa-8e24dee76e68', conditions={}, comparisons={'source_position': ('node', 'node', <function source_node_comparison_and_walkable at 0x10a1d6980>)}, callables=[])]), consequences=Consequences(source_transformations={'node': <function move_to_target_node at 0x10a1d6ac0>}, target_transformations={})))]\n",
      "Applying 1 actions\n",
      "Action Result:\n",
      "State Before: {'source': {'blocks_movement': False, 'blocks_light': False, 'health': 100, 'max_health': 100, 'attack_power': 10, 'can_act': True, 'position': (5, 1), 'inventory': []}, 'target': {'blocks_movement': False, 'blocks_light': False, 'material': '', 'position': (5, 0), 'inventory': []}}\n",
      "State After: {'source': {'blocks_movement': False, 'blocks_light': False, 'health': 100, 'max_health': 100, 'attack_power': 10, 'can_act': True, 'position': (5, 0), 'inventory': []}, 'target': {'blocks_movement': False, 'blocks_light': False, 'material': '', 'position': (5, 0), 'inventory': []}}\n"
     ]
    }
   ],
   "source": [
    "print(\"\\nGenerating action...\")\n",
    "action_payload = character_agent.generate_action(initial_observation)\n",
    "print(\"Generated Action:\")\n",
    "print(action_payload)\n",
    "\n",
    "print(\"\\nExecuting action...\")\n",
    "result, error = character_agent.execute_action(action_payload)\n",
    "if error:\n",
    "    print(\"Error:\", error)\n",
    "else:\n",
    "    print(\"Action Result:\")\n",
    "    print(\"State Before:\", result[\"state_before\"])\n",
    "    print(\"State After:\", result[\"state_after\"])"
   ]
  },
  {
   "cell_type": "code",
   "execution_count": null,
   "metadata": {},
   "outputs": [
    {
     "name": "stdout",
     "output_type": "stream",
     "text": [
      "name='Position' id='264317ef-2b4e-4c6f-847c-479347b90117' value=(5, 0)\n"
     ]
    }
   ],
   "source": [
    "print(character.position)"
   ]
  },
  {
   "cell_type": "code",
   "execution_count": null,
   "metadata": {},
   "outputs": [],
   "source": [
    "# def source_node_at_00(source: Node, target: Optional[Node] = None) -> bool:\n",
    "#     print(\"Checking if source node at 0, 0\", source.position)\n",
    "#     if source.node.position.value == (0, 0):\n",
    "#         print(\"Source node at 0, 0\", source.node.position)\n",
    "#         return True\n",
    "#     return False\n",
    "\n",
    "# # Create the grid map and generate the dungeon\n",
    "# grid_map = GridMap(width=10, height=10)\n",
    "# grid_map.register_actions([MoveStep, PickupAction, DropAction, OpenAction, CloseAction, UnlockAction, LockAction])\n",
    "# room_width, room_height = 6, 6\n",
    "# character, door, key, treasure = generate_dungeon(grid_map, room_width, room_height)\n",
    "\n",
    "# # Generate the entity type map\n",
    "# grid_map.generate_entity_type_map()\n",
    "\n",
    "# # Create the agent (either FakeLLM or LLMAgent)\n",
    "# agent = FakeLLM(grid_map, character.id, use_egocentric=True, use_outlines=True)\n",
    "# # model_path = \"./phi-2.Q4_K_M.gguf\"  # Replace with the path to your model\n",
    "# # agent = LLMAgent(grid_map, character.id, model_path)\n",
    "\n",
    "# # Create the CharacterAgent with the chosen agent\n",
    "# character_agent = CharacterAgent(grid_map, agent)\n",
    "\n",
    "# # Set the agent's metadata\n",
    "# metadata = RunMetadata(character_id=character.id, run_number=1)\n",
    "# character_agent.set_metadata(metadata)\n",
    "\n",
    "# # Set the agent's goals\n",
    "# goal_statement = Statement(callables=[source_node_at_00])  # Example goal: reach position (0, 0)\n",
    "# goal = AgentGoal(statement=goal_statement, priority=1)\n",
    "# character_agent.set_goals([goal])\n",
    "\n",
    "# # Get the initial observation\n",
    "# initial_observation = character_agent.get_current_observation()\n",
    "# # initial_observation_ego = character_agent.get_current_observation()\n",
    "\n",
    "\n",
    "\n",
    "# # Run the agent\n",
    "# character_agent.run(initial_observation)\n"
   ]
  },
  {
   "cell_type": "code",
   "execution_count": null,
   "metadata": {},
   "outputs": [
    {
     "name": "stdout",
     "output_type": "stream",
     "text": [
      "Updating block attributes... for door\n"
     ]
    },
    {
     "ename": "TypeError",
     "evalue": "LLMAgent.__init__() got an unexpected keyword argument 'use_outlines'",
     "output_type": "error",
     "traceback": [
      "\u001b[0;31m---------------------------------------------------------------------------\u001b[0m",
      "\u001b[0;31mTypeError\u001b[0m                                 Traceback (most recent call last)",
      "Cell \u001b[0;32mIn[11], line 18\u001b[0m\n\u001b[1;32m     15\u001b[0m grid_map\u001b[38;5;241m.\u001b[39mgenerate_entity_type_map()\n\u001b[1;32m     17\u001b[0m \u001b[38;5;66;03m# Create the LLMAgent\u001b[39;00m\n\u001b[0;32m---> 18\u001b[0m agent \u001b[38;5;241m=\u001b[39m \u001b[43mLLMAgent\u001b[49m\u001b[43m(\u001b[49m\u001b[43mgrid_map\u001b[49m\u001b[43m,\u001b[49m\u001b[43m \u001b[49m\u001b[43mcharacter\u001b[49m\u001b[38;5;241;43m.\u001b[39;49m\u001b[43mid\u001b[49m\u001b[43m,\u001b[49m\u001b[43m \u001b[49m\u001b[43mmodel_path\u001b[49m\u001b[43m,\u001b[49m\u001b[43m \u001b[49m\u001b[43muse_egocentric\u001b[49m\u001b[38;5;241;43m=\u001b[39;49m\u001b[38;5;28;43;01mTrue\u001b[39;49;00m\u001b[43m,\u001b[49m\u001b[43m \u001b[49m\u001b[43muse_outlines\u001b[49m\u001b[38;5;241;43m=\u001b[39;49m\u001b[38;5;28;43;01mTrue\u001b[39;49;00m\u001b[43m)\u001b[49m\n\u001b[1;32m     20\u001b[0m \u001b[38;5;66;03m# Create the CharacterAgent with the LLMAgent\u001b[39;00m\n\u001b[1;32m     21\u001b[0m character_agent \u001b[38;5;241m=\u001b[39m CharacterAgent(grid_map, agent)\n",
      "\u001b[0;31mTypeError\u001b[0m: LLMAgent.__init__() got an unexpected keyword argument 'use_outlines'"
     ]
    }
   ],
   "source": [
    "def source_node_at_00(source: Node, target: Optional[Node] = None) -> bool:\n",
    "    print(\"Checking if source node at 0, 0\", source.position)\n",
    "    if source.node.position.value == (0, 0):\n",
    "        print(\"Source node at 0, 0\", source.node.position)\n",
    "        return True\n",
    "    return False\n",
    "\n",
    "# Create the grid map and generate the dungeon\n",
    "grid_map = GridMap(width=10, height=10)\n",
    "grid_map.register_actions([MoveStep, PickupAction, DropAction, OpenAction, CloseAction, UnlockAction, LockAction])\n",
    "room_width, room_height = 6, 6\n",
    "character, door, key, treasure = generate_dungeon(grid_map, room_width, room_height)\n",
    "\n",
    "# Generate the entity type map\n",
    "grid_map.generate_entity_type_map()\n",
    "\n",
    "# Create the LLMAgent\n",
    "agent = LLMAgent(grid_map, character.id, model_path, use_egocentric=True, use_outlines=True)\n",
    "\n",
    "# Create the CharacterAgent with the LLMAgent\n",
    "character_agent = CharacterAgent(grid_map, agent)\n",
    "\n",
    "# Set the agent's metadata\n",
    "metadata = RunMetadata(character_id=character.id, run_number=1)\n",
    "character_agent.set_metadata(metadata)\n",
    "\n",
    "# Set the agent's goals\n",
    "goal_statement = Statement(callables=[source_node_at_00])  # Example goal: reach position (0, 0)\n",
    "goal = AgentGoal(statement=goal_statement, priority=1)\n",
    "character_agent.set_goals([goal])\n",
    "\n",
    "# Get the initial observation\n",
    "initial_observation = character_agent.get_current_observation()\n",
    "\n",
    "# Debug a single step\n",
    "print(\"Initial Observation:\")\n",
    "print(initial_observation)\n",
    "\n"
   ]
  },
  {
   "cell_type": "code",
   "execution_count": null,
   "metadata": {},
   "outputs": [],
   "source": [
    "print(\"\\nSystem Prompt:\")\n",
    "print(system_prompt(grid_map.get_actions(), agent.use_egocentric, agent.use_outlines))\n",
    "\n",
    "print(\"\\nAction Generation Prompt:\")\n",
    "print(action_generation_prompt(initial_observation, character_agent.goals, \"\", agent.use_egocentric, agent.use_outlines, agent.memory_length))\n",
    "\n"
   ]
  },
  {
   "cell_type": "code",
   "execution_count": null,
   "metadata": {},
   "outputs": [],
   "source": [
    "print(\"\\nGenerating action...\")\n",
    "action_payload = character_agent.generate_action(initial_observation)\n",
    "print(\"Generated Action:\")\n",
    "print(action_payload)\n",
    "\n",
    "print(\"\\nExecuting action...\")\n",
    "result, error = character_agent.execute_action(action_payload)\n",
    "if error:\n",
    "    print(\"Error:\", error)\n",
    "else:\n",
    "    print(\"Action Result:\")\n",
    "    print(\"State Before:\", result[\"state_before\"])\n",
    "    print(\"State After:\", result[\"state_after\"])"
   ]
  },
  {
   "cell_type": "code",
   "execution_count": null,
   "metadata": {},
   "outputs": [],
   "source": [
    "a"
   ]
  },
  {
   "cell_type": "code",
   "execution_count": null,
   "metadata": {},
   "outputs": [],
   "source": [
    "# Debug a single step\n",
    "print(\"Initial Observation:\")\n",
    "print(initial_observation)\n",
    "\n",
    "print(\"\\nSystem Prompt:\")\n",
    "print(agent.system_prompt(registered_actions=grid_map.get_actions()))\n",
    "\n",
    "print(\"\\nAction Generation Prompt:\")\n",
    "print(agent.action_generation_prompt(initial_observation, character_agent.goals, \"\"))\n"
   ]
  },
  {
   "cell_type": "code",
   "execution_count": null,
   "metadata": {},
   "outputs": [],
   "source": [
    "\n",
    "print(\"\\nGenerating action...\")\n",
    "action_payload = character_agent.generate_action(initial_observation)\n",
    "print(\"Generated Action:\")\n",
    "print(action_payload)\n",
    "\n",
    "print(\"\\nExecuting action...\")\n",
    "result, error = character_agent.execute_action(action_payload)\n",
    "if error:\n",
    "    print(\"Error:\", error)\n",
    "else:\n",
    "    print(\"Action Result:\")\n",
    "    print(\"State Before:\", result[\"state_before\"])\n",
    "    print(\"State After:\", result[\"state_after\"])"
   ]
  }
 ],
 "metadata": {
  "kernelspec": {
   "display_name": "Python 3",
   "language": "python",
   "name": "python3"
  },
  "language_info": {
   "codemirror_mode": {
    "name": "ipython",
    "version": 3
   },
   "file_extension": ".py",
   "mimetype": "text/x-python",
   "name": "python",
   "nbconvert_exporter": "python",
   "pygments_lexer": "ipython3",
   "version": "3.12.1"
  }
 },
 "nbformat": 4,
 "nbformat_minor": 2
}
