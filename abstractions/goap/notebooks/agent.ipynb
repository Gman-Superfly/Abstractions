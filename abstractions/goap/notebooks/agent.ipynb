{
 "cells": [
  {
   "cell_type": "code",
   "execution_count": 1,
   "metadata": {},
   "outputs": [
    {
     "name": "stdout",
     "output_type": "stream",
     "text": [
      "pygame-ce 2.4.1 (SDL 2.28.5, Python 3.12.1)\n"
     ]
    },
    {
     "name": "stderr",
     "output_type": "stream",
     "text": [
      "/Users/tommasofurlanello/.pyenv/versions/3.12.1/envs/abstractions/lib/python3.12/site-packages/tqdm/auto.py:21: TqdmWarning: IProgress not found. Please update jupyter and ipywidgets. See https://ipywidgets.readthedocs.io/en/stable/user_install.html\n",
      "  from .autonotebook import tqdm as notebook_tqdm\n",
      "llama_model_loader: loaded meta data with 26 key-value pairs and 995 tensors from /Users/tommasofurlanello/Documents/Dev/models/NousResearch/Nous-Hermes-2-Mixtral-8x7B-DPO-GGUF/Nous-Hermes-2-Mixtral-8x7B-DPO.Q8_0.gguf (version GGUF V3 (latest))\n",
      "llama_model_loader: Dumping metadata keys/values. Note: KV overrides do not apply in this output.\n",
      "llama_model_loader: - kv   0:                       general.architecture str              = llama\n",
      "llama_model_loader: - kv   1:                               general.name str              = emozilla\n",
      "llama_model_loader: - kv   2:                       llama.context_length u32              = 32768\n",
      "llama_model_loader: - kv   3:                     llama.embedding_length u32              = 4096\n",
      "llama_model_loader: - kv   4:                          llama.block_count u32              = 32\n",
      "llama_model_loader: - kv   5:                  llama.feed_forward_length u32              = 14336\n",
      "llama_model_loader: - kv   6:                 llama.rope.dimension_count u32              = 128\n",
      "llama_model_loader: - kv   7:                 llama.attention.head_count u32              = 32\n",
      "llama_model_loader: - kv   8:              llama.attention.head_count_kv u32              = 8\n",
      "llama_model_loader: - kv   9:     llama.attention.layer_norm_rms_epsilon f32              = 0.000010\n",
      "llama_model_loader: - kv  10:                         llama.expert_count u32              = 8\n",
      "llama_model_loader: - kv  11:                    llama.expert_used_count u32              = 2\n",
      "llama_model_loader: - kv  12:                       llama.rope.freq_base f32              = 1000000.000000\n",
      "llama_model_loader: - kv  13:                          general.file_type u32              = 7\n",
      "llama_model_loader: - kv  14:                       tokenizer.ggml.model str              = llama\n",
      "llama_model_loader: - kv  15:                      tokenizer.ggml.tokens arr[str,32002]   = [\"<unk>\", \"<s>\", \"</s>\", \"<0x00>\", \"<...\n",
      "llama_model_loader: - kv  16:                      tokenizer.ggml.scores arr[f32,32002]   = [0.000000, 0.000000, 0.000000, 0.0000...\n",
      "llama_model_loader: - kv  17:                  tokenizer.ggml.token_type arr[i32,32002]   = [2, 3, 3, 6, 6, 6, 6, 6, 6, 6, 6, 6, ...\n",
      "llama_model_loader: - kv  18:                tokenizer.ggml.bos_token_id u32              = 1\n",
      "llama_model_loader: - kv  19:                tokenizer.ggml.eos_token_id u32              = 32000\n",
      "llama_model_loader: - kv  20:            tokenizer.ggml.unknown_token_id u32              = 0\n",
      "llama_model_loader: - kv  21:            tokenizer.ggml.padding_token_id u32              = 2\n",
      "llama_model_loader: - kv  22:               tokenizer.ggml.add_bos_token bool             = true\n",
      "llama_model_loader: - kv  23:               tokenizer.ggml.add_eos_token bool             = false\n",
      "llama_model_loader: - kv  24:                    tokenizer.chat_template str              = {% for message in messages %}{{'<|im_...\n",
      "llama_model_loader: - kv  25:               general.quantization_version u32              = 2\n",
      "llama_model_loader: - type  f32:   65 tensors\n",
      "llama_model_loader: - type  f16:   32 tensors\n",
      "llama_model_loader: - type q8_0:  898 tensors\n",
      "llm_load_vocab: special tokens definition check successful ( 261/32002 ).\n",
      "llm_load_print_meta: format           = GGUF V3 (latest)\n",
      "llm_load_print_meta: arch             = llama\n",
      "llm_load_print_meta: vocab type       = SPM\n",
      "llm_load_print_meta: n_vocab          = 32002\n",
      "llm_load_print_meta: n_merges         = 0\n",
      "llm_load_print_meta: n_ctx_train      = 32768\n",
      "llm_load_print_meta: n_embd           = 4096\n",
      "llm_load_print_meta: n_head           = 32\n",
      "llm_load_print_meta: n_head_kv        = 8\n",
      "llm_load_print_meta: n_layer          = 32\n",
      "llm_load_print_meta: n_rot            = 128\n",
      "llm_load_print_meta: n_embd_head_k    = 128\n",
      "llm_load_print_meta: n_embd_head_v    = 128\n",
      "llm_load_print_meta: n_gqa            = 4\n",
      "llm_load_print_meta: n_embd_k_gqa     = 1024\n",
      "llm_load_print_meta: n_embd_v_gqa     = 1024\n",
      "llm_load_print_meta: f_norm_eps       = 0.0e+00\n",
      "llm_load_print_meta: f_norm_rms_eps   = 1.0e-05\n",
      "llm_load_print_meta: f_clamp_kqv      = 0.0e+00\n",
      "llm_load_print_meta: f_max_alibi_bias = 0.0e+00\n",
      "llm_load_print_meta: f_logit_scale    = 0.0e+00\n",
      "llm_load_print_meta: n_ff             = 14336\n",
      "llm_load_print_meta: n_expert         = 8\n",
      "llm_load_print_meta: n_expert_used    = 2\n",
      "llm_load_print_meta: causal attn      = 1\n",
      "llm_load_print_meta: pooling type     = 0\n",
      "llm_load_print_meta: rope type        = 0\n",
      "llm_load_print_meta: rope scaling     = linear\n",
      "llm_load_print_meta: freq_base_train  = 1000000.0\n",
      "llm_load_print_meta: freq_scale_train = 1\n",
      "llm_load_print_meta: n_yarn_orig_ctx  = 32768\n",
      "llm_load_print_meta: rope_finetuned   = unknown\n",
      "llm_load_print_meta: ssm_d_conv       = 0\n",
      "llm_load_print_meta: ssm_d_inner      = 0\n",
      "llm_load_print_meta: ssm_d_state      = 0\n",
      "llm_load_print_meta: ssm_dt_rank      = 0\n",
      "llm_load_print_meta: model type       = 7B\n",
      "llm_load_print_meta: model ftype      = Q8_0\n",
      "llm_load_print_meta: model params     = 46.70 B\n",
      "llm_load_print_meta: model size       = 46.22 GiB (8.50 BPW) \n",
      "llm_load_print_meta: general.name     = emozilla\n",
      "llm_load_print_meta: BOS token        = 1 '<s>'\n",
      "llm_load_print_meta: EOS token        = 32000 '<|im_end|>'\n",
      "llm_load_print_meta: UNK token        = 0 '<unk>'\n",
      "llm_load_print_meta: PAD token        = 2 '</s>'\n",
      "llm_load_print_meta: LF token         = 13 '<0x0A>'\n",
      "llm_load_tensors: ggml ctx size =    0.96 MiB\n",
      "ggml_backend_metal_buffer_type_alloc_buffer: allocated buffer, size = 47191.84 MiB, (47191.92 / 98304.00)\n",
      "llm_load_tensors: offloading 32 repeating layers to GPU\n",
      "llm_load_tensors: offloading non-repeating layers to GPU\n",
      "llm_load_tensors: offloaded 33/33 layers to GPU\n",
      "llm_load_tensors:        CPU buffer size =   132.82 MiB\n",
      "llm_load_tensors:      Metal buffer size = 47191.84 MiB\n"
     ]
    },
    {
     "name": "stdout",
     "output_type": "stream",
     "text": [
      "Updating block attributes... for door\n"
     ]
    },
    {
     "name": "stderr",
     "output_type": "stream",
     "text": [
      "....................................................................................................\n",
      "llama_new_context_with_model: n_ctx      = 30016\n",
      "llama_new_context_with_model: n_batch    = 512\n",
      "llama_new_context_with_model: n_ubatch   = 512\n",
      "llama_new_context_with_model: freq_base  = 1000000.0\n",
      "llama_new_context_with_model: freq_scale = 1\n",
      "ggml_metal_init: allocating\n",
      "ggml_metal_init: found device: Apple M3 Max\n",
      "ggml_metal_init: picking default device: Apple M3 Max\n",
      "ggml_metal_init: using embedded metal library\n",
      "ggml_metal_init: GPU name:   Apple M3 Max\n",
      "ggml_metal_init: GPU family: MTLGPUFamilyApple9  (1009)\n",
      "ggml_metal_init: GPU family: MTLGPUFamilyCommon3 (3003)\n",
      "ggml_metal_init: GPU family: MTLGPUFamilyMetal3  (5001)\n",
      "ggml_metal_init: simdgroup reduction support   = true\n",
      "ggml_metal_init: simdgroup matrix mul. support = true\n",
      "ggml_metal_init: hasUnifiedMemory              = true\n",
      "ggml_metal_init: recommendedMaxWorkingSetSize  = 103079.22 MB\n",
      "ggml_backend_metal_buffer_type_alloc_buffer: allocated buffer, size =  3752.00 MiB, (50949.80 / 98304.00)\n",
      "llama_kv_cache_init:      Metal KV buffer size =  3752.00 MiB\n",
      "llama_new_context_with_model: KV self size  = 3752.00 MiB, K (f16): 1876.00 MiB, V (f16): 1876.00 MiB\n",
      "llama_new_context_with_model:        CPU  output buffer size =     0.12 MiB\n",
      "ggml_backend_metal_buffer_type_alloc_buffer: allocated buffer, size =  1986.67 MiB, (52936.47 / 98304.00)\n",
      "llama_new_context_with_model:      Metal compute buffer size =  1986.66 MiB\n",
      "llama_new_context_with_model:        CPU compute buffer size =    66.63 MiB\n",
      "llama_new_context_with_model: graph nodes  = 1638\n",
      "llama_new_context_with_model: graph splits = 2\n",
      "AVX = 0 | AVX_VNNI = 0 | AVX2 = 0 | AVX512 = 0 | AVX512_VBMI = 0 | AVX512_VNNI = 0 | FMA = 0 | NEON = 1 | ARM_FMA = 1 | F16C = 0 | FP16_VA = 1 | WASM_SIMD = 0 | BLAS = 1 | SSE3 = 0 | SSSE3 = 0 | VSX = 0 | MATMUL_INT8 = 0 | \n",
      "Model metadata: {'general.quantization_version': '2', 'tokenizer.chat_template': \"{% for message in messages %}{{'<|im_start|>' + message['role'] + '\\n' + message['content'] + '<|im_end|>' + '\\n'}}{% endfor %}{% if add_generation_prompt %}{{ '<|im_start|>assistant\\n' }}{% endif %}\", 'tokenizer.ggml.add_eos_token': 'false', 'tokenizer.ggml.add_bos_token': 'true', 'tokenizer.ggml.padding_token_id': '2', 'tokenizer.ggml.unknown_token_id': '0', 'tokenizer.ggml.eos_token_id': '32000', 'tokenizer.ggml.bos_token_id': '1', 'tokenizer.ggml.model': 'llama', 'llama.expert_used_count': '2', 'llama.attention.head_count_kv': '8', 'llama.context_length': '32768', 'llama.attention.head_count': '32', 'llama.rope.freq_base': '1000000.000000', 'llama.rope.dimension_count': '128', 'general.file_type': '7', 'llama.feed_forward_length': '14336', 'llama.embedding_length': '4096', 'llama.expert_count': '8', 'llama.block_count': '32', 'general.architecture': 'llama', 'llama.attention.layer_norm_rms_epsilon': '0.000010', 'general.name': 'emozilla'}\n",
      "Guessed chat format: chatml\n"
     ]
    }
   ],
   "source": [
    "from typing import List, Optional, Union, Tuple\n",
    "from abstractions.goap.actions import Prerequisites, Goal\n",
    "from abstractions.goap.entity import Statement, Attribute\n",
    "from abstractions.goap.nodes import GameEntity, Node, Position\n",
    "from abstractions.goap.language_state import GoalState\n",
    "from abstractions.goap.gridmap import GridMap\n",
    "from abstractions.goap.interactions import Character, Door, Key, Treasure, Floor, Wall, InanimateEntity, IsPickupable, TestItem, Open, Close, Unlock, Lock, Pickup, Drop, Move\n",
    "from abstractions.goap.game.main import generate_dungeon\n",
    "from abstractions.goap.shapes import Rectangle, Shadow, Radius, RayCast, BlockedRaycast\n",
    "from abstractions.goap.agents import Agent\n",
    "\n",
    "def source_target_position_comparison(source: tuple[int,int], target: tuple[int,int]) -> bool:\n",
    "    \"\"\"Check if the source entity's position is the same as the target entity's position.\"\"\"\n",
    "    if source and target:\n",
    "        return source == target\n",
    "    return False\n",
    "\n",
    "def treasure_in_neighborhood(source: GameEntity, target: Optional[GameEntity] = None) -> bool:\n",
    "    \"\"\"Check if the treasure is in the character's neighborhood.\"\"\"\n",
    "    if source.node and target and target.node:\n",
    "        return source.node in target.node.neighbors()\n",
    "    return False\n",
    "\n",
    "def key_in_inventory(source: GameEntity, target: Optional[GameEntity] = None) -> bool:\n",
    "    \"\"\"Check if the key is in the character's inventory.\"\"\"\n",
    "    if target:\n",
    "        return target in source.inventory\n",
    "    return False\n",
    "\n",
    "def is_treasure(source: GameEntity, target: Optional[GameEntity] = None) -> bool:\n",
    "    \"\"\"Check if the target entity is a Treasure.\"\"\"\n",
    "    return isinstance(target, Treasure)\n",
    "\n",
    "def is_golden_key(source: GameEntity, target: Optional[GameEntity] = None) -> bool:\n",
    "    \"\"\"Check if the entity is a Golden Key.\"\"\"\n",
    "    return isinstance(target, Key) and target.key_name.value == \"Golden Key\"\n",
    "\n",
    "def is_door(entity: GameEntity, target: Optional[GameEntity] = None) -> bool:\n",
    "    \"\"\"Check if the entity is a Door.\"\"\"\n",
    "    return isinstance(entity, Door)\n",
    "\n",
    "# Example usage\n",
    "grid_map = GridMap(width=10, height=10)\n",
    "grid_map.register_actions([Move, Pickup,  Open, Close, Unlock, Lock])\n",
    "room_width, room_height = 6, 6\n",
    "character, door, key, treasure = generate_dungeon(grid_map, room_width, room_height)\n",
    "grid_map.generate_entity_type_map()\n",
    "\n",
    "# Goal 1: Check if the character's position is the same as the treasure's position\n",
    "reach_treasure_goal = Goal(\n",
    "    name=\"Reach the treasure\",\n",
    "    source_entity_id=character.id,\n",
    "    target_entity_id=treasure.id,\n",
    "    prerequisites=Prerequisites(\n",
    "        source_statements=[Statement(conditions={\"can_act\": True})],\n",
    "        target_statements=[Statement(callables=[is_treasure])],\n",
    "        source_target_statements=[\n",
    "            Statement(comparisons={\n",
    "                \"source_position\": (\"position\", \"position\", source_target_position_comparison)\n",
    "            })\n",
    "        ]\n",
    "    )\n",
    ")\n",
    "\n",
    "# Goal 2: Check if the treasure is in the character's neighborhood\n",
    "treasure_in_neighborhood_goal = Goal(\n",
    "    name=\"Treasure in neighborhood\",\n",
    "    source_entity_id=character.id,\n",
    "    target_entity_id=treasure.id,\n",
    "    prerequisites=Prerequisites(\n",
    "        source_statements=[Statement(conditions={\"can_act\": True})],\n",
    "        target_statements=[Statement(callables=[is_treasure])],\n",
    "        source_target_statements=[\n",
    "            Statement(callables=[treasure_in_neighborhood])\n",
    "        ]\n",
    "    )\n",
    ")\n",
    "\n",
    "# Goal 3: Check if the key is in the character's inventory\n",
    "key_in_inventory_goal = Goal(\n",
    "    name=\"Key in inventory\",\n",
    "    source_entity_id=character.id,\n",
    "    target_entity_id=key.id,\n",
    "    prerequisites=Prerequisites(\n",
    "        source_statements=[Statement(conditions={\"can_act\": True})],\n",
    "        target_statements=[Statement(callables=[is_golden_key])],\n",
    "        source_target_statements=[\n",
    "            Statement(callables=[key_in_inventory])\n",
    "        ]\n",
    "    )\n",
    ")\n",
    "\n",
    "# Goal 4: Check if the door is unlocked\n",
    "door_unlocked_goal = Goal(\n",
    "    name=\"Door unlocked\",\n",
    "    source_entity_id=door.id,\n",
    "    prerequisites=Prerequisites(\n",
    "        source_statements=[\n",
    "            Statement(callables=[is_door]),\n",
    "            Statement(conditions={\"is_locked\": False})\n",
    "        ],\n",
    "        target_statements=[],\n",
    "        source_target_statements=[]\n",
    "    )\n",
    ")\n",
    "\n",
    "# goals = [reach_treasure_goal, treasure_in_neighborhood_goal, key_in_inventory_goal, door_unlocked_goal]\n",
    "goals = [key_in_inventory_goal]\n",
    "# model_path = \"/Users/tommasofurlanello/Documents/Dev/models/TheBloke/dolphin-2.5-mixtral-8x7b-GGUF/dolphin-2.5-mixtral-8x7b.Q8_0.gguf\"\n",
    "model_path = \"/Users/tommasofurlanello/Documents/Dev/models/NousResearch/Nous-Hermes-2-Mixtral-8x7B-DPO-GGUF/Nous-Hermes-2-Mixtral-8x7B-DPO.Q8_0.gguf\"\n",
    "# model_path = \"/Users/tommasofurlanello/Documents/Dev/models/NousResearch/Hermes-2-Pro-Mistral-7B-GGUF/Hermes-2-Pro-Mistral-7B.Q8_0.gguf\"\n",
    "# model_path = None\n",
    "agent = Agent(\n",
    "    goals=goals,\n",
    "    character_id=character.id,\n",
    "    actions=grid_map.get_actions(),\n",
    "    entity_type_map=grid_map.entity_type_map,\n",
    "    llm = model_path\n",
    "\n",
    ")\n",
    "mdp = True\n",
    "if mdp:\n",
    "    shape = grid_map.get_rectangle()\n",
    "else:\n",
    "    character_node = GameEntity.get_instance(character.id).node\n",
    "    shape = grid_map.get_shadow(source=character_node, max_radius=5)\n",
    "\n"
   ]
  },
  {
   "cell_type": "code",
   "execution_count": 2,
   "metadata": {},
   "outputs": [
    {
     "data": {
      "text/plain": [
       "['East Move Floor',\n",
       " 'North Move Floor',\n",
       " 'NorthEast Move Floor',\n",
       " 'NorthWest Move Floor',\n",
       " 'West Move Floor']"
      ]
     },
     "execution_count": 2,
     "metadata": {},
     "output_type": "execute_result"
    }
   ],
   "source": [
    "agent.derive_allowed_strings(grid_map)"
   ]
  },
  {
   "cell_type": "code",
   "execution_count": 3,
   "metadata": {},
   "outputs": [
    {
     "data": {
      "text/plain": [
       "{}"
      ]
     },
     "execution_count": 3,
     "metadata": {},
     "output_type": "execute_result"
    }
   ],
   "source": [
    "agent.allowed_strings_count"
   ]
  },
  {
   "cell_type": "code",
   "execution_count": 4,
   "metadata": {},
   "outputs": [
    {
     "name": "stdout",
     "output_type": "stream",
     "text": [
      "\n",
      "--- Step 0 ---\n",
      "Generating generator for ['East Move Floor', 'North Move Floor', 'NorthEast Move Floor', 'NorthWest Move Floor', 'West Move Floor']\n"
     ]
    },
    {
     "name": "stderr",
     "output_type": "stream",
     "text": [
      "\n",
      "llama_print_timings:        load time =    4181.68 ms\n",
      "llama_print_timings:      sample time =       1.70 ms /     7 runs   (    0.24 ms per token,  4127.36 tokens per second)\n",
      "llama_print_timings: prompt eval time =   14824.67 ms /  2659 tokens (    5.58 ms per token,   179.36 tokens per second)\n",
      "llama_print_timings:        eval time =     311.28 ms /     6 runs   (   51.88 ms per token,    19.28 tokens per second)\n",
      "llama_print_timings:       total time =   15177.85 ms /  2665 tokens\n"
     ]
    },
    {
     "name": "stdout",
     "output_type": "stream",
     "text": [
      "\n",
      "Action State:\n",
      "\n",
      "\n",
      "Generated Action:\n",
      "NorthEast Move Floor\n",
      "Attemping to find entity of type <class 'abstractions.goap.interactions.Floor'> in node name='' id='f01ee57a-7daf-45a2-b283-fddf302f67bc' position=Position(name='Position', id='26668d99-d669-49f0-b1ea-9bc88e6021f9', value=(6, 0)) entities=[Floor(id=8120d091-fecb-4353-92d3-05902261ebb2, name=Floor_6_0, position=(6, 0))] gridmap_id='6e57a90d-d425-4961-83dc-10c87b010391' blocks_movement=BlocksMovement(name='BlocksMovement', id='3ca8642d-9ab2-45e5-8dce-20c16c227cad', value=False) blocks_light=BlocksLight(name='BlocksLight', id='eaef7607-9215-43a7-bd78-d6c18c15aee1', value=False) hash_resolution='default' starting from action string NorthEast Move Floor\n",
      "\n",
      "Action Payload:\n",
      "actions=[ActionInstance(source_id='fff06a2b-84b6-4191-8c23-e3f177b07888', target_id='8120d091-fecb-4353-92d3-05902261ebb2', action=Move(name='Move Step', prerequisites=Prerequisites(source_statements=[Statement(name='Statement', id='cae8d5c9-9dde-41b0-8307-4376a2a7401f', conditions={'can_act': True}, comparisons={}, callables=[])], target_statements=[Statement(name='Statement', id='5fcdf6e8-01df-4442-911e-10ced3035a8c', conditions={'blocks_movement': False}, comparisons={}, callables=[])], source_target_statements=[Statement(name='Statement', id='897abc98-530e-4373-9c87-d77ac50c7786', conditions={}, comparisons={'source_position': ('node', 'node', <function source_node_comparison_and_walkable at 0x105d63740>)}, callables=[])]), consequences=Consequences(source_transformations={'node': <function move_to_target_node at 0x105d636a0>}, target_transformations={})))] results=None\n",
      "Applying 1 actions\n",
      "Attempting to apply action: Move Step\n",
      "Action applied successfully: Move Step\n",
      "\n",
      "Action Results:\n",
      "results=[ActionResult(action_instance=ActionInstance(source_id='fff06a2b-84b6-4191-8c23-e3f177b07888', target_id='8120d091-fecb-4353-92d3-05902261ebb2', action=Move(name='Move Step', prerequisites=Prerequisites(source_statements=[Statement(name='Statement', id='cae8d5c9-9dde-41b0-8307-4376a2a7401f', conditions={'can_act': True}, comparisons={}, callables=[])], target_statements=[Statement(name='Statement', id='5fcdf6e8-01df-4442-911e-10ced3035a8c', conditions={'blocks_movement': False}, comparisons={}, callables=[])], source_target_statements=[Statement(name='Statement', id='897abc98-530e-4373-9c87-d77ac50c7786', conditions={}, comparisons={'source_position': ('node', 'node', <function source_node_comparison_and_walkable at 0x105d63740>)}, callables=[])]), consequences=Consequences(source_transformations={'node': <function move_to_target_node at 0x105d636a0>}, target_transformations={}))), success=True, error=None, failed_prerequisites=[], state_before={'source': {'blocks_movement': False, 'blocks_light': False, 'health': 100, 'max_health': 100, 'attack_power': 10, 'can_act': True, 'position': (5, 1), 'inventory': []}, 'target': {'blocks_movement': False, 'blocks_light': False, 'material': '', 'position': (6, 0), 'inventory': []}}, state_after={'source': {'blocks_movement': False, 'blocks_light': False, 'health': 100, 'max_health': 100, 'attack_power': 10, 'can_act': True, 'position': (6, 0), 'inventory': []}, 'target': {'blocks_movement': False, 'blocks_light': False, 'material': '', 'position': (6, 0), 'inventory': []}})]\n",
      "\n",
      "--- Step 1 ---\n",
      "Generating generator for ['East Move Floor', 'South Move Floor', 'SouthEast Move Floor', 'SouthWest Move Floor', 'West Move Floor']\n"
     ]
    },
    {
     "name": "stderr",
     "output_type": "stream",
     "text": [
      "\n",
      "llama_print_timings:        load time =    4181.68 ms\n",
      "llama_print_timings:      sample time =       0.41 ms /     5 runs   (    0.08 ms per token, 12195.12 tokens per second)\n",
      "llama_print_timings: prompt eval time =   14635.81 ms /  2756 tokens (    5.31 ms per token,   188.31 tokens per second)\n",
      "llama_print_timings:        eval time =     205.20 ms /     4 runs   (   51.30 ms per token,    19.49 tokens per second)\n",
      "llama_print_timings:       total time =   14853.98 ms /  2760 tokens\n"
     ]
    },
    {
     "name": "stdout",
     "output_type": "stream",
     "text": [
      "\n",
      "Action State:\n",
      "# Action Result Analysis\n",
      "## Action: Move\n",
      "### Result: Success\n",
      "### Before:\n",
      "- Source: Character 'Player' (5, 1) [blocks_movement: False, blocks_light: False, health: 100, max_health: 100, attack_power: 10, can_act: True, inventory: []]\n",
      "- Target: Floor 'Floor_6_0' (6, 0) [blocks_movement: False, blocks_light: False, material: , inventory: []]\n",
      "### Changes:\n",
      "- Source: Character 'Player' [position: (5, 1) -> (6, 0)]\n",
      "### Natural Language Summary:\n",
      "The position: (5, 1) of Character 'Player' changed to (6, 0) as a result of Move.\n",
      "\n",
      "\n",
      "Generated Action:\n",
      "East Move Floor\n",
      "Attemping to find entity of type <class 'abstractions.goap.interactions.Floor'> in node name='' id='6a32e79d-ea15-4e39-ad3d-4e1aefe70a4c' position=Position(name='Position', id='4217ad45-7120-4104-a3af-f0c9f2965f9b', value=(7, 0)) entities=[Floor(id=382fd8e1-d33c-443a-9fcb-196e564b0421, name=Floor_7_0, position=(7, 0))] gridmap_id='6e57a90d-d425-4961-83dc-10c87b010391' blocks_movement=BlocksMovement(name='BlocksMovement', id='577d9d50-d8cc-48f8-ac01-15f04415b7d2', value=False) blocks_light=BlocksLight(name='BlocksLight', id='b87d2bbc-a96d-4397-927c-06787bd5e355', value=False) hash_resolution='default' starting from action string East Move Floor\n",
      "\n",
      "Action Payload:\n",
      "actions=[ActionInstance(source_id='fff06a2b-84b6-4191-8c23-e3f177b07888', target_id='382fd8e1-d33c-443a-9fcb-196e564b0421', action=Move(name='Move Step', prerequisites=Prerequisites(source_statements=[Statement(name='Statement', id='cae8d5c9-9dde-41b0-8307-4376a2a7401f', conditions={'can_act': True}, comparisons={}, callables=[])], target_statements=[Statement(name='Statement', id='5fcdf6e8-01df-4442-911e-10ced3035a8c', conditions={'blocks_movement': False}, comparisons={}, callables=[])], source_target_statements=[Statement(name='Statement', id='897abc98-530e-4373-9c87-d77ac50c7786', conditions={}, comparisons={'source_position': ('node', 'node', <function source_node_comparison_and_walkable at 0x105d63740>)}, callables=[])]), consequences=Consequences(source_transformations={'node': <function move_to_target_node at 0x105d636a0>}, target_transformations={})))] results=None\n",
      "Applying 1 actions\n",
      "Attempting to apply action: Move Step\n",
      "Action applied successfully: Move Step\n",
      "\n",
      "Action Results:\n",
      "results=[ActionResult(action_instance=ActionInstance(source_id='fff06a2b-84b6-4191-8c23-e3f177b07888', target_id='382fd8e1-d33c-443a-9fcb-196e564b0421', action=Move(name='Move Step', prerequisites=Prerequisites(source_statements=[Statement(name='Statement', id='cae8d5c9-9dde-41b0-8307-4376a2a7401f', conditions={'can_act': True}, comparisons={}, callables=[])], target_statements=[Statement(name='Statement', id='5fcdf6e8-01df-4442-911e-10ced3035a8c', conditions={'blocks_movement': False}, comparisons={}, callables=[])], source_target_statements=[Statement(name='Statement', id='897abc98-530e-4373-9c87-d77ac50c7786', conditions={}, comparisons={'source_position': ('node', 'node', <function source_node_comparison_and_walkable at 0x105d63740>)}, callables=[])]), consequences=Consequences(source_transformations={'node': <function move_to_target_node at 0x105d636a0>}, target_transformations={}))), success=True, error=None, failed_prerequisites=[], state_before={'source': {'blocks_movement': False, 'blocks_light': False, 'health': 100, 'max_health': 100, 'attack_power': 10, 'can_act': True, 'position': (6, 0), 'inventory': []}, 'target': {'blocks_movement': False, 'blocks_light': False, 'material': '', 'position': (7, 0), 'inventory': []}}, state_after={'source': {'blocks_movement': False, 'blocks_light': False, 'health': 100, 'max_health': 100, 'attack_power': 10, 'can_act': True, 'position': (7, 0), 'inventory': []}, 'target': {'blocks_movement': False, 'blocks_light': False, 'material': '', 'position': (7, 0), 'inventory': []}})]\n",
      "\n",
      "--- Step 2 ---\n"
     ]
    },
    {
     "name": "stderr",
     "output_type": "stream",
     "text": [
      "\n",
      "llama_print_timings:        load time =    4181.68 ms\n",
      "llama_print_timings:      sample time =       1.69 ms /     6 runs   (    0.28 ms per token,  3546.10 tokens per second)\n",
      "llama_print_timings: prompt eval time =   15318.57 ms /  2772 tokens (    5.53 ms per token,   180.96 tokens per second)\n",
      "llama_print_timings:        eval time =     263.29 ms /     5 runs   (   52.66 ms per token,    18.99 tokens per second)\n",
      "llama_print_timings:       total time =   15629.95 ms /  2777 tokens\n"
     ]
    },
    {
     "name": "stdout",
     "output_type": "stream",
     "text": [
      "\n",
      "Action State:\n",
      "# Action Result Analysis\n",
      "## Action: Move\n",
      "### Result: Success\n",
      "### Before:\n",
      "- Source: Character 'Player' (6, 0) [blocks_movement: False, blocks_light: False, health: 100, max_health: 100, attack_power: 10, can_act: True, inventory: []]\n",
      "- Target: Floor 'Floor_7_0' (7, 0) [blocks_movement: False, blocks_light: False, material: , inventory: []]\n",
      "### Changes:\n",
      "- Source: Character 'Player' [position: (6, 0) -> (7, 0)]\n",
      "### Natural Language Summary:\n",
      "The position: (6, 0) of Character 'Player' changed to (7, 0) as a result of Move.\n",
      "\n",
      "\n",
      "Generated Action:\n",
      "SouthEast Move Floor\n",
      "Attemping to find entity of type <class 'abstractions.goap.interactions.Floor'> in node name='' id='15502ed1-4311-4331-9185-8bd6ee1d4058' position=Position(name='Position', id='242daf8e-733c-4838-99af-cfe74c65a327', value=(8, 1)) entities=[Floor(id=5bca90f3-2a84-4618-b458-18b2c5ae9d4a, name=Floor_8_1, position=(8, 1))] gridmap_id='6e57a90d-d425-4961-83dc-10c87b010391' blocks_movement=BlocksMovement(name='BlocksMovement', id='75537f0d-e3ba-48f3-9348-b34aac34f52a', value=False) blocks_light=BlocksLight(name='BlocksLight', id='b98332e6-136c-4a89-8b34-3836fc91f73c', value=False) hash_resolution='default' starting from action string SouthEast Move Floor\n",
      "\n",
      "Action Payload:\n",
      "actions=[ActionInstance(source_id='fff06a2b-84b6-4191-8c23-e3f177b07888', target_id='5bca90f3-2a84-4618-b458-18b2c5ae9d4a', action=Move(name='Move Step', prerequisites=Prerequisites(source_statements=[Statement(name='Statement', id='cae8d5c9-9dde-41b0-8307-4376a2a7401f', conditions={'can_act': True}, comparisons={}, callables=[])], target_statements=[Statement(name='Statement', id='5fcdf6e8-01df-4442-911e-10ced3035a8c', conditions={'blocks_movement': False}, comparisons={}, callables=[])], source_target_statements=[Statement(name='Statement', id='897abc98-530e-4373-9c87-d77ac50c7786', conditions={}, comparisons={'source_position': ('node', 'node', <function source_node_comparison_and_walkable at 0x105d63740>)}, callables=[])]), consequences=Consequences(source_transformations={'node': <function move_to_target_node at 0x105d636a0>}, target_transformations={})))] results=None\n",
      "Applying 1 actions\n",
      "Attempting to apply action: Move Step\n",
      "Action applied successfully: Move Step\n",
      "\n",
      "Action Results:\n",
      "results=[ActionResult(action_instance=ActionInstance(source_id='fff06a2b-84b6-4191-8c23-e3f177b07888', target_id='5bca90f3-2a84-4618-b458-18b2c5ae9d4a', action=Move(name='Move Step', prerequisites=Prerequisites(source_statements=[Statement(name='Statement', id='cae8d5c9-9dde-41b0-8307-4376a2a7401f', conditions={'can_act': True}, comparisons={}, callables=[])], target_statements=[Statement(name='Statement', id='5fcdf6e8-01df-4442-911e-10ced3035a8c', conditions={'blocks_movement': False}, comparisons={}, callables=[])], source_target_statements=[Statement(name='Statement', id='897abc98-530e-4373-9c87-d77ac50c7786', conditions={}, comparisons={'source_position': ('node', 'node', <function source_node_comparison_and_walkable at 0x105d63740>)}, callables=[])]), consequences=Consequences(source_transformations={'node': <function move_to_target_node at 0x105d636a0>}, target_transformations={}))), success=True, error=None, failed_prerequisites=[], state_before={'source': {'blocks_movement': False, 'blocks_light': False, 'health': 100, 'max_health': 100, 'attack_power': 10, 'can_act': True, 'position': (7, 0), 'inventory': []}, 'target': {'blocks_movement': False, 'blocks_light': False, 'material': '', 'position': (8, 1), 'inventory': []}}, state_after={'source': {'blocks_movement': False, 'blocks_light': False, 'health': 100, 'max_health': 100, 'attack_power': 10, 'can_act': True, 'position': (8, 1), 'inventory': []}, 'target': {'blocks_movement': False, 'blocks_light': False, 'material': '', 'position': (8, 1), 'inventory': []}})]\n",
      "\n",
      "--- Step 3 ---\n",
      "Generating generator for ['East Move Floor', 'North Move Floor', 'NorthEast Move Floor', 'NorthWest Move Floor', 'South Move Floor', 'SouthEast Move Floor', 'West Move Floor']\n"
     ]
    },
    {
     "name": "stderr",
     "output_type": "stream",
     "text": [
      "\n",
      "llama_print_timings:        load time =    4181.68 ms\n",
      "llama_print_timings:      sample time =       0.45 ms /     6 runs   (    0.07 ms per token, 13392.86 tokens per second)\n",
      "llama_print_timings: prompt eval time =   16282.46 ms /  2821 tokens (    5.77 ms per token,   173.25 tokens per second)\n",
      "llama_print_timings:        eval time =     260.96 ms /     5 runs   (   52.19 ms per token,    19.16 tokens per second)\n",
      "llama_print_timings:       total time =   16558.05 ms /  2826 tokens\n"
     ]
    },
    {
     "name": "stdout",
     "output_type": "stream",
     "text": [
      "\n",
      "Action State:\n",
      "# Action Result Analysis\n",
      "## Action: Move\n",
      "### Result: Success\n",
      "### Before:\n",
      "- Source: Character 'Player' (7, 0) [blocks_movement: False, blocks_light: False, health: 100, max_health: 100, attack_power: 10, can_act: True, inventory: []]\n",
      "- Target: Floor 'Floor_8_1' (8, 1) [blocks_movement: False, blocks_light: False, material: , inventory: []]\n",
      "### Changes:\n",
      "- Source: Character 'Player' [position: (7, 0) -> (8, 1)]\n",
      "### Natural Language Summary:\n",
      "The position: (7, 0) of Character 'Player' changed to (8, 1) as a result of Move.\n",
      "\n",
      "\n",
      "Generated Action:\n",
      "NorthWest Move Floor\n",
      "Attemping to find entity of type <class 'abstractions.goap.interactions.Floor'> in node name='' id='6a32e79d-ea15-4e39-ad3d-4e1aefe70a4c' position=Position(name='Position', id='4217ad45-7120-4104-a3af-f0c9f2965f9b', value=(7, 0)) entities=[Floor(id=382fd8e1-d33c-443a-9fcb-196e564b0421, name=Floor_7_0, position=(7, 0))] gridmap_id='6e57a90d-d425-4961-83dc-10c87b010391' blocks_movement=BlocksMovement(name='BlocksMovement', id='577d9d50-d8cc-48f8-ac01-15f04415b7d2', value=False) blocks_light=BlocksLight(name='BlocksLight', id='b87d2bbc-a96d-4397-927c-06787bd5e355', value=False) hash_resolution='default' starting from action string NorthWest Move Floor\n",
      "\n",
      "Action Payload:\n",
      "actions=[ActionInstance(source_id='fff06a2b-84b6-4191-8c23-e3f177b07888', target_id='382fd8e1-d33c-443a-9fcb-196e564b0421', action=Move(name='Move Step', prerequisites=Prerequisites(source_statements=[Statement(name='Statement', id='cae8d5c9-9dde-41b0-8307-4376a2a7401f', conditions={'can_act': True}, comparisons={}, callables=[])], target_statements=[Statement(name='Statement', id='5fcdf6e8-01df-4442-911e-10ced3035a8c', conditions={'blocks_movement': False}, comparisons={}, callables=[])], source_target_statements=[Statement(name='Statement', id='897abc98-530e-4373-9c87-d77ac50c7786', conditions={}, comparisons={'source_position': ('node', 'node', <function source_node_comparison_and_walkable at 0x105d63740>)}, callables=[])]), consequences=Consequences(source_transformations={'node': <function move_to_target_node at 0x105d636a0>}, target_transformations={})))] results=None\n",
      "Applying 1 actions\n",
      "Attempting to apply action: Move Step\n",
      "Action applied successfully: Move Step\n",
      "\n",
      "Action Results:\n",
      "results=[ActionResult(action_instance=ActionInstance(source_id='fff06a2b-84b6-4191-8c23-e3f177b07888', target_id='382fd8e1-d33c-443a-9fcb-196e564b0421', action=Move(name='Move Step', prerequisites=Prerequisites(source_statements=[Statement(name='Statement', id='cae8d5c9-9dde-41b0-8307-4376a2a7401f', conditions={'can_act': True}, comparisons={}, callables=[])], target_statements=[Statement(name='Statement', id='5fcdf6e8-01df-4442-911e-10ced3035a8c', conditions={'blocks_movement': False}, comparisons={}, callables=[])], source_target_statements=[Statement(name='Statement', id='897abc98-530e-4373-9c87-d77ac50c7786', conditions={}, comparisons={'source_position': ('node', 'node', <function source_node_comparison_and_walkable at 0x105d63740>)}, callables=[])]), consequences=Consequences(source_transformations={'node': <function move_to_target_node at 0x105d636a0>}, target_transformations={}))), success=True, error=None, failed_prerequisites=[], state_before={'source': {'blocks_movement': False, 'blocks_light': False, 'health': 100, 'max_health': 100, 'attack_power': 10, 'can_act': True, 'position': (8, 1), 'inventory': []}, 'target': {'blocks_movement': False, 'blocks_light': False, 'material': '', 'position': (7, 0), 'inventory': []}}, state_after={'source': {'blocks_movement': False, 'blocks_light': False, 'health': 100, 'max_health': 100, 'attack_power': 10, 'can_act': True, 'position': (7, 0), 'inventory': []}, 'target': {'blocks_movement': False, 'blocks_light': False, 'material': '', 'position': (7, 0), 'inventory': []}})]\n",
      "\n",
      "--- Step 4 ---\n"
     ]
    }
   ],
   "source": [
    "agent.run(grid_map, max_steps=10000, mdp=True)"
   ]
  },
  {
   "cell_type": "code",
   "execution_count": null,
   "metadata": {},
   "outputs": [],
   "source": [
    "# obs_text, act_text, goal_text = agent.generate_text(shape)"
   ]
  },
  {
   "cell_type": "code",
   "execution_count": null,
   "metadata": {},
   "outputs": [],
   "source": [
    "# agent.generate_action(obs_text, act_text, goal_text)"
   ]
  },
  {
   "cell_type": "code",
   "execution_count": null,
   "metadata": {},
   "outputs": [],
   "source": [
    "# agent = Agent(\n",
    "#     goals=goals,\n",
    "#     character_id=character.id,\n",
    "#     actions=grid_map.get_actions(),\n",
    "#     entity_type_map=grid_map.entity_type_map\n",
    "# )\n",
    "\n",
    "# # Run the agent\n",
    "# agent.run(grid_map, max_steps=10000, mdp=True)"
   ]
  },
  {
   "cell_type": "code",
   "execution_count": null,
   "metadata": {},
   "outputs": [],
   "source": [
    "# gang = Character.get_instance(character.id)\n"
   ]
  },
  {
   "cell_type": "code",
   "execution_count": null,
   "metadata": {},
   "outputs": [],
   "source": []
  }
 ],
 "metadata": {
  "kernelspec": {
   "display_name": "Python 3",
   "language": "python",
   "name": "python3"
  },
  "language_info": {
   "codemirror_mode": {
    "name": "ipython",
    "version": 3
   },
   "file_extension": ".py",
   "mimetype": "text/x-python",
   "name": "python",
   "nbconvert_exporter": "python",
   "pygments_lexer": "ipython3",
   "version": "3.10.6"
  }
 },
 "nbformat": 4,
 "nbformat_minor": 2
}
