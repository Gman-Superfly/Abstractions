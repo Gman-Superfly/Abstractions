{
 "cells": [
  {
   "cell_type": "code",
   "execution_count": 1,
   "metadata": {},
   "outputs": [
    {
     "name": "stdout",
     "output_type": "stream",
     "text": [
      "Grid Map:\n",
      ". . . . . . . . . . \n",
      ". . . . . . . . . . \n",
      ". . E . . . . . . . \n",
      ". . . . . . . . . . \n",
      ". . . . # . . . . . \n",
      ". . . . . . . . . . \n",
      ". . . . . . # . . . \n",
      ". . . . . . . . . . \n",
      ". . . . . . . . E . \n",
      ". . . . . . . . . . \n",
      "\n",
      "Movement Array:\n",
      "[True, True, True, True, True, True, True, True, True, True]\n",
      "[True, True, True, True, True, True, True, True, True, True]\n",
      "[True, True, True, True, True, True, True, True, True, True]\n",
      "[True, True, True, True, True, True, True, True, True, True]\n",
      "[True, True, True, True, False, True, True, True, True, True]\n",
      "[True, True, True, True, True, True, True, True, True, True]\n",
      "[True, True, True, True, True, True, False, True, True, True]\n",
      "[True, True, True, True, True, True, True, True, True, True]\n",
      "[True, True, True, True, True, True, True, True, True, True]\n",
      "[True, True, True, True, True, True, True, True, True, True]\n",
      "\n",
      "Vision Array:\n",
      "[True, True, True, True, True, True, True, True, True, True]\n",
      "[True, True, True, True, True, True, True, True, True, True]\n",
      "[True, True, True, True, True, True, True, True, True, True]\n",
      "[True, True, True, True, True, True, True, True, True, True]\n",
      "[True, True, True, True, False, True, True, True, True, True]\n",
      "[True, True, True, True, True, True, True, True, True, True]\n",
      "[True, True, True, True, True, True, True, True, True, True]\n",
      "[True, True, True, True, True, True, True, True, True, True]\n",
      "[True, True, True, True, True, True, True, True, False, True]\n",
      "[True, True, True, True, True, True, True, True, True, True]\n",
      "\n",
      "Nodes in radius 2 from position (2, 2):\n",
      "Node at position (0, 0)\n",
      "Node at position (0, 1)\n",
      "Node at position (0, 2)\n",
      "Node at position (0, 3)\n",
      "Node at position (0, 4)\n",
      "Node at position (1, 0)\n",
      "Node at position (1, 1)\n",
      "Node at position (1, 2)\n",
      "Node at position (1, 3)\n",
      "Node at position (1, 4)\n",
      "Node at position (2, 0)\n",
      "Node at position (2, 1)\n",
      "Node at position (2, 2)\n",
      "Node at position (2, 3)\n",
      "Node at position (2, 4)\n",
      "Node at position (3, 0)\n",
      "Node at position (3, 1)\n",
      "Node at position (3, 2)\n",
      "Node at position (3, 3)\n",
      "Node at position (3, 4)\n",
      "Node at position (4, 0)\n",
      "Node at position (4, 1)\n",
      "Node at position (4, 2)\n",
      "Node at position (4, 3)\n",
      "Node at position (4, 4)\n"
     ]
    }
   ],
   "source": [
    "from abstractions.goap.spatial import GridMap, GameEntity, BlocksMovement, BlocksLight\n",
    "\n",
    "# Create a grid map\n",
    "grid_map = GridMap(width=10, height=10)\n",
    "\n",
    "# Create some game entities\n",
    "player = GameEntity(name=\"Player\")\n",
    "wall1 = GameEntity(name=\"Wall1\", blocks_movement=BlocksMovement(value=True), blocks_light=BlocksLight(value=True))\n",
    "wall2 = GameEntity(name=\"Wall2\", blocks_movement=BlocksMovement(value=True))\n",
    "light_source = GameEntity(name=\"LightSource\", blocks_light=BlocksLight(value=True))\n",
    "\n",
    "# Place entities on the grid map\n",
    "grid_map.get_node((2, 2)).add_entity(player)\n",
    "grid_map.get_node((4, 4)).add_entity(wall1)\n",
    "grid_map.get_node((6, 6)).add_entity(wall2)\n",
    "grid_map.get_node((8, 8)).add_entity(light_source)\n",
    "\n",
    "# Print the grid map\n",
    "print(\"Grid Map:\")\n",
    "grid_map.print_grid()\n",
    "\n",
    "# Get movement and vision arrays\n",
    "movement_array = grid_map.get_movement_array()\n",
    "vision_array = grid_map.get_vision_array()\n",
    "\n",
    "print(\"\\nMovement Array:\")\n",
    "for row in movement_array:\n",
    "    print(row)\n",
    "\n",
    "print(\"\\nVision Array:\")\n",
    "for row in vision_array:\n",
    "    print(row)\n",
    "\n",
    "# Get nodes in radius\n",
    "radius = 2\n",
    "center_position = (2, 2)\n",
    "nodes_in_radius = grid_map.get_nodes_in_radius(center_position, radius)\n",
    "\n",
    "print(f\"\\nNodes in radius {radius} from position {center_position}:\")\n",
    "for node in nodes_in_radius:\n",
    "    print(f\"Node at position {node.position.value}\")"
   ]
  },
  {
   "cell_type": "code",
   "execution_count": 2,
   "metadata": {},
   "outputs": [
    {
     "data": {
      "text/plain": [
       "Node(name='', id='7b9c8f71-9b71-4239-ac3a-c6120f647b75', position=Position(name='Position', id='8c30f01c-c296-411e-832b-e7fb93e490ef', value=(2, 2)), entities=[GameEntity(name=Player, id=e5c520cd-2ec0-4fe7-9fd2-339c394a0039, blocks_movement=name='BlocksMovement' id='aaf8661e-0191-4cf9-ba06-e620b8be00e7' value=False, blocks_light=name='BlocksLight' id='72a897dc-5e0d-4b7c-8fd5-1a26d7ad022d' value=False, node=Node(id=7b9c8f71-9b71-4239-ac3a-c6120f647b75, position=(2, 2)))], grid_map=<abstractions.goap.spatial.GridMap object at 0x00000146EA7E47F0>)"
      ]
     },
     "execution_count": 2,
     "metadata": {},
     "output_type": "execute_result"
    }
   ],
   "source": [
    "grid_map.get_node((2, 2))"
   ]
  },
  {
   "cell_type": "code",
   "execution_count": null,
   "metadata": {},
   "outputs": [],
   "source": []
  }
 ],
 "metadata": {
  "kernelspec": {
   "display_name": "Python 3",
   "language": "python",
   "name": "python3"
  },
  "language_info": {
   "codemirror_mode": {
    "name": "ipython",
    "version": 3
   },
   "file_extension": ".py",
   "mimetype": "text/x-python",
   "name": "python",
   "nbconvert_exporter": "python",
   "pygments_lexer": "ipython3",
   "version": "3.10.6"
  }
 },
 "nbformat": 4,
 "nbformat_minor": 2
}
