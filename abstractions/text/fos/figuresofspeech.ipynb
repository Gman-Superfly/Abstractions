{
 "cells": [
  {
   "cell_type": "code",
   "execution_count": 182,
   "metadata": {},
   "outputs": [],
   "source": [
    "from pydantic import BaseModel, Field, validator\n",
    "from typing import List, Optional, Dict\n",
    "from openai import OpenAI\n",
    "import instructor\n",
    "from instructor.function_calls import openai_schema\n",
    "import os\n",
    "import re\n",
    "\n",
    "key = os.environ.get(\"OPENAI_SECRET\")\n",
    "client = instructor.patch(OpenAI(api_key=key), mode=instructor.Mode.MD_JSON)"
   ]
  },
  {
   "cell_type": "markdown",
   "metadata": {},
   "source": [
    "Repetitions are linked to time:\n",
    "- slowing the text\n",
    "- extend time\n",
    "- extend suspence\n",
    "- idea of ritual\n",
    "\n",
    "There exist different types of repetitions:\n",
    "- anaphora, epistrophe\n"
   ]
  },
  {
   "cell_type": "code",
   "execution_count": 190,
   "metadata": {},
   "outputs": [
    {
     "name": "stderr",
     "output_type": "stream",
     "text": [
      "/var/folders/t4/4ysf02095vdb1nrl2vtyynmw0000gn/T/ipykernel_93576/1034562624.py:13: PydanticDeprecatedSince20: Pydantic V1 style `@validator` validators are deprecated. You should migrate to Pydantic V2 style `@field_validator` validators, see the migration guide for more details. Deprecated in Pydantic V2.0 to be removed in V3.0. See Pydantic V2 Migration Guide at https://errors.pydantic.dev/2.5/migration/\n",
      "  @validator('repetition_dict')\n"
     ]
    }
   ],
   "source": [
    "class Repetition(BaseModel):\n",
    "    \"\"\"\n",
    "    Figure of speech where the same word or group of words are repeated in successive clauses or sentences. There are different types of repetitions: Anaphoras, Epistrophes, ...\n",
    "    repeated_string: the group of words being repeated, if any\n",
    "    repetition_sentences: all sentences containing the repeated_string, if a repeated string exists\n",
    "    If repeated_string is an empty string, repetition_sentences must be an empty list\n",
    "    \"\"\"\n",
    "    repetition_dict: Optional[Dict[str, List[str]]] = Field(\n",
    "        default=None,\n",
    "        description=\"A dictionary with repeated strings as keys and lists of sentences containing these strings as values.\"\n",
    "    )\n",
    "\n",
    "    @validator('repetition_dict')\n",
    "    def check_repetition_dict(cls, v):\n",
    "        \"\"\"\n",
    "        Validate that each repeated_str in the dictionary occurs more than once across its repetition_sentences.\n",
    "        \"\"\"\n",
    "        for repeated_str, sentences in v.items():\n",
    "            if not sentences:\n",
    "                raise ValueError(f\"The list of sentences for '{repeated_str}' is empty. Each key must have at least one sentence.\")\n",
    "            \n",
    "            concatenated_sentences = ' '.join(sentences)\n",
    "            pattern = re.escape(repeated_str)\n",
    "            matches = re.findall(pattern, concatenated_sentences)\n",
    "            \n",
    "            if len(matches) < 2:\n",
    "                raise ValueError(f\"The string '{repeated_str}' does not occur more than once in its corresponding sentences.\")\n",
    "\n",
    "        return v\n"
   ]
  },
  {
   "cell_type": "code",
   "execution_count": 191,
   "metadata": {},
   "outputs": [],
   "source": [
    "class AnaphoricExpression(Repetition):\n",
    "    \"\"\"\n",
    "    A type of repetition. Occurs when the same word or group of words \n",
    "    is repeated at the beginning of successive clauses or sentences \n",
    "    that might have different endings.\n",
    "    Example text containing this type of repetition.: 'This is what I think. I have a dream that my four little children will not be judged by the color of their skin. I have a dream today.'\n",
    "    \"\"\"\n",
    "    __doc__ = Repetition.__doc__+\"\\n\"+__doc__\n",
    "\n",
    "class EpistrophicExpression(Repetition):\n",
    "    \"\"\"\n",
    "    A type of repetition. Occurs the last word or phrase across successive phrases, clauses or sentences.\n",
    "    repeated_string: the group of words being repeated\n",
    "    container: all sentences containing repeated_string\n",
    "    Example: \"When I was a child, I spoke as a child, I understood as a child, I thought as a child.\"\n",
    "    \"\"\"\n",
    "    __doc__ = Repetition.__doc__+\"\\n\"+__doc__\n",
    "\n"
   ]
  },
  {
   "cell_type": "code",
   "execution_count": 198,
   "metadata": {},
   "outputs": [
    {
     "data": {
      "text/plain": [
       "AnaphoricExpression(repetition_dict={'library': ['So I went to the library.', 'The library.', 'Yes the library.']})"
      ]
     },
     "execution_count": 198,
     "metadata": {},
     "output_type": "execute_result"
    }
   ],
   "source": [
    "resp = client.chat.completions.create(\n",
    "    model=\"gpt-4\",\n",
    "    messages=[\n",
    "        {\n",
    "            \"role\": \"user\",\n",
    "            \"content\": f\"\"\"\n",
    "            Extract\n",
    "            `So I went to the library. The library. ciao. Yes the library.` \n",
    "            \"\"\",\n",
    "        },\n",
    "    ],\n",
    "    response_model=AnaphoricExpression,\n",
    "    temperature=0\n",
    ")\n",
    "resp"
   ]
  },
  {
   "cell_type": "code",
   "execution_count": null,
   "metadata": {},
   "outputs": [
    {
     "data": {
      "text/plain": [
       "{'name': 'Repetition',\n",
       " 'description': \"Figure of speech where the same word or group of words are repeated in successive clauses or sentences.\\nrepeated_string: the group of words being repeated, if any\\nrepetition_sentences: all sentences containing the repeated_string, if a repeated string exists\\nIf repeated_string is an empty string, repetition_sentences must be an empty list\\nExample: 'I am hungry! I am hungry -- she said'\\nrepeated_string: 'I am hungry'\\nrepetition_sentences: ['I am hungry!', 'I am hungry -- she said']\",\n",
       " 'parameters': {'properties': {'repeated_string': {'anyOf': [{'type': 'string'},\n",
       "     {'type': 'null'}],\n",
       "    'default': None,\n",
       "    'description': 'The group of words being repeated, if any',\n",
       "    'title': 'Repeated String'},\n",
       "   'repetition_sentences': {'anyOf': [{'items': {'type': 'string'},\n",
       "      'type': 'array'},\n",
       "     {'type': 'null'}],\n",
       "    'default': None,\n",
       "    'description': 'All sentences containing the repeated_string, if a repeated string exists',\n",
       "    'title': 'Repetition Sentences'}},\n",
       "  'type': 'object',\n",
       "  'required': []}}"
      ]
     },
     "execution_count": 163,
     "metadata": {},
     "output_type": "execute_result"
    }
   ],
   "source": [
    "openai_schema(Repetition).openai_schema"
   ]
  },
  {
   "cell_type": "code",
   "execution_count": null,
   "metadata": {},
   "outputs": [
    {
     "data": {
      "text/plain": [
       "{'name': 'AnaphoricExpression',\n",
       " 'description': \"Figure of speech where the same word or group of words are repeated in successive clauses or sentences.\\nrepeated_string: the group of words being repeated, if any\\nrepetition_sentences: all sentences containing the repeated_string, if a repeated string exists\\nIf repeated_string is an empty string, repetition_sentences must be an empty list\\nThere are different types of repetitions: Anaphoras, Epistrophes, ...\\n\\n\\nA type of repetition. Occurs when the same word or group of words \\nis repeated at the beginning of successive clauses or sentences \\nthat might have different endings.\\nExample text containing this type of repetition.: 'This is what I think. I have a dream that my four little children will not be judged by the color of their skin. I have a dream today.'\",\n",
       " 'parameters': {'properties': {'repeated_string': {'anyOf': [{'type': 'string'},\n",
       "     {'type': 'null'}],\n",
       "    'default': None,\n",
       "    'description': 'The group of words being repeated, if any',\n",
       "    'title': 'Repeated String'},\n",
       "   'repetition_sentences': {'anyOf': [{'items': {'type': 'string'},\n",
       "      'type': 'array'},\n",
       "     {'type': 'null'}],\n",
       "    'default': None,\n",
       "    'description': 'All sentences containing the repeated_string, if a repeated string exists',\n",
       "    'title': 'Repetition Sentences'}},\n",
       "  'type': 'object',\n",
       "  'required': []}}"
      ]
     },
     "execution_count": 171,
     "metadata": {},
     "output_type": "execute_result"
    }
   ],
   "source": [
    "openai_schema(AnaphoricExpression).openai_schema"
   ]
  }
 ],
 "metadata": {
  "kernelspec": {
   "display_name": "tinystories-venv",
   "language": "python",
   "name": "python3"
  },
  "language_info": {
   "codemirror_mode": {
    "name": "ipython",
    "version": 3
   },
   "file_extension": ".py",
   "mimetype": "text/x-python",
   "name": "python",
   "nbconvert_exporter": "python",
   "pygments_lexer": "ipython3",
   "version": "3.11.5"
  }
 },
 "nbformat": 4,
 "nbformat_minor": 2
}
